{
 "cells": [
  {
   "cell_type": "code",
   "execution_count": 1,
   "id": "initial_id",
   "metadata": {
    "ExecuteTime": {
     "end_time": "2025-02-08T07:12:38.522977Z",
     "start_time": "2025-02-08T07:12:19.949569Z"
    },
    "collapsed": true
   },
   "outputs": [],
   "source": [
    "import torch"
   ]
  },
  {
   "cell_type": "code",
   "execution_count": 2,
   "id": "be48cf997e99575c",
   "metadata": {
    "ExecuteTime": {
     "end_time": "2025-02-08T07:23:12.550509Z",
     "start_time": "2025-02-08T07:23:12.507978Z"
    }
   },
   "outputs": [
    {
     "name": "stdout",
     "output_type": "stream",
     "text": [
      "True\n"
     ]
    }
   ],
   "source": [
    "# x = torch.randn(2, 3, requires_grad=True)\n",
    "x = torch.rand(2, 3).requires_grad_()\n",
    "print(x.requires_grad)"
   ]
  },
  {
   "cell_type": "code",
   "execution_count": 3,
   "id": "608e12cb87e98c78",
   "metadata": {
    "ExecuteTime": {
     "end_time": "2025-02-08T07:49:06.013369Z",
     "start_time": "2025-02-08T07:49:05.985184Z"
    }
   },
   "outputs": [
    {
     "data": {
      "text/plain": [
       "(True, False, True)"
      ]
     },
     "execution_count": 3,
     "metadata": {},
     "output_type": "execute_result"
    }
   ],
   "source": [
    "a = torch.randn(2, 3, requires_grad=True)\n",
    "b = torch.zeros(2, 3)\n",
    "c = (a + b).sum()\n",
    "a.requires_grad, b.requires_grad, c.requires_grad"
   ]
  },
  {
   "cell_type": "code",
   "execution_count": 4,
   "id": "7aff315174dffd36",
   "metadata": {
    "ExecuteTime": {
     "end_time": "2025-02-08T07:50:18.559703Z",
     "start_time": "2025-02-08T07:50:18.542718Z"
    }
   },
   "outputs": [
    {
     "data": {
      "text/plain": [
       "(True, True, False)"
      ]
     },
     "execution_count": 4,
     "metadata": {},
     "output_type": "execute_result"
    }
   ],
   "source": [
    "a.is_leaf, b.is_leaf, c.is_leaf"
   ]
  },
  {
   "cell_type": "code",
   "execution_count": 5,
   "id": "f95add408d108880",
   "metadata": {
    "ExecuteTime": {
     "end_time": "2025-02-08T08:12:37.023714Z",
     "start_time": "2025-02-08T08:12:37.001321Z"
    }
   },
   "outputs": [],
   "source": [
    "# autograd 求导\n",
    "# y = x^2 * e^x\n",
    "def f(x):\n",
    "    y = x * x * torch.exp(x)\n",
    "    return y\n",
    "\n",
    "\n",
    "def df(x):\n",
    "    df = 2 * x * torch.exp(x) + x * x * torch.exp(x)\n",
    "    return df"
   ]
  },
  {
   "cell_type": "code",
   "execution_count": 6,
   "id": "53d0dbf7aef256fc",
   "metadata": {
    "ExecuteTime": {
     "end_time": "2025-02-08T08:12:37.506211Z",
     "start_time": "2025-02-08T08:12:37.481543Z"
    }
   },
   "outputs": [
    {
     "data": {
      "text/plain": [
       "tensor([[2.7730e-01, 6.5675e-02, 1.5995e-01],\n",
       "        [2.9430e-01, 8.2385e-04, 2.9834e+00]], grad_fn=<MulBackward0>)"
      ]
     },
     "execution_count": 6,
     "metadata": {},
     "output_type": "execute_result"
    }
   ],
   "source": [
    "x = torch.randn(2, 3, requires_grad=True)\n",
    "y = f(x)\n",
    "y"
   ]
  },
  {
   "cell_type": "code",
   "execution_count": 7,
   "id": "5f858dc1e877108d",
   "metadata": {
    "ExecuteTime": {
     "end_time": "2025-02-08T08:11:41.678583Z",
     "start_time": "2025-02-08T08:11:41.651920Z"
    }
   },
   "outputs": [],
   "source": [
    "y.backward(gradient=torch.ones(y.size()))  # 指定\n",
    "# torch.autograd.backward(y, grad_tensors=torch.ones(y.size()))  # 或者"
   ]
  },
  {
   "cell_type": "code",
   "execution_count": 8,
   "id": "318ba31038bd36ed",
   "metadata": {
    "ExecuteTime": {
     "end_time": "2025-02-08T08:12:41.527662Z",
     "start_time": "2025-02-08T08:12:41.518846Z"
    }
   },
   "outputs": [
    {
     "data": {
      "text/plain": [
       "tensor([[ 1.5803, -0.3761, -0.4573],\n",
       "        [-0.4273, -0.0558,  8.7688]])"
      ]
     },
     "execution_count": 8,
     "metadata": {},
     "output_type": "execute_result"
    }
   ],
   "source": [
    "x.grad"
   ]
  },
  {
   "cell_type": "code",
   "execution_count": 9,
   "id": "b830c5a4764fac2",
   "metadata": {
    "ExecuteTime": {
     "end_time": "2025-02-08T08:12:42.159996Z",
     "start_time": "2025-02-08T08:12:42.148781Z"
    }
   },
   "outputs": [
    {
     "data": {
      "text/plain": [
       "tensor([[ 1.5803, -0.3761, -0.4573],\n",
       "        [-0.4273, -0.0558,  8.7688]], grad_fn=<AddBackward0>)"
      ]
     },
     "execution_count": 9,
     "metadata": {},
     "output_type": "execute_result"
    }
   ],
   "source": [
    "df(x)"
   ]
  },
  {
   "cell_type": "code",
   "execution_count": 10,
   "id": "fc01130d8b34ba7d",
   "metadata": {
    "ExecuteTime": {
     "end_time": "2025-02-08T08:54:09.781092Z",
     "start_time": "2025-02-08T08:54:09.764001Z"
    }
   },
   "outputs": [
    {
     "data": {
      "text/plain": [
       "(False, True, True, True, True)"
      ]
     },
     "execution_count": 10,
     "metadata": {},
     "output_type": "execute_result"
    }
   ],
   "source": [
    "# 计算图\n",
    "x = torch.ones(1)\n",
    "b = torch.rand(1, requires_grad=True)\n",
    "w = torch.rand(1, requires_grad=True)\n",
    "y = w * x  # 等价于 y = w.mul(x)\n",
    "z = y + b  # 等价于 z = y.add(b)\n",
    "\n",
    "x.requires_grad, b.requires_grad, w.requires_grad, y.requires_grad, z.requires_grad"
   ]
  },
  {
   "cell_type": "code",
   "execution_count": 11,
   "id": "593281a76f46c59",
   "metadata": {
    "ExecuteTime": {
     "end_time": "2025-02-08T08:33:37.223666Z",
     "start_time": "2025-02-08T08:33:37.168954Z"
    }
   },
   "outputs": [
    {
     "data": {
      "text/plain": [
       "<AddBackward0 at 0x23d7a4e7fd0>"
      ]
     },
     "execution_count": 11,
     "metadata": {},
     "output_type": "execute_result"
    }
   ],
   "source": [
    "z.grad_fn"
   ]
  },
  {
   "cell_type": "code",
   "execution_count": 12,
   "id": "6b31d2ccd0cf54ee",
   "metadata": {
    "ExecuteTime": {
     "end_time": "2025-02-08T08:33:42.914163Z",
     "start_time": "2025-02-08T08:33:42.898985Z"
    }
   },
   "outputs": [
    {
     "data": {
      "text/plain": [
       "<MulBackward0 at 0x23d79c2b460>"
      ]
     },
     "execution_count": 12,
     "metadata": {},
     "output_type": "execute_result"
    }
   ],
   "source": [
    "y.grad_fn"
   ]
  },
  {
   "cell_type": "code",
   "execution_count": 13,
   "id": "bb72633309f53c6b",
   "metadata": {
    "ExecuteTime": {
     "end_time": "2025-02-08T08:35:06.445847Z",
     "start_time": "2025-02-08T08:35:06.412237Z"
    }
   },
   "outputs": [
    {
     "data": {
      "text/plain": [
       "(None, None, None)"
      ]
     },
     "execution_count": 13,
     "metadata": {},
     "output_type": "execute_result"
    }
   ],
   "source": [
    "w.grad_fn, x.grad_fn, b.grad_fn"
   ]
  },
  {
   "cell_type": "code",
   "execution_count": 14,
   "id": "fa2e006d3f4f02db",
   "metadata": {
    "ExecuteTime": {
     "end_time": "2025-02-08T08:36:13.024980Z",
     "start_time": "2025-02-08T08:36:13.016068Z"
    }
   },
   "outputs": [
    {
     "data": {
      "text/plain": [
       "((<MulBackward0 at 0x23d79c2b460>, 0), (<AccumulateGrad at 0x23d781923e0>, 0))"
      ]
     },
     "execution_count": 14,
     "metadata": {},
     "output_type": "execute_result"
    }
   ],
   "source": [
    "z.grad_fn.next_functions"
   ]
  },
  {
   "cell_type": "code",
   "execution_count": 15,
   "id": "20b58db01fa2713d",
   "metadata": {
    "ExecuteTime": {
     "end_time": "2025-02-08T08:36:10.841833Z",
     "start_time": "2025-02-08T08:36:10.820047Z"
    }
   },
   "outputs": [
    {
     "data": {
      "text/plain": [
       "((<AccumulateGrad at 0x23d77be1060>, 0), (None, 0))"
      ]
     },
     "execution_count": 15,
     "metadata": {},
     "output_type": "execute_result"
    }
   ],
   "source": [
    "y.grad_fn.next_functions"
   ]
  },
  {
   "cell_type": "code",
   "execution_count": 16,
   "id": "e9ffcd02dbb91655",
   "metadata": {
    "ExecuteTime": {
     "end_time": "2025-02-08T08:54:12.298296Z",
     "start_time": "2025-02-08T08:54:12.290121Z"
    }
   },
   "outputs": [],
   "source": [
    "z.backward(retain_graph=True)"
   ]
  },
  {
   "cell_type": "code",
   "execution_count": 17,
   "id": "b3ea735a1ae6e800",
   "metadata": {
    "ExecuteTime": {
     "end_time": "2025-02-08T08:54:15.831817Z",
     "start_time": "2025-02-08T08:54:15.823743Z"
    }
   },
   "outputs": [
    {
     "data": {
      "text/plain": [
       "tensor([1.])"
      ]
     },
     "execution_count": 17,
     "metadata": {},
     "output_type": "execute_result"
    }
   ],
   "source": [
    "w.grad"
   ]
  },
  {
   "cell_type": "code",
   "execution_count": 18,
   "id": "3744e131099a4d8f",
   "metadata": {
    "ExecuteTime": {
     "end_time": "2025-02-08T08:54:22.513402Z",
     "start_time": "2025-02-08T08:54:22.499492Z"
    }
   },
   "outputs": [
    {
     "data": {
      "text/plain": [
       "tensor([2.])"
      ]
     },
     "execution_count": 18,
     "metadata": {},
     "output_type": "execute_result"
    }
   ],
   "source": [
    "z.backward()\n",
    "w.grad"
   ]
  },
  {
   "cell_type": "code",
   "execution_count": 19,
   "id": "e9aee4838f706618",
   "metadata": {
    "ExecuteTime": {
     "end_time": "2025-02-08T09:03:26.213763Z",
     "start_time": "2025-02-08T09:03:26.197431Z"
    }
   },
   "outputs": [
    {
     "data": {
      "text/plain": [
       "(False, True, True)"
      ]
     },
     "execution_count": 19,
     "metadata": {},
     "output_type": "execute_result"
    }
   ],
   "source": [
    "# 关闭反向传播\n",
    "x = torch.ones(1)\n",
    "w = torch.rand(1, requires_grad=True)\n",
    "y = x * w\n",
    "\n",
    "x.requires_grad, w.requires_grad, y.requires_grad  # y.requires_grad = True\n",
    "# (False, True, True)"
   ]
  },
  {
   "cell_type": "code",
   "execution_count": 20,
   "id": "fcf21704b0e7107",
   "metadata": {
    "ExecuteTime": {
     "end_time": "2025-02-08T09:03:54.669634Z",
     "start_time": "2025-02-08T09:03:54.648771Z"
    }
   },
   "outputs": [
    {
     "data": {
      "text/plain": [
       "(False, True, False)"
      ]
     },
     "execution_count": 20,
     "metadata": {},
     "output_type": "execute_result"
    }
   ],
   "source": [
    "with torch.no_grad():\n",
    "    x = torch.ones(1)\n",
    "    w = torch.rand(1, requires_grad=True)\n",
    "    y = x * w\n",
    "\n",
    "x.requires_grad, w.requires_grad, y.requires_grad  # y.requires_grad = False\n",
    "# (False, True, False)"
   ]
  },
  {
   "cell_type": "code",
   "execution_count": 21,
   "id": "cfd5116f71937ab",
   "metadata": {
    "ExecuteTime": {
     "end_time": "2025-02-08T09:05:05.173943Z",
     "start_time": "2025-02-08T09:05:05.151335Z"
    }
   },
   "outputs": [
    {
     "data": {
      "text/plain": [
       "(False, True, False)"
      ]
     },
     "execution_count": 21,
     "metadata": {},
     "output_type": "execute_result"
    }
   ],
   "source": [
    "torch.set_grad_enabled(False)  # 更改默认设置\n",
    "x = torch.ones(1)\n",
    "w = torch.rand(1, requires_grad=True)\n",
    "y = x * w\n",
    "\n",
    "x.requires_grad, w.requires_grad, y.requires_grad  # y.requires_grad = False\n",
    "# (False, True, False)\n",
    "# torch.set_grad_enabled(True) # 更改回默认设置"
   ]
  },
  {
   "cell_type": "code",
   "execution_count": 22,
   "id": "179fbe018d486bb0",
   "metadata": {
    "ExecuteTime": {
     "end_time": "2025-02-08T09:05:26.316262Z",
     "start_time": "2025-02-08T09:05:26.302088Z"
    }
   },
   "outputs": [
    {
     "data": {
      "text/plain": [
       "<torch.autograd.grad_mode.set_grad_enabled at 0x23d7a5a1250>"
      ]
     },
     "execution_count": 22,
     "metadata": {},
     "output_type": "execute_result"
    }
   ],
   "source": [
    "torch.set_grad_enabled(True)  # 更改回默认设置"
   ]
  },
  {
   "cell_type": "code",
   "execution_count": 23,
   "id": "b2fea8550ad55f42",
   "metadata": {
    "ExecuteTime": {
     "end_time": "2025-02-08T09:09:49.750846Z",
     "start_time": "2025-02-08T09:09:49.735970Z"
    }
   },
   "outputs": [
    {
     "data": {
      "text/plain": [
       "(True, False)"
      ]
     },
     "execution_count": 23,
     "metadata": {},
     "output_type": "execute_result"
    }
   ],
   "source": [
    "x = torch.ones(1, requires_grad=True)\n",
    "x_clone = x.data\n",
    "x.requires_grad, x_clone.requires_grad"
   ]
  },
  {
   "cell_type": "code",
   "execution_count": 24,
   "id": "d19fc40ae6287356",
   "metadata": {
    "ExecuteTime": {
     "end_time": "2025-02-08T09:16:43.608885Z",
     "start_time": "2025-02-08T09:16:43.604498Z"
    }
   },
   "outputs": [],
   "source": [
    "# autograd.grad & hook\n",
    "x = torch.ones(1, requires_grad=True)\n",
    "w = torch.ones(1, requires_grad=True)\n",
    "y = w * x  # 非叶子结点\n",
    "z = y.sum()  # 非叶子结点"
   ]
  },
  {
   "cell_type": "code",
   "execution_count": 25,
   "id": "e8dbb85ad82becc0",
   "metadata": {
    "ExecuteTime": {
     "end_time": "2025-02-08T09:16:44.040066Z",
     "start_time": "2025-02-08T09:16:44.033286Z"
    }
   },
   "outputs": [
    {
     "name": "stderr",
     "output_type": "stream",
     "text": [
      "C:\\Users\\15056\\AppData\\Local\\Temp\\ipykernel_5060\\679935330.py:3: UserWarning: The .grad attribute of a Tensor that is not a leaf Tensor is being accessed. Its .grad attribute won't be populated during autograd.backward(). If you indeed want the .grad field to be populated for a non-leaf Tensor, use .retain_grad() on the non-leaf Tensor. If you access the non-leaf Tensor by mistake, make sure you access the leaf Tensor instead. See github.com/pytorch/pytorch/pull/30531 for more informations. (Triggered internally at C:\\actions-runner\\_work\\pytorch\\pytorch\\pytorch\\build\\aten\\src\\ATen/core/TensorBody.h:494.)\n",
      "  x.grad, w.grad, y.grad\n"
     ]
    },
    {
     "data": {
      "text/plain": [
       "(tensor([1.]), tensor([1.]), None)"
      ]
     },
     "execution_count": 25,
     "metadata": {},
     "output_type": "execute_result"
    }
   ],
   "source": [
    "# z.backward()\n",
    "z.backward(retain_graph=True)\n",
    "x.grad, w.grad, y.grad"
   ]
  },
  {
   "cell_type": "code",
   "execution_count": 26,
   "id": "ec47639b0af7c7ea",
   "metadata": {
    "ExecuteTime": {
     "end_time": "2025-02-08T09:20:06.535822Z",
     "start_time": "2025-02-08T09:20:06.507643Z"
    }
   },
   "outputs": [
    {
     "data": {
      "text/plain": [
       "(tensor([1.]),)"
      ]
     },
     "execution_count": 26,
     "metadata": {},
     "output_type": "execute_result"
    }
   ],
   "source": [
    "# 使用 torch.autograd.grad() 直接取梯度\n",
    "x = torch.ones(1, requires_grad=True)\n",
    "w = torch.ones(1, requires_grad=True)\n",
    "y = x * w\n",
    "z = y.sum()\n",
    "\n",
    "torch.autograd.grad(z, y)  # z.backward() 并直接取 y.grad()"
   ]
  },
  {
   "cell_type": "code",
   "execution_count": 27,
   "id": "dfeaddbba5032854",
   "metadata": {
    "ExecuteTime": {
     "end_time": "2025-02-08T09:22:50.811482Z",
     "start_time": "2025-02-08T09:22:50.795240Z"
    }
   },
   "outputs": [
    {
     "name": "stdout",
     "output_type": "stream",
     "text": [
      "y.grad： tensor([1.])\n"
     ]
    }
   ],
   "source": [
    "# hook是一个函数，输入是梯度，不应该有返回值\n",
    "def variable_hook(grad):\n",
    "    print('y.grad：', grad)\n",
    "\n",
    "\n",
    "x = torch.ones(1, requires_grad=True)\n",
    "w = torch.ones(1, requires_grad=True)\n",
    "\n",
    "y = x * w\n",
    "# 注册hook\n",
    "hook_handle = y.register_hook(variable_hook)\n",
    "\n",
    "z = y.sum()\n",
    "z.backward()\n",
    "\n",
    "# 除非每次都要使用 hook，否则用完之后记得移除 hook\n",
    "hook_handle.remove()"
   ]
  },
  {
   "cell_type": "markdown",
   "id": "e23e1d8836d27b6d",
   "metadata": {},
   "source": [
    "线性回归"
   ]
  },
  {
   "cell_type": "code",
   "execution_count": 28,
   "id": "618bc8e577dced06",
   "metadata": {
    "ExecuteTime": {
     "end_time": "2025-02-08T10:19:46.525276Z",
     "start_time": "2025-02-08T10:19:46.424178Z"
    }
   },
   "outputs": [
    {
     "name": "stdout",
     "output_type": "stream",
     "text": [
      "Epoch: 0 / 200, Parameters: w is 4.3238725662231445, b is 1.0881009101867676, Loss: 829.963623046875\n",
      "Epoch: 10 / 200, Parameters: w is 2.4952096939086914, b is 1.434689998626709, Loss: 22.862998962402344\n",
      "Epoch: 20 / 200, Parameters: w is 2.461652994155884, b is 1.9093929529190063, Loss: 26.772274017333984\n",
      "Epoch: 30 / 200, Parameters: w is 2.249239206314087, b is 2.2639613151550293, Loss: 23.66741180419922\n",
      "Epoch: 40 / 200, Parameters: w is 2.204271078109741, b is 2.511821985244751, Loss: 30.240798950195312\n",
      "Epoch: 50 / 200, Parameters: w is 2.119697332382202, b is 2.6827428340911865, Loss: 23.725893020629883\n",
      "Epoch: 60 / 200, Parameters: w is 2.012115716934204, b is 2.7549595832824707, Loss: 18.38174819946289\n",
      "Epoch: 70 / 200, Parameters: w is 2.1640625, b is 2.945894479751587, Loss: 16.762752532958984\n",
      "Epoch: 80 / 200, Parameters: w is 2.1478612422943115, b is 2.889162063598633, Loss: 14.00448226928711\n",
      "Epoch: 90 / 200, Parameters: w is 1.9468457698822021, b is 2.880192995071411, Loss: 9.304945945739746\n",
      "Epoch: 100 / 200, Parameters: w is 2.0835964679718018, b is 2.9122979640960693, Loss: 15.472692489624023\n",
      "Epoch: 110 / 200, Parameters: w is 2.1020069122314453, b is 2.892526865005493, Loss: 10.735383033752441\n",
      "Epoch: 120 / 200, Parameters: w is 1.9653863906860352, b is 2.8870577812194824, Loss: 20.908363342285156\n",
      "Epoch: 130 / 200, Parameters: w is 2.044848918914795, b is 2.9590415954589844, Loss: 18.27814483642578\n",
      "Epoch: 140 / 200, Parameters: w is 1.9842987060546875, b is 2.875162124633789, Loss: 11.669442176818848\n",
      "Epoch: 150 / 200, Parameters: w is 2.113189935684204, b is 3.0159969329833984, Loss: 18.068410873413086\n",
      "Epoch: 160 / 200, Parameters: w is 1.9963198900222778, b is 2.929171085357666, Loss: 12.909664154052734\n",
      "Epoch: 170 / 200, Parameters: w is 2.1057674884796143, b is 2.9733223915100098, Loss: 21.05556869506836\n",
      "Epoch: 180 / 200, Parameters: w is 2.070831537246704, b is 3.0448567867279053, Loss: 10.260936737060547\n",
      "Epoch: 190 / 200, Parameters: w is 1.8480159044265747, b is 2.9255170822143555, Loss: 32.224422454833984\n",
      "Epoch: 200 / 200, Parameters: w is 2.050056219100952, b is 2.978024959564209, Loss: 25.451929092407227\n"
     ]
    }
   ],
   "source": [
    "import torch\n",
    "import numpy as np\n",
    "from matplotlib import pyplot as plt\n",
    "%matplotlib inline\n",
    "\n",
    "def get_fake_data(batch_size=16):\n",
    "    # 产生随机数据：y = 2 * x + 3，加上噪声\n",
    "    x = torch.rand(batch_size, 1) * 5  # 扩大一些，以免噪声太明显\n",
    "    y = x * 2 + 3 + torch.randn(batch_size, 1)\n",
    "    return x, y\n",
    "\n",
    "# 设置随机数种子，保证结果可复现\n",
    "torch.manual_seed(1000)\n",
    "\n",
    "x, y = get_fake_data()\n",
    "\n",
    "# plt.scatter(x.squeeze().numpy(), y.squeeze().numpy())\n",
    "# plt.show()\n",
    "\n",
    "# 初始化\n",
    "w = torch.rand(1, 1, requires_grad=True)  # w.shape = torch.Size([1, 1]) 因为 [8, 1] * [1, 1] -> [batch_size, 1] 和 y 维度相同\n",
    "b = torch.zeros(1, 1, requires_grad=True)\n",
    "\n",
    "losses = np.zeros(200)  # 存储损失值\n",
    "lr = 0.005  # 学习率\n",
    "EPOCHS = 200  # 迭代次数\n",
    "\n",
    "for epoch in range(EPOCHS):\n",
    "    x, y = get_fake_data(batch_size=32)\n",
    "\n",
    "    # 前向传播 计算损失\n",
    "    y_pred = x.mm(w) + b.expand_as(y)  # expand_as(y) 是广播机制，即将 b 复制成和 y 相同性质的张量 [1, 1] -> [batch_size, 1]\n",
    "    loss = 0.5 * (y_pred - y) ** 2  # MSE 均方误差，这是对张量 y 逐元素计算\n",
    "    loss = loss.sum()  # 累和成一个数\n",
    "    losses[epoch] = loss.item()\n",
    "\n",
    "    # 反向传播\n",
    "    loss.backward()\n",
    "\n",
    "    ''' 取 .data 是因为每一轮是根据随机生成的 batch_size 个点训练，但我们希望存储的是全局参数 w, b '''\n",
    "    ''' 故每次依据样本点更新全局参数，而不是改批次的参数 '''\n",
    "    # 更新参数\n",
    "    w.data.sub_(lr * w.grad.data)  # 或者 w.data = w.data - lr * w.grad.data\n",
    "    b.data.sub_(lr * b.grad.data)\n",
    "\n",
    "    # 梯度清零\n",
    "    w.grad.data.zero_()  # 不清零，梯度会不断累加\n",
    "    b.grad.data.zero_()\n",
    "\n",
    "    if epoch % 10 == 0:  # 每隔 10 次扔出当前训练情况\n",
    "        print(\"Epoch: {} / {}, Parameters: w is {}, b is {}, Loss: {}\".format(epoch, EPOCHS, w.item(), b.item(), losses[epoch]))\n",
    "\n",
    "print(\"Epoch: {} / {}, Parameters: w is {}, b is {}, Loss: {}\".format(EPOCHS, EPOCHS, w.item(), b.item(), losses[-1]))"
   ]
  },
  {
   "cell_type": "code",
   "execution_count": 29,
   "id": "fce76b9a56a3b81b",
   "metadata": {
    "ExecuteTime": {
     "end_time": "2025-02-08T10:19:55.607718Z",
     "start_time": "2025-02-08T10:19:55.426220Z"
    }
   },
   "outputs": [
    {
     "data": {
      "image/png": "[encoded data removed]",
      "text/plain": [
       "<Figure size 640x480 with 1 Axes>"
      ]
     },
     "metadata": {},
     "output_type": "display_data"
    }
   ],
   "source": [
    "plt.plot(losses)\n",
    "plt.show()"
   ]
  },
  {
   "cell_type": "markdown",
   "id": "9dc8de58e5360ab2",
   "metadata": {},
   "source": [
    "GPU 加速"
   ]
  },
  {
   "cell_type": "code",
   "execution_count": 30,
   "id": "6a4ee46eb68fe243",
   "metadata": {
    "ExecuteTime": {
     "end_time": "2025-02-08T10:23:06.033752Z",
     "start_time": "2025-02-08T10:23:05.857008Z"
    }
   },
   "outputs": [
    {
     "name": "stdout",
     "output_type": "stream",
     "text": [
      "Using device: cuda\n",
      "Epoch: 0 / 200, Parameters: w is 3.928750514984131, b is 1.139615774154663, Loss: 912.879150390625\n",
      "Epoch: 10 / 200, Parameters: w is 2.3561320304870605, b is 1.4272336959838867, Loss: 36.63234329223633\n",
      "Epoch: 20 / 200, Parameters: w is 2.383948802947998, b is 1.9468510150909424, Loss: 17.98131561279297\n",
      "Epoch: 30 / 200, Parameters: w is 2.189819574356079, b is 2.2746236324310303, Loss: 20.94324493408203\n",
      "Epoch: 40 / 200, Parameters: w is 1.945842981338501, b is 2.3835673332214355, Loss: 32.365966796875\n",
      "Epoch: 50 / 200, Parameters: w is 2.2329907417297363, b is 2.6647489070892334, Loss: 21.734416961669922\n",
      "Epoch: 60 / 200, Parameters: w is 2.099648952484131, b is 2.772085428237915, Loss: 11.034501075744629\n",
      "Epoch: 70 / 200, Parameters: w is 2.1312642097473145, b is 2.880796432495117, Loss: 22.206199645996094\n",
      "Epoch: 80 / 200, Parameters: w is 2.080796957015991, b is 2.8835976123809814, Loss: 12.214717864990234\n",
      "Epoch: 90 / 200, Parameters: w is 1.9547618627548218, b is 2.842278480529785, Loss: 18.123374938964844\n",
      "Epoch: 100 / 200, Parameters: w is 2.0560808181762695, b is 2.912860155105591, Loss: 20.465538024902344\n",
      "Epoch: 110 / 200, Parameters: w is 2.160963296890259, b is 2.979774236679077, Loss: 16.610546112060547\n",
      "Epoch: 120 / 200, Parameters: w is 1.9477016925811768, b is 2.9420671463012695, Loss: 16.645687103271484\n",
      "Epoch: 130 / 200, Parameters: w is 2.003891706466675, b is 2.995565414428711, Loss: 16.013378143310547\n",
      "Epoch: 140 / 200, Parameters: w is 2.0453598499298096, b is 3.008617877960205, Loss: 13.718013763427734\n",
      "Epoch: 150 / 200, Parameters: w is 1.9914700984954834, b is 3.0134785175323486, Loss: 16.923755645751953\n",
      "Epoch: 160 / 200, Parameters: w is 2.107229471206665, b is 3.0238375663757324, Loss: 25.916522979736328\n",
      "Epoch: 170 / 200, Parameters: w is 1.9680664539337158, b is 2.9998466968536377, Loss: 14.153923034667969\n",
      "Epoch: 180 / 200, Parameters: w is 1.8566919565200806, b is 2.964627265930176, Loss: 22.4814453125\n",
      "Epoch: 190 / 200, Parameters: w is 1.9238905906677246, b is 3.0129334926605225, Loss: 15.631810188293457\n",
      "Epoch: 200 / 200, Parameters: w is 2.170611619949341, b is 3.090344190597534, Loss: 12.217045783996582\n"
     ]
    }
   ],
   "source": [
    "import torch\n",
    "import numpy as np\n",
    "from matplotlib import pyplot as plt\n",
    "\n",
    "# 检查是否有可用的 GPU\n",
    "device = torch.device(\"cuda\" if torch.cuda.is_available() else \"cpu\")\n",
    "print(f\"Using device: {device}\")\n",
    "\n",
    "def get_fake_data(batch_size=16):\n",
    "    # 产生随机数据：y = 2 * x + 3，加上噪声\n",
    "    x = torch.rand(batch_size, 1, device=device) * 5  # 将数据移动到 GPU\n",
    "    y = x * 2 + 3 + torch.randn(batch_size, 1, device=device)  # 将数据移动到 GPU\n",
    "    return x, y\n",
    "\n",
    "# 设置随机数种子，保证结果可复现\n",
    "torch.manual_seed(1000)\n",
    "if torch.cuda.is_available():\n",
    "    torch.cuda.manual_seed(1000)  # 为 CUDA 设置随机种子\n",
    "\n",
    "# 初始化参数，并将参数移动到 GPU\n",
    "w = torch.rand(1, 1, requires_grad=True, device=device)  # 将 w 移动到 GPU\n",
    "b = torch.zeros(1, 1, requires_grad=True, device=device)  # 将 b 移动到 GPU\n",
    "\n",
    "losses = np.zeros(200)  # 存储损失值\n",
    "lr = 0.005  # 学习率\n",
    "EPOCHS = 200  # 迭代次数\n",
    "\n",
    "for epoch in range(EPOCHS):\n",
    "    x, y = get_fake_data(batch_size=32)\n",
    "\n",
    "    # 前向传播 计算损失\n",
    "    y_pred = x.mm(w) + b.expand_as(y)  # expand_as(y) 是广播机制，即将 b 复制成和 y 相同性质的张量 [1, 1] -> [batch_size, 1]\n",
    "    loss = 0.5 * (y_pred - y) ** 2  # MSE 均方误差，这是对张量 y 逐元素计算\n",
    "    loss = loss.sum()  # 累和成一个数\n",
    "    losses[epoch] = loss.item()\n",
    "\n",
    "    # 反向传播\n",
    "    loss.backward()\n",
    "\n",
    "    # 更新参数\n",
    "    w.data.sub_(lr * w.grad.data)  # 或者 w.data = w.data - lr * w.grad.data\n",
    "    b.data.sub_(lr * b.grad.data)\n",
    "\n",
    "    # 梯度清零\n",
    "    w.grad.data.zero_()  # 不清零，梯度会不断累加\n",
    "    b.grad.data.zero_()\n",
    "\n",
    "    if epoch % 10 == 0:  # 每隔 10 次打印当前训练情况\n",
    "        print(\"Epoch: {} / {}, Parameters: w is {}, b is {}, Loss: {}\".format(epoch, EPOCHS, w.item(), b.item(), losses[epoch]))\n",
    "\n",
    "print(\"Epoch: {} / {}, Parameters: w is {}, b is {}, Loss: {}\".format(EPOCHS, EPOCHS, w.item(), b.item(), losses[-1]))"
   ]
  },
  {
   "cell_type": "code",
   "execution_count": 31,
   "id": "d8f713600d3747b6",
   "metadata": {
    "ExecuteTime": {
     "end_time": "2025-02-08T10:23:17.107793Z",
     "start_time": "2025-02-08T10:23:16.910731Z"
    }
   },
   "outputs": [
    {
     "data": {
      "image/png": "[encoded data removed]",
      "text/plain": [
       "<Figure size 640x480 with 1 Axes>"
      ]
     },
     "metadata": {},
     "output_type": "display_data"
    }
   ],
   "source": [
    "plt.plot(losses)\n",
    "plt.show()"
   ]
  },
  {
   "cell_type": "code",
   "execution_count": null,
   "id": "01133bd2",
   "metadata": {},
   "outputs": [],
   "source": []
  }
 ],
 "metadata": {
  "kernelspec": {
   "display_name": "pytorch",
   "language": "python",
   "name": "python3"
  },
  "language_info": {
   "codemirror_mode": {
    "name": "ipython",
    "version": 3
   },
   "file_extension": ".py",
   "mimetype": "text/x-python",
   "name": "python",
   "nbconvert_exporter": "python",
   "pygments_lexer": "ipython3",
   "version": "3.12.9"
  }
 },
 "nbformat": 4,
 "nbformat_minor": 5
}
