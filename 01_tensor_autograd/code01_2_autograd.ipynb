{
 "cells": [
  {
   "cell_type": "code",
   "execution_count": 1,
   "id": "initial_id",
   "metadata": {
    "ExecuteTime": {
     "end_time": "2025-02-08T07:12:38.522977Z",
     "start_time": "2025-02-08T07:12:19.949569Z"
    },
    "collapsed": true
   },
   "source": [
    "import torch"
   ],
   "outputs": []
  },
  {
   "cell_type": "code",
   "execution_count": 2,
   "id": "be48cf997e99575c",
   "metadata": {
    "ExecuteTime": {
     "end_time": "2025-02-08T07:23:12.550509Z",
     "start_time": "2025-02-08T07:23:12.507978Z"
    }
   },
   "source": [
    "# x = torch.randn(2, 3, requires_grad=True)\n",
    "x = torch.rand(2, 3).requires_grad_()\n",
    "print(x.requires_grad)"
   ],
   "outputs": []
  },
  {
   "cell_type": "code",
   "execution_count": 3,
   "id": "608e12cb87e98c78",
   "metadata": {
    "ExecuteTime": {
     "end_time": "2025-02-08T07:49:06.013369Z",
     "start_time": "2025-02-08T07:49:05.985184Z"
    }
   },
   "source": [
    "a = torch.randn(2, 3, requires_grad=True)\n",
    "b = torch.zeros(2, 3)\n",
    "c = (a + b).sum()\n",
    "a.requires_grad, b.requires_grad, c.requires_grad"
   ],
   "outputs": []
  },
  {
   "cell_type": "code",
   "execution_count": 4,
   "id": "7aff315174dffd36",
   "metadata": {
    "ExecuteTime": {
     "end_time": "2025-02-08T07:50:18.559703Z",
     "start_time": "2025-02-08T07:50:18.542718Z"
    }
   },
   "source": [
    "a.is_leaf, b.is_leaf, c.is_leaf"
   ],
   "outputs": []
  },
  {
   "cell_type": "code",
   "execution_count": 5,
   "id": "f95add408d108880",
   "metadata": {
    "ExecuteTime": {
     "end_time": "2025-02-08T08:12:37.023714Z",
     "start_time": "2025-02-08T08:12:37.001321Z"
    }
   },
   "source": [
    "# autograd 求导\n",
    "# y = x^2 * e^x\n",
    "def f(x):\n",
    "    y = x * x * torch.exp(x)\n",
    "    return y\n",
    "\n",
    "\n",
    "def df(x):\n",
    "    df = 2 * x * torch.exp(x) + x * x * torch.exp(x)\n",
    "    return df"
   ],
   "outputs": []
  },
  {
   "cell_type": "code",
   "execution_count": 6,
   "id": "53d0dbf7aef256fc",
   "metadata": {
    "ExecuteTime": {
     "end_time": "2025-02-08T08:12:37.506211Z",
     "start_time": "2025-02-08T08:12:37.481543Z"
    }
   },
   "source": [
    "x = torch.randn(2, 3, requires_grad=True)\n",
    "y = f(x)\n",
    "y"
   ],
   "outputs": []
  },
  {
   "cell_type": "code",
   "execution_count": 7,
   "id": "5f858dc1e877108d",
   "metadata": {
    "ExecuteTime": {
     "end_time": "2025-02-08T08:11:41.678583Z",
     "start_time": "2025-02-08T08:11:41.651920Z"
    }
   },
   "source": [
    "y.backward(gradient=torch.ones(y.size()))  # 指定\n",
    "# torch.autograd.backward(y, grad_tensors=torch.ones(y.size()))  # 或者"
   ],
   "outputs": []
  },
  {
   "cell_type": "code",
   "execution_count": 8,
   "id": "318ba31038bd36ed",
   "metadata": {
    "ExecuteTime": {
     "end_time": "2025-02-08T08:12:41.527662Z",
     "start_time": "2025-02-08T08:12:41.518846Z"
    }
   },
   "source": [
    "x.grad"
   ],
   "outputs": []
  },
  {
   "cell_type": "code",
   "execution_count": 9,
   "id": "b830c5a4764fac2",
   "metadata": {
    "ExecuteTime": {
     "end_time": "2025-02-08T08:12:42.159996Z",
     "start_time": "2025-02-08T08:12:42.148781Z"
    }
   },
   "source": [
    "df(x)"
   ],
   "outputs": []
  },
  {
   "cell_type": "code",
   "execution_count": 10,
   "id": "fc01130d8b34ba7d",
   "metadata": {
    "ExecuteTime": {
     "end_time": "2025-02-08T08:54:09.781092Z",
     "start_time": "2025-02-08T08:54:09.764001Z"
    }
   },
   "source": [
    "# 计算图\n",
    "x = torch.ones(1)\n",
    "b = torch.rand(1, requires_grad=True)\n",
    "w = torch.rand(1, requires_grad=True)\n",
    "y = w * x  # 等价于 y = w.mul(x)\n",
    "z = y + b  # 等价于 z = y.add(b)\n",
    "\n",
    "x.requires_grad, b.requires_grad, w.requires_grad, y.requires_grad, z.requires_grad"
   ],
   "outputs": []
  },
  {
   "cell_type": "code",
   "execution_count": 11,
   "id": "593281a76f46c59",
   "metadata": {
    "ExecuteTime": {
     "end_time": "2025-02-08T08:33:37.223666Z",
     "start_time": "2025-02-08T08:33:37.168954Z"
    }
   },
   "source": [
    "z.grad_fn"
   ],
   "outputs": []
  },
  {
   "cell_type": "code",
   "execution_count": 12,
   "id": "6b31d2ccd0cf54ee",
   "metadata": {
    "ExecuteTime": {
     "end_time": "2025-02-08T08:33:42.914163Z",
     "start_time": "2025-02-08T08:33:42.898985Z"
    }
   },
   "source": [
    "y.grad_fn"
   ],
   "outputs": []
  },
  {
   "cell_type": "code",
   "execution_count": 13,
   "id": "bb72633309f53c6b",
   "metadata": {
    "ExecuteTime": {
     "end_time": "2025-02-08T08:35:06.445847Z",
     "start_time": "2025-02-08T08:35:06.412237Z"
    }
   },
   "source": [
    "w.grad_fn, x.grad_fn, b.grad_fn"
   ],
   "outputs": []
  },
  {
   "cell_type": "code",
   "execution_count": 14,
   "id": "fa2e006d3f4f02db",
   "metadata": {
    "ExecuteTime": {
     "end_time": "2025-02-08T08:36:13.024980Z",
     "start_time": "2025-02-08T08:36:13.016068Z"
    }
   },
   "source": [
    "z.grad_fn.next_functions"
   ],
   "outputs": []
  },
  {
   "cell_type": "code",
   "execution_count": 15,
   "id": "20b58db01fa2713d",
   "metadata": {
    "ExecuteTime": {
     "end_time": "2025-02-08T08:36:10.841833Z",
     "start_time": "2025-02-08T08:36:10.820047Z"
    }
   },
   "source": [
    "y.grad_fn.next_functions"
   ],
   "outputs": []
  },
  {
   "cell_type": "code",
   "execution_count": 16,
   "id": "e9ffcd02dbb91655",
   "metadata": {
    "ExecuteTime": {
     "end_time": "2025-02-08T08:54:12.298296Z",
     "start_time": "2025-02-08T08:54:12.290121Z"
    }
   },
   "source": [
    "z.backward(retain_graph=True)"
   ],
   "outputs": []
  },
  {
   "cell_type": "code",
   "execution_count": 17,
   "id": "b3ea735a1ae6e800",
   "metadata": {
    "ExecuteTime": {
     "end_time": "2025-02-08T08:54:15.831817Z",
     "start_time": "2025-02-08T08:54:15.823743Z"
    }
   },
   "source": [
    "w.grad"
   ],
   "outputs": []
  },
  {
   "cell_type": "code",
   "execution_count": 18,
   "id": "3744e131099a4d8f",
   "metadata": {
    "ExecuteTime": {
     "end_time": "2025-02-08T08:54:22.513402Z",
     "start_time": "2025-02-08T08:54:22.499492Z"
    }
   },
   "source": [
    "z.backward()\n",
    "w.grad"
   ],
   "outputs": []
  },
  {
   "cell_type": "code",
   "execution_count": 19,
   "id": "e9aee4838f706618",
   "metadata": {
    "ExecuteTime": {
     "end_time": "2025-02-08T09:03:26.213763Z",
     "start_time": "2025-02-08T09:03:26.197431Z"
    }
   },
   "source": [
    "# 关闭反向传播\n",
    "x = torch.ones(1)\n",
    "w = torch.rand(1, requires_grad=True)\n",
    "y = x * w\n",
    "\n",
    "x.requires_grad, w.requires_grad, y.requires_grad  # y.requires_grad = True\n",
    "# (False, True, True)"
   ],
   "outputs": []
  },
  {
   "cell_type": "code",
   "execution_count": 20,
   "id": "fcf21704b0e7107",
   "metadata": {
    "ExecuteTime": {
     "end_time": "2025-02-08T09:03:54.669634Z",
     "start_time": "2025-02-08T09:03:54.648771Z"
    }
   },
   "source": [
    "with torch.no_grad():\n",
    "    x = torch.ones(1)\n",
    "    w = torch.rand(1, requires_grad=True)\n",
    "    y = x * w\n",
    "\n",
    "x.requires_grad, w.requires_grad, y.requires_grad  # y.requires_grad = False\n",
    "# (False, True, False)"
   ],
   "outputs": []
  },
  {
   "cell_type": "code",
   "execution_count": 21,
   "id": "cfd5116f71937ab",
   "metadata": {
    "ExecuteTime": {
     "end_time": "2025-02-08T09:05:05.173943Z",
     "start_time": "2025-02-08T09:05:05.151335Z"
    }
   },
   "source": [
    "torch.set_grad_enabled(False)  # 更改默认设置\n",
    "x = torch.ones(1)\n",
    "w = torch.rand(1, requires_grad=True)\n",
    "y = x * w\n",
    "\n",
    "x.requires_grad, w.requires_grad, y.requires_grad  # y.requires_grad = False\n",
    "# (False, True, False)\n",
    "# torch.set_grad_enabled(True) # 更改回默认设置"
   ],
   "outputs": []
  },
  {
   "cell_type": "code",
   "execution_count": 22,
   "id": "179fbe018d486bb0",
   "metadata": {
    "ExecuteTime": {
     "end_time": "2025-02-08T09:05:26.316262Z",
     "start_time": "2025-02-08T09:05:26.302088Z"
    }
   },
   "source": [
    "torch.set_grad_enabled(True)  # 更改回默认设置"
   ],
   "outputs": []
  },
  {
   "cell_type": "code",
   "execution_count": 23,
   "id": "b2fea8550ad55f42",
   "metadata": {
    "ExecuteTime": {
     "end_time": "2025-02-08T09:09:49.750846Z",
     "start_time": "2025-02-08T09:09:49.735970Z"
    }
   },
   "source": [
    "x = torch.ones(1, requires_grad=True)\n",
    "x_clone = x.data\n",
    "x.requires_grad, x_clone.requires_grad"
   ],
   "outputs": []
  },
  {
   "cell_type": "code",
   "execution_count": 24,
   "id": "d19fc40ae6287356",
   "metadata": {
    "ExecuteTime": {
     "end_time": "2025-02-08T09:16:43.608885Z",
     "start_time": "2025-02-08T09:16:43.604498Z"
    }
   },
   "source": [
    "# autograd.grad & hook\n",
    "x = torch.ones(1, requires_grad=True)\n",
    "w = torch.ones(1, requires_grad=True)\n",
    "y = w * x  # 非叶子结点\n",
    "z = y.sum()  # 非叶子结点"
   ],
   "outputs": []
  },
  {
   "cell_type": "code",
   "execution_count": 25,
   "id": "e8dbb85ad82becc0",
   "metadata": {
    "ExecuteTime": {
     "end_time": "2025-02-08T09:16:44.040066Z",
     "start_time": "2025-02-08T09:16:44.033286Z"
    }
   },
   "source": [
    "# z.backward()\n",
    "z.backward(retain_graph=True)\n",
    "x.grad, w.grad, y.grad"
   ],
   "outputs": []
  },
  {
   "cell_type": "code",
   "execution_count": 26,
   "id": "ec47639b0af7c7ea",
   "metadata": {
    "ExecuteTime": {
     "end_time": "2025-02-08T09:20:06.535822Z",
     "start_time": "2025-02-08T09:20:06.507643Z"
    }
   },
   "source": [
    "# 使用 torch.autograd.grad() 直接取梯度\n",
    "x = torch.ones(1, requires_grad=True)\n",
    "w = torch.ones(1, requires_grad=True)\n",
    "y = x * w\n",
    "z = y.sum()\n",
    "\n",
    "torch.autograd.grad(z, y)  # z.backward() 并直接取 y.grad()"
   ],
   "outputs": []
  },
  {
   "cell_type": "code",
   "execution_count": 27,
   "id": "dfeaddbba5032854",
   "metadata": {
    "ExecuteTime": {
     "end_time": "2025-02-08T09:22:50.811482Z",
     "start_time": "2025-02-08T09:22:50.795240Z"
    }
   },
   "source": [
    "# hook是一个函数，输入是梯度，不应该有返回值\n",
    "def variable_hook(grad):\n",
    "    print('y.grad：', grad)\n",
    "\n",
    "\n",
    "x = torch.ones(1, requires_grad=True)\n",
    "w = torch.ones(1, requires_grad=True)\n",
    "\n",
    "y = x * w\n",
    "# 注册hook\n",
    "hook_handle = y.register_hook(variable_hook)\n",
    "\n",
    "z = y.sum()\n",
    "z.backward()\n",
    "\n",
    "# 除非每次都要使用 hook，否则用完之后记得移除 hook\n",
    "hook_handle.remove()"
   ],
   "outputs": []
  },
  {
   "cell_type": "markdown",
   "id": "e23e1d8836d27b6d",
   "metadata": {},
   "source": [
    "线性回归"
   ]
  },
  {
   "cell_type": "code",
   "execution_count": 28,
   "id": "618bc8e577dced06",
   "metadata": {
    "ExecuteTime": {
     "end_time": "2025-02-08T10:19:46.525276Z",
     "start_time": "2025-02-08T10:19:46.424178Z"
    }
   },
   "source": [
    "import torch\n",
    "import numpy as np\n",
    "from matplotlib import pyplot as plt\n",
    "%matplotlib inline\n",
    "\n",
    "def get_fake_data(batch_size=16):\n",
    "    # 产生随机数据：y = 2 * x + 3，加上噪声\n",
    "    x = torch.rand(batch_size, 1) * 5  # 扩大一些，以免噪声太明显\n",
    "    y = x * 2 + 3 + torch.randn(batch_size, 1)\n",
    "    return x, y\n",
    "\n",
    "# 设置随机数种子，保证结果可复现\n",
    "torch.manual_seed(1000)\n",
    "\n",
    "x, y = get_fake_data()\n",
    "\n",
    "# plt.scatter(x.squeeze().numpy(), y.squeeze().numpy())\n",
    "# plt.show()\n",
    "\n",
    "# 初始化\n",
    "w = torch.rand(1, 1, requires_grad=True)  # w.shape = torch.Size([1, 1]) 因为 [8, 1] * [1, 1] -> [batch_size, 1] 和 y 维度相同\n",
    "b = torch.zeros(1, 1, requires_grad=True)\n",
    "\n",
    "losses = np.zeros(200)  # 存储损失值\n",
    "lr = 0.005  # 学习率\n",
    "EPOCHS = 200  # 迭代次数\n",
    "\n",
    "for epoch in range(EPOCHS):\n",
    "    x, y = get_fake_data(batch_size=32)\n",
    "\n",
    "    # 前向传播 计算损失\n",
    "    y_pred = x.mm(w) + b.expand_as(y)  # expand_as(y) 是广播机制，即将 b 复制成和 y 相同性质的张量 [1, 1] -> [batch_size, 1]\n",
    "    loss = 0.5 * (y_pred - y) ** 2  # MSE 均方误差，这是对张量 y 逐元素计算\n",
    "    loss = loss.sum()  # 累和成一个数\n",
    "    losses[epoch] = loss.item()\n",
    "\n",
    "    # 反向传播\n",
    "    loss.backward()\n",
    "\n",
    "    ''' 取 .data 是因为每一轮是根据随机生成的 batch_size 个点训练，但我们希望存储的是全局参数 w, b '''\n",
    "    ''' 故每次依据样本点更新全局参数，而不是改批次的参数 '''\n",
    "    # 更新参数\n",
    "    w.data.sub_(lr * w.grad.data)  # 或者 w.data = w.data - lr * w.grad.data\n",
    "    b.data.sub_(lr * b.grad.data)\n",
    "\n",
    "    # 梯度清零\n",
    "    w.grad.data.zero_()  # 不清零，梯度会不断累加\n",
    "    b.grad.data.zero_()\n",
    "\n",
    "    if epoch % 10 == 0:  # 每隔 10 次扔出当前训练情况\n",
    "        print(\"Epoch: {} / {}, Parameters: w is {}, b is {}, Loss: {}\".format(epoch, EPOCHS, w.item(), b.item(), losses[epoch]))\n",
    "\n",
    "print(\"Epoch: {} / {}, Parameters: w is {}, b is {}, Loss: {}\".format(EPOCHS, EPOCHS, w.item(), b.item(), losses[-1]))"
   ],
   "outputs": []
  },
  {
   "cell_type": "code",
   "execution_count": 29,
   "id": "fce76b9a56a3b81b",
   "metadata": {
    "ExecuteTime": {
     "end_time": "2025-02-08T10:19:55.607718Z",
     "start_time": "2025-02-08T10:19:55.426220Z"
    }
   },
   "source": [
    "plt.plot(losses)\n",
    "plt.show()"
   ],
   "outputs": []
  },
  {
   "cell_type": "markdown",
   "id": "9dc8de58e5360ab2",
   "metadata": {},
   "source": [
    "GPU 加速"
   ]
  },
  {
   "cell_type": "code",
   "execution_count": 30,
   "id": "6a4ee46eb68fe243",
   "metadata": {
    "ExecuteTime": {
     "end_time": "2025-02-08T10:23:06.033752Z",
     "start_time": "2025-02-08T10:23:05.857008Z"
    }
   },
   "source": [
    "import torch\n",
    "import numpy as np\n",
    "from matplotlib import pyplot as plt\n",
    "\n",
    "# 检查是否有可用的 GPU\n",
    "device = torch.device(\"cuda\" if torch.cuda.is_available() else \"cpu\")\n",
    "print(f\"Using device: {device}\")\n",
    "\n",
    "def get_fake_data(batch_size=16):\n",
    "    # 产生随机数据：y = 2 * x + 3，加上噪声\n",
    "    x = torch.rand(batch_size, 1, device=device) * 5  # 将数据移动到 GPU\n",
    "    y = x * 2 + 3 + torch.randn(batch_size, 1, device=device)  # 将数据移动到 GPU\n",
    "    return x, y\n",
    "\n",
    "# 设置随机数种子，保证结果可复现\n",
    "torch.manual_seed(1000)\n",
    "if torch.cuda.is_available():\n",
    "    torch.cuda.manual_seed(1000)  # 为 CUDA 设置随机种子\n",
    "\n",
    "# 初始化参数，并将参数移动到 GPU\n",
    "w = torch.rand(1, 1, requires_grad=True, device=device)  # 将 w 移动到 GPU\n",
    "b = torch.zeros(1, 1, requires_grad=True, device=device)  # 将 b 移动到 GPU\n",
    "\n",
    "losses = np.zeros(200)  # 存储损失值\n",
    "lr = 0.005  # 学习率\n",
    "EPOCHS = 200  # 迭代次数\n",
    "\n",
    "for epoch in range(EPOCHS):\n",
    "    x, y = get_fake_data(batch_size=32)\n",
    "\n",
    "    # 前向传播 计算损失\n",
    "    y_pred = x.mm(w) + b.expand_as(y)  # expand_as(y) 是广播机制，即将 b 复制成和 y 相同性质的张量 [1, 1] -> [batch_size, 1]\n",
    "    loss = 0.5 * (y_pred - y) ** 2  # MSE 均方误差，这是对张量 y 逐元素计算\n",
    "    loss = loss.sum()  # 累和成一个数\n",
    "    losses[epoch] = loss.item()\n",
    "\n",
    "    # 反向传播\n",
    "    loss.backward()\n",
    "\n",
    "    # 更新参数\n",
    "    w.data.sub_(lr * w.grad.data)  # 或者 w.data = w.data - lr * w.grad.data\n",
    "    b.data.sub_(lr * b.grad.data)\n",
    "\n",
    "    # 梯度清零\n",
    "    w.grad.data.zero_()  # 不清零，梯度会不断累加\n",
    "    b.grad.data.zero_()\n",
    "\n",
    "    if epoch % 10 == 0:  # 每隔 10 次打印当前训练情况\n",
    "        print(\"Epoch: {} / {}, Parameters: w is {}, b is {}, Loss: {}\".format(epoch, EPOCHS, w.item(), b.item(), losses[epoch]))\n",
    "\n",
    "print(\"Epoch: {} / {}, Parameters: w is {}, b is {}, Loss: {}\".format(EPOCHS, EPOCHS, w.item(), b.item(), losses[-1]))"
   ],
   "outputs": []
  },
  {
   "cell_type": "code",
   "execution_count": 31,
   "id": "d8f713600d3747b6",
   "metadata": {
    "ExecuteTime": {
     "end_time": "2025-02-08T10:23:17.107793Z",
     "start_time": "2025-02-08T10:23:16.910731Z"
    }
   },
   "source": [
    "plt.plot(losses)\n",
    "plt.show()"
   ],
   "outputs": []
  },
  {
   "cell_type": "code",
   "execution_count": null,
   "id": "01133bd2",
   "metadata": {},
   "source": [],
   "outputs": []
  }
 ],
 "metadata": {
  "kernelspec": {
   "display_name": "pytorch",
   "language": "python",
   "name": "python3"
  },
  "language_info": {
   "codemirror_mode": {
    "name": "ipython",
    "version": 3
   },
   "file_extension": ".py",
   "mimetype": "text/x-python",
   "name": "python",
   "nbconvert_exporter": "python",
   "pygments_lexer": "ipython3",
   "version": "3.12.9"
  }
 },
 "nbformat": 4,
 "nbformat_minor": 5
}
