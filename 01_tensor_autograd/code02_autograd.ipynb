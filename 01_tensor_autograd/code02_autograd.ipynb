{
 "cells": [
  {
   "cell_type": "code",
   "id": "initial_id",
   "metadata": {
    "collapsed": true,
    "ExecuteTime": {
     "end_time": "2025-02-08T07:12:38.522977Z",
     "start_time": "2025-02-08T07:12:19.949569Z"
    }
   },
   "source": "import torch",
   "execution_count": 1,
   "outputs": []
  },
  {
   "metadata": {
    "ExecuteTime": {
     "end_time": "2025-02-08T07:23:12.550509Z",
     "start_time": "2025-02-08T07:23:12.507978Z"
    }
   },
   "cell_type": "code",
   "source": [
    "# x = torch.randn(2, 3, requires_grad=True)\n",
    "x = torch.rand(2, 3).requires_grad_()\n",
    "print(x.requires_grad)"
   ],
   "id": "be48cf997e99575c",
   "execution_count": 5,
   "outputs": []
  },
  {
   "metadata": {
    "ExecuteTime": {
     "end_time": "2025-02-08T07:49:06.013369Z",
     "start_time": "2025-02-08T07:49:05.985184Z"
    }
   },
   "cell_type": "code",
   "source": [
    "a = torch.randn(2, 3, requires_grad=True)\n",
    "b = torch.zeros(2, 3)\n",
    "c = (a + b).sum()\n",
    "a.requires_grad, b.requires_grad, c.requires_grad"
   ],
   "id": "608e12cb87e98c78",
   "execution_count": 21,
   "outputs": []
  },
  {
   "metadata": {
    "ExecuteTime": {
     "end_time": "2025-02-08T07:50:18.559703Z",
     "start_time": "2025-02-08T07:50:18.542718Z"
    }
   },
   "cell_type": "code",
   "source": "a.is_leaf, b.is_leaf, c.is_leaf",
   "id": "7aff315174dffd36",
   "execution_count": 22,
   "outputs": []
  },
  {
   "metadata": {
    "ExecuteTime": {
     "end_time": "2025-02-08T08:12:37.023714Z",
     "start_time": "2025-02-08T08:12:37.001321Z"
    }
   },
   "cell_type": "code",
   "source": [
    "# autograd 求导\n",
    "# y = x^2 * e^x\n",
    "def f(x):\n",
    "    y = x * x * torch.exp(x)\n",
    "    return y\n",
    "\n",
    "\n",
    "def df(x):\n",
    "    df = 2 * x * torch.exp(x) + x * x * torch.exp(x)\n",
    "    return df"
   ],
   "id": "f95add408d108880",
   "execution_count": 47,
   "outputs": []
  },
  {
   "metadata": {
    "ExecuteTime": {
     "end_time": "2025-02-08T08:12:37.506211Z",
     "start_time": "2025-02-08T08:12:37.481543Z"
    }
   },
   "cell_type": "code",
   "source": [
    "x = torch.randn(2, 3, requires_grad=True)\n",
    "y = f(x)\n",
    "y"
   ],
   "id": "53d0dbf7aef256fc",
   "execution_count": 48,
   "outputs": []
  },
  {
   "metadata": {
    "ExecuteTime": {
     "end_time": "2025-02-08T08:11:41.678583Z",
     "start_time": "2025-02-08T08:11:41.651920Z"
    }
   },
   "cell_type": "code",
   "source": [
    "y.backward(gradient=torch.ones(y.size()))  # 指定\n",
    "# torch.autograd.backward(y, grad_tensors=torch.ones(y.size()))  # 或者"
   ],
   "id": "5f858dc1e877108d",
   "execution_count": 44,
   "outputs": []
  },
  {
   "metadata": {
    "ExecuteTime": {
     "end_time": "2025-02-08T08:12:41.527662Z",
     "start_time": "2025-02-08T08:12:41.518846Z"
    }
   },
   "cell_type": "code",
   "source": "x.grad",
   "id": "318ba31038bd36ed",
   "execution_count": 50,
   "outputs": []
  },
  {
   "metadata": {
    "ExecuteTime": {
     "end_time": "2025-02-08T08:12:42.159996Z",
     "start_time": "2025-02-08T08:12:42.148781Z"
    }
   },
   "cell_type": "code",
   "source": "df(x)",
   "id": "b830c5a4764fac2",
   "execution_count": 51,
   "outputs": []
  },
  {
   "metadata": {
    "ExecuteTime": {
     "end_time": "2025-02-08T08:54:09.781092Z",
     "start_time": "2025-02-08T08:54:09.764001Z"
    }
   },
   "cell_type": "code",
   "source": [
    "# 计算图\n",
    "x = torch.ones(1)\n",
    "b = torch.rand(1, requires_grad=True)\n",
    "w = torch.rand(1, requires_grad=True)\n",
    "y = w * x  # 等价于 y = w.mul(x)\n",
    "z = y + b  # 等价于 z = y.add(b)\n",
    "\n",
    "x.requires_grad, b.requires_grad, w.requires_grad, y.requires_grad, z.requires_grad"
   ],
   "id": "fc01130d8b34ba7d",
   "execution_count": 90,
   "outputs": []
  },
  {
   "metadata": {
    "ExecuteTime": {
     "end_time": "2025-02-08T08:33:37.223666Z",
     "start_time": "2025-02-08T08:33:37.168954Z"
    }
   },
   "cell_type": "code",
   "source": "z.grad_fn",
   "id": "593281a76f46c59",
   "execution_count": 54,
   "outputs": []
  },
  {
   "metadata": {
    "ExecuteTime": {
     "end_time": "2025-02-08T08:33:42.914163Z",
     "start_time": "2025-02-08T08:33:42.898985Z"
    }
   },
   "cell_type": "code",
   "source": "y.grad_fn",
   "id": "6b31d2ccd0cf54ee",
   "execution_count": 55,
   "outputs": []
  },
  {
   "metadata": {
    "ExecuteTime": {
     "end_time": "2025-02-08T08:35:06.445847Z",
     "start_time": "2025-02-08T08:35:06.412237Z"
    }
   },
   "cell_type": "code",
   "source": "w.grad_fn, x.grad_fn, b.grad_fn",
   "id": "bb72633309f53c6b",
   "execution_count": 56,
   "outputs": []
  },
  {
   "metadata": {
    "ExecuteTime": {
     "end_time": "2025-02-08T08:36:13.024980Z",
     "start_time": "2025-02-08T08:36:13.016068Z"
    }
   },
   "cell_type": "code",
   "source": "z.grad_fn.next_functions",
   "id": "fa2e006d3f4f02db",
   "execution_count": 59,
   "outputs": []
  },
  {
   "metadata": {
    "ExecuteTime": {
     "end_time": "2025-02-08T08:36:10.841833Z",
     "start_time": "2025-02-08T08:36:10.820047Z"
    }
   },
   "cell_type": "code",
   "source": "y.grad_fn.next_functions",
   "id": "20b58db01fa2713d",
   "execution_count": 58,
   "outputs": []
  },
  {
   "metadata": {
    "ExecuteTime": {
     "end_time": "2025-02-08T08:54:12.298296Z",
     "start_time": "2025-02-08T08:54:12.290121Z"
    }
   },
   "cell_type": "code",
   "source": "z.backward(retain_graph=True)",
   "id": "e9ffcd02dbb91655",
   "execution_count": 91,
   "outputs": []
  },
  {
   "metadata": {
    "ExecuteTime": {
     "end_time": "2025-02-08T08:54:15.831817Z",
     "start_time": "2025-02-08T08:54:15.823743Z"
    }
   },
   "cell_type": "code",
   "source": "w.grad",
   "id": "b3ea735a1ae6e800",
   "execution_count": 92,
   "outputs": []
  },
  {
   "metadata": {
    "ExecuteTime": {
     "end_time": "2025-02-08T08:54:22.513402Z",
     "start_time": "2025-02-08T08:54:22.499492Z"
    }
   },
   "cell_type": "code",
   "source": [
    "z.backward()\n",
    "w.grad"
   ],
   "id": "3744e131099a4d8f",
   "execution_count": 93,
   "outputs": []
  },
  {
   "metadata": {
    "ExecuteTime": {
     "end_time": "2025-02-08T09:03:26.213763Z",
     "start_time": "2025-02-08T09:03:26.197431Z"
    }
   },
   "cell_type": "code",
   "source": [
    "# 关闭反向传播\n",
    "x = torch.ones(1)\n",
    "w = torch.rand(1, requires_grad=True)\n",
    "y = x * w\n",
    "\n",
    "x.requires_grad, w.requires_grad, y.requires_grad  # y.requires_grad = True\n",
    "# (False, True, True)"
   ],
   "id": "e9aee4838f706618",
   "execution_count": 96,
   "outputs": []
  },
  {
   "metadata": {
    "ExecuteTime": {
     "end_time": "2025-02-08T09:03:54.669634Z",
     "start_time": "2025-02-08T09:03:54.648771Z"
    }
   },
   "cell_type": "code",
   "source": [
    "with torch.no_grad():\n",
    "    x = torch.ones(1)\n",
    "    w = torch.rand(1, requires_grad=True)\n",
    "    y = x * w\n",
    "\n",
    "x.requires_grad, w.requires_grad, y.requires_grad  # y.requires_grad = False\n",
    "# (False, True, False)"
   ],
   "id": "fcf21704b0e7107",
   "execution_count": 97,
   "outputs": []
  },
  {
   "metadata": {
    "ExecuteTime": {
     "end_time": "2025-02-08T09:05:05.173943Z",
     "start_time": "2025-02-08T09:05:05.151335Z"
    }
   },
   "cell_type": "code",
   "source": [
    "torch.set_grad_enabled(False)  # 更改默认设置\n",
    "x = torch.ones(1)\n",
    "w = torch.rand(1, requires_grad=True)\n",
    "y = x * w\n",
    "\n",
    "x.requires_grad, w.requires_grad, y.requires_grad  # y.requires_grad = False\n",
    "# (False, True, False)\n",
    "# torch.set_grad_enabled(True) # 更改回默认设置"
   ],
   "id": "cfd5116f71937ab",
   "execution_count": 98,
   "outputs": []
  },
  {
   "metadata": {
    "ExecuteTime": {
     "end_time": "2025-02-08T09:05:26.316262Z",
     "start_time": "2025-02-08T09:05:26.302088Z"
    }
   },
   "cell_type": "code",
   "source": "torch.set_grad_enabled(True)  # 更改回默认设置",
   "id": "179fbe018d486bb0",
   "execution_count": 99,
   "outputs": []
  },
  {
   "metadata": {
    "ExecuteTime": {
     "end_time": "2025-02-08T09:09:49.750846Z",
     "start_time": "2025-02-08T09:09:49.735970Z"
    }
   },
   "cell_type": "code",
   "source": [
    "x = torch.ones(1, requires_grad=True)\n",
    "x_clone = x.data\n",
    "x.requires_grad, x_clone.requires_grad"
   ],
   "id": "b2fea8550ad55f42",
   "execution_count": 102,
   "outputs": []
  },
  {
   "metadata": {
    "ExecuteTime": {
     "end_time": "2025-02-08T09:16:43.608885Z",
     "start_time": "2025-02-08T09:16:43.604498Z"
    }
   },
   "cell_type": "code",
   "source": [
    "# autograd.grad & hook\n",
    "x = torch.ones(1, requires_grad=True)\n",
    "w = torch.ones(1, requires_grad=True)\n",
    "y = w * x  # 非叶子结点\n",
    "z = y.sum()  # 非叶子结点"
   ],
   "id": "d19fc40ae6287356",
   "execution_count": 112,
   "outputs": []
  },
  {
   "metadata": {
    "ExecuteTime": {
     "end_time": "2025-02-08T09:16:44.040066Z",
     "start_time": "2025-02-08T09:16:44.033286Z"
    }
   },
   "cell_type": "code",
   "source": [
    "# z.backward()\n",
    "z.backward(retain_graph=True)\n",
    "x.grad, w.grad, y.grad"
   ],
   "id": "e8dbb85ad82becc0",
   "execution_count": 113,
   "outputs": []
  },
  {
   "metadata": {
    "ExecuteTime": {
     "end_time": "2025-02-08T09:20:06.535822Z",
     "start_time": "2025-02-08T09:20:06.507643Z"
    }
   },
   "cell_type": "code",
   "source": [
    "# 使用 torch.autograd.grad() 直接取梯度\n",
    "x = torch.ones(1, requires_grad=True)\n",
    "w = torch.ones(1, requires_grad=True)\n",
    "y = x * w\n",
    "z = y.sum()\n",
    "\n",
    "torch.autograd.grad(z, y)  # z.backward() 并直接取 y.grad()"
   ],
   "id": "ec47639b0af7c7ea",
   "execution_count": 115,
   "outputs": []
  },
  {
   "metadata": {
    "ExecuteTime": {
     "end_time": "2025-02-08T09:22:50.811482Z",
     "start_time": "2025-02-08T09:22:50.795240Z"
    }
   },
   "cell_type": "code",
   "source": [
    "# hook是一个函数，输入是梯度，不应该有返回值\n",
    "def variable_hook(grad):\n",
    "    print('y.grad：', grad)\n",
    "\n",
    "\n",
    "x = torch.ones(1, requires_grad=True)\n",
    "w = torch.ones(1, requires_grad=True)\n",
    "\n",
    "y = x * w\n",
    "# 注册hook\n",
    "hook_handle = y.register_hook(variable_hook)\n",
    "\n",
    "z = y.sum()\n",
    "z.backward()\n",
    "\n",
    "# 除非每次都要使用 hook，否则用完之后记得移除 hook\n",
    "hook_handle.remove()"
   ],
   "id": "dfeaddbba5032854",
   "execution_count": 118,
   "outputs": []
  },
  {
   "metadata": {},
   "cell_type": "markdown",
   "source": "线性回归",
   "id": "e23e1d8836d27b6d"
  },
  {
   "metadata": {
    "ExecuteTime": {
     "end_time": "2025-02-08T10:19:46.525276Z",
     "start_time": "2025-02-08T10:19:46.424178Z"
    }
   },
   "cell_type": "code",
   "source": [
    "import torch\n",
    "import numpy as np\n",
    "from matplotlib import pyplot as plt\n",
    "%matplotlib inline\n",
    "\n",
    "def get_fake_data(batch_size=16):\n",
    "    # 产生随机数据：y = 2 * x + 3，加上噪声\n",
    "    x = torch.rand(batch_size, 1) * 5  # 扩大一些，以免噪声太明显\n",
    "    y = x * 2 + 3 + torch.randn(batch_size, 1)\n",
    "    return x, y\n",
    "\n",
    "# 设置随机数种子，保证结果可复现\n",
    "torch.manual_seed(1000)\n",
    "\n",
    "x, y = get_fake_data()\n",
    "\n",
    "# plt.scatter(x.squeeze().numpy(), y.squeeze().numpy())\n",
    "# plt.show()\n",
    "\n",
    "# 初始化\n",
    "w = torch.rand(1, 1, requires_grad=True)  # w.shape = torch.Size([1, 1]) 因为 [8, 1] * [1, 1] -> [batch_size, 1] 和 y 维度相同\n",
    "b = torch.zeros(1, 1, requires_grad=True)\n",
    "\n",
    "losses = np.zeros(200)  # 存储损失值\n",
    "lr = 0.005  # 学习率\n",
    "EPOCHS = 200  # 迭代次数\n",
    "\n",
    "for epoch in range(EPOCHS):\n",
    "    x, y = get_fake_data(batch_size=32)\n",
    "\n",
    "    # 前向传播 计算损失\n",
    "    y_pred = x.mm(w) + b.expand_as(y)  # expand_as(y) 是广播机制，即将 b 复制成和 y 相同性质的张量 [1, 1] -> [batch_size, 1]\n",
    "    loss = 0.5 * (y_pred - y) ** 2  # MSE 均方误差，这是对张量 y 逐元素计算\n",
    "    loss = loss.sum()  # 累和成一个数\n",
    "    losses[epoch] = loss.item()\n",
    "\n",
    "    # 反向传播\n",
    "    loss.backward()\n",
    "\n",
    "    ''' 取 .data 是因为每一轮是根据随机生成的 batch_size 个点训练，但我们希望存储的是全局参数 w, b '''\n",
    "    ''' 故每次依据样本点更新全局参数，而不是改批次的参数 '''\n",
    "    # 更新参数\n",
    "    w.data.sub_(lr * w.grad.data)  # 或者 w.data = w.data - lr * w.grad.data\n",
    "    b.data.sub_(lr * b.grad.data)\n",
    "\n",
    "    # 梯度清零\n",
    "    w.grad.data.zero_()  # 不清零，梯度会不断累加\n",
    "    b.grad.data.zero_()\n",
    "\n",
    "    if epoch % 10 == 0:  # 每隔 10 次扔出当前训练情况\n",
    "        print(\"Epoch: {} / {}, Parameters: w is {}, b is {}, Loss: {}\".format(epoch, EPOCHS, w.item(), b.item(), losses[epoch]))\n",
    "\n",
    "print(\"Epoch: {} / {}, Parameters: w is {}, b is {}, Loss: {}\".format(EPOCHS, EPOCHS, w.item(), b.item(), losses[-1]))"
   ],
   "id": "618bc8e577dced06",
   "execution_count": 259,
   "outputs": []
  },
  {
   "metadata": {
    "ExecuteTime": {
     "end_time": "2025-02-08T10:19:55.607718Z",
     "start_time": "2025-02-08T10:19:55.426220Z"
    }
   },
   "cell_type": "code",
   "source": "plt.plot(losses)",
   "id": "fce76b9a56a3b81b",
   "execution_count": 260,
   "outputs": []
  },
  {
   "metadata": {},
   "cell_type": "markdown",
   "source": "GPU 加速",
   "id": "9dc8de58e5360ab2"
  },
  {
   "metadata": {
    "ExecuteTime": {
     "end_time": "2025-02-08T10:23:06.033752Z",
     "start_time": "2025-02-08T10:23:05.857008Z"
    }
   },
   "cell_type": "code",
   "source": [
    "import torch\n",
    "import numpy as np\n",
    "from matplotlib import pyplot as plt\n",
    "\n",
    "# 检查是否有可用的 GPU\n",
    "device = torch.device(\"cuda\" if torch.cuda.is_available() else \"cpu\")\n",
    "print(f\"Using device: {device}\")\n",
    "\n",
    "def get_fake_data(batch_size=16):\n",
    "    # 产生随机数据：y = 2 * x + 3，加上噪声\n",
    "    x = torch.rand(batch_size, 1, device=device) * 5  # 将数据移动到 GPU\n",
    "    y = x * 2 + 3 + torch.randn(batch_size, 1, device=device)  # 将数据移动到 GPU\n",
    "    return x, y\n",
    "\n",
    "# 设置随机数种子，保证结果可复现\n",
    "torch.manual_seed(1000)\n",
    "if torch.cuda.is_available():\n",
    "    torch.cuda.manual_seed(1000)  # 为 CUDA 设置随机种子\n",
    "\n",
    "# 初始化参数，并将参数移动到 GPU\n",
    "w = torch.rand(1, 1, requires_grad=True, device=device)  # 将 w 移动到 GPU\n",
    "b = torch.zeros(1, 1, requires_grad=True, device=device)  # 将 b 移动到 GPU\n",
    "\n",
    "losses = np.zeros(200)  # 存储损失值\n",
    "lr = 0.005  # 学习率\n",
    "EPOCHS = 200  # 迭代次数\n",
    "\n",
    "for epoch in range(EPOCHS):\n",
    "    x, y = get_fake_data(batch_size=32)\n",
    "\n",
    "    # 前向传播 计算损失\n",
    "    y_pred = x.mm(w) + b.expand_as(y)  # expand_as(y) 是广播机制，即将 b 复制成和 y 相同性质的张量 [1, 1] -> [batch_size, 1]\n",
    "    loss = 0.5 * (y_pred - y) ** 2  # MSE 均方误差，这是对张量 y 逐元素计算\n",
    "    loss = loss.sum()  # 累和成一个数\n",
    "    losses[epoch] = loss.item()\n",
    "\n",
    "    # 反向传播\n",
    "    loss.backward()\n",
    "\n",
    "    # 更新参数\n",
    "    w.data.sub_(lr * w.grad.data)  # 或者 w.data = w.data - lr * w.grad.data\n",
    "    b.data.sub_(lr * b.grad.data)\n",
    "\n",
    "    # 梯度清零\n",
    "    w.grad.data.zero_()  # 不清零，梯度会不断累加\n",
    "    b.grad.data.zero_()\n",
    "\n",
    "    if epoch % 10 == 0:  # 每隔 10 次打印当前训练情况\n",
    "        print(\"Epoch: {} / {}, Parameters: w is {}, b is {}, Loss: {}\".format(epoch, EPOCHS, w.item(), b.item(), losses[epoch]))\n",
    "\n",
    "print(\"Epoch: {} / {}, Parameters: w is {}, b is {}, Loss: {}\".format(EPOCHS, EPOCHS, w.item(), b.item(), losses[-1]))"
   ],
   "id": "6a4ee46eb68fe243",
   "execution_count": 261,
   "outputs": []
  },
  {
   "metadata": {
    "ExecuteTime": {
     "end_time": "2025-02-08T10:23:17.107793Z",
     "start_time": "2025-02-08T10:23:16.910731Z"
    }
   },
   "cell_type": "code",
   "source": "plt.plot(losses)",
   "id": "d8f713600d3747b6",
   "execution_count": 262,
   "outputs": []
  },
  {
   "metadata": {},
   "cell_type": "code",
   "execution_count": null,
   "source": "",
   "id": "3a49c4290fd5e48f",
   "outputs": []
  }
 ],
 "metadata": {
  "kernelspec": {
   "display_name": "mldl",
   "language": "python",
   "name": "mldl"
  },
  "language_info": {
   "codemirror_mode": {
    "name": "ipython",
    "version": 2
   },
   "file_extension": ".py",
   "mimetype": "text/x-python",
   "name": "python",
   "nbconvert_exporter": "python",
   "pygments_lexer": "ipython2",
   "version": "2.7.6"
  }
 },
 "nbformat": 4,
 "nbformat_minor": 5
}
