{
 "cells": [
  {
   "metadata": {},
   "cell_type": "code",
   "execution_count": 19,
   "source": "import torch",
   "id": "initial_id",
   "outputs": []
  },
  {
   "metadata": {
    "ExecuteTime": {
     "end_time": "2025-02-07T08:40:55.108582Z",
     "start_time": "2025-02-07T08:40:55.102518Z"
    }
   },
   "cell_type": "code",
   "source": "print(torch.__version__)",
   "id": "c0c80963dae943c7",
   "execution_count": 2,
   "outputs": []
  },
  {
   "metadata": {},
   "cell_type": "code",
   "execution_count": 3,
   "source": [
    "x = torch.Tensor(2, 3)\n",
    "print(x)"
   ],
   "id": "90cd1cccc074c3b1",
   "outputs": []
  },
  {
   "metadata": {
    "ExecuteTime": {
     "end_time": "2025-02-07T08:41:22.258936Z",
     "start_time": "2025-02-07T08:41:22.233085Z"
    }
   },
   "cell_type": "code",
   "source": [
    "y = torch.tensor([[1, 2, 3], [4, 5, 6]], dtype=torch.float)\n",
    "print(y)"
   ],
   "id": "337fc9912b4bac47",
   "execution_count": 5,
   "outputs": []
  },
  {
   "metadata": {
    "ExecuteTime": {
     "end_time": "2025-02-07T08:43:20.101602Z",
     "start_time": "2025-02-07T08:43:20.083411Z"
    }
   },
   "cell_type": "code",
   "source": [
    "z = torch.rand(2, 3)\n",
    "print(z)"
   ],
   "id": "759048aeb262c1ee",
   "execution_count": 7,
   "outputs": []
  },
  {
   "metadata": {},
   "cell_type": "code",
   "execution_count": 9,
   "source": [
    "print(x.shape)\n",
    "print(y.shape)\n",
    "print(z.shape)"
   ],
   "id": "4d7af2b8be314958",
   "outputs": []
  },
  {
   "metadata": {
    "ExecuteTime": {
     "end_time": "2025-02-07T08:48:19.897885Z",
     "start_time": "2025-02-07T08:48:19.889182Z"
    }
   },
   "cell_type": "code",
   "source": [
    "print(x.size()[1])\n",
    "print(x.size(1))\n",
    "print(x.shape[1])"
   ],
   "id": "3c9a77302b774fa5",
   "execution_count": 18,
   "outputs": []
  },
  {
   "metadata": {
    "ExecuteTime": {
     "end_time": "2025-02-07T08:53:38.807345Z",
     "start_time": "2025-02-07T08:53:38.793494Z"
    }
   },
   "cell_type": "code",
   "source": [
    "x = torch.tensor([[1, 1, 1], [1, 1, 1]], dtype=torch.float)\n",
    "y = torch.tensor([[1, 2, 3], [4, 5, 6]], dtype=torch.float)\n",
    "print(x + y)\n",
    "print(x)  # 不变\n",
    "print(y)  # 不变"
   ],
   "id": "f9aa886d6a026f6d",
   "execution_count": 22,
   "outputs": []
  },
  {
   "metadata": {
    "ExecuteTime": {
     "end_time": "2025-02-07T08:56:12.963383Z",
     "start_time": "2025-02-07T08:56:12.939669Z"
    }
   },
   "cell_type": "code",
   "source": [
    "z = torch.Tensor(2, 3)  # 先分配好一个空间，不赋值\n",
    "torch.add(x, y, out=z)\n",
    "print(z)\n",
    "print(x)  # 不变\n",
    "print(y)  # 不变"
   ],
   "id": "65e477361eb2be46",
   "execution_count": 24,
   "outputs": []
  },
  {
   "metadata": {
    "ExecuteTime": {
     "end_time": "2025-02-07T08:59:19.896457Z",
     "start_time": "2025-02-07T08:59:19.864558Z"
    }
   },
   "cell_type": "code",
   "source": [
    "print(y.add(x))\n",
    "print(y)\n",
    "\n",
    "print(y.add_(x))\n",
    "print(y)"
   ],
   "id": "68de6bc0f051f8db",
   "execution_count": 27,
   "outputs": []
  },
  {
   "metadata": {
    "ExecuteTime": {
     "end_time": "2025-02-07T09:03:05.459096Z",
     "start_time": "2025-02-07T09:03:05.445313Z"
    }
   },
   "cell_type": "code",
   "source": [
    "# 索引\n",
    "x = torch.rand(2, 3)\n",
    "print(x)\n",
    "print(x[:, 1])\n",
    "print(x[1, :])"
   ],
   "id": "72987350a9502eac",
   "execution_count": 30,
   "outputs": []
  },
  {
   "metadata": {
    "ExecuteTime": {
     "end_time": "2025-02-07T09:16:01.204456Z",
     "start_time": "2025-02-07T09:16:01.083199Z"
    }
   },
   "cell_type": "code",
   "source": [
    "# numpy 相互转换\n",
    "x = torch.ones(1, 3)\n",
    "y = x.numpy()\n",
    "print(x)\n",
    "print(type(x))\n",
    "print(y)\n",
    "print(type(y))"
   ],
   "id": "2deb14cffdb7b801",
   "execution_count": 45,
   "outputs": []
  },
  {
   "metadata": {
    "ExecuteTime": {
     "end_time": "2025-02-07T09:16:42.540936Z",
     "start_time": "2025-02-07T09:16:42.514136Z"
    }
   },
   "cell_type": "code",
   "source": [
    "temp = torch.rand(1, 3)\n",
    "x.add_(temp)\n",
    "print(x)\n",
    "print(y)"
   ],
   "id": "a4d7b50b04b96503",
   "execution_count": 47,
   "outputs": []
  },
  {
   "metadata": {
    "ExecuteTime": {
     "end_time": "2025-02-07T09:22:29.784230Z",
     "start_time": "2025-02-07T09:22:29.770229Z"
    }
   },
   "cell_type": "code",
   "source": [
    "import numpy as np\n",
    "y = np.ones((1, 3))\n",
    "x = torch.from_numpy(y)\n",
    "print(y)\n",
    "print(type(y))\n",
    "print(x)\n",
    "print(type(x))"
   ],
   "id": "33f539c02301c96f",
   "execution_count": 51,
   "outputs": []
  },
  {
   "metadata": {
    "ExecuteTime": {
     "end_time": "2025-02-07T09:22:30.977615Z",
     "start_time": "2025-02-07T09:22:30.969049Z"
    }
   },
   "cell_type": "code",
   "source": [
    "print(x)\n",
    "print(y)\n",
    "temp = np.ones((1, 3))\n",
    "y = y + temp\n",
    "print(y)\n",
    "print(x)"
   ],
   "id": "2a787b27f1cd7d8e",
   "execution_count": 52,
   "outputs": []
  },
  {
   "metadata": {
    "ExecuteTime": {
     "end_time": "2025-02-07T09:28:30.023946Z",
     "start_time": "2025-02-07T09:28:30.007012Z"
    }
   },
   "cell_type": "code",
   "source": [
    "# 标量\n",
    "scaler = torch.tensor(9)\n",
    "print(scaler)\n",
    "print(scaler.shape)\n",
    "print(type(scaler))"
   ],
   "id": "3066f4ca0f3021e2",
   "execution_count": 63,
   "outputs": []
  },
  {
   "metadata": {
    "ExecuteTime": {
     "end_time": "2025-02-07T09:28:22.454407Z",
     "start_time": "2025-02-07T09:28:22.445650Z"
    }
   },
   "cell_type": "code",
   "source": [
    "print(scaler.item())\n",
    "print(type(scaler.item()))"
   ],
   "id": "1045d5f6adc2597c",
   "execution_count": 62,
   "outputs": []
  },
  {
   "metadata": {
    "ExecuteTime": {
     "end_time": "2025-02-07T09:30:53.418080Z",
     "start_time": "2025-02-07T09:30:53.403294Z"
    }
   },
   "cell_type": "code",
   "source": [
    "vector = torch.tensor([9])\n",
    "scaler = torch.tensor(9)\n",
    "print(vector)\n",
    "print(vector.shape)\n",
    "print(scaler)\n",
    "print(scaler.shape)"
   ],
   "id": "78ceaa317cd0dd47",
   "execution_count": 67,
   "outputs": []
  },
  {
   "metadata": {
    "ExecuteTime": {
     "end_time": "2025-02-07T09:32:38.746699Z",
     "start_time": "2025-02-07T09:32:38.727210Z"
    }
   },
   "cell_type": "code",
   "source": [
    "print(vector.item())\n",
    "print(type(vector.item()))"
   ],
   "id": "1a22f2c643a76deb",
   "execution_count": 70,
   "outputs": []
  },
  {
   "metadata": {
    "ExecuteTime": {
     "end_time": "2025-02-07T09:38:25.025024Z",
     "start_time": "2025-02-07T09:38:25.010685Z"
    }
   },
   "cell_type": "code",
   "source": [
    "# 复制\n",
    "old = torch.tensor([[1, 2, 3], [4, 5, 6]])\n",
    "new = old.clone()\n",
    "new[0] = 233\n",
    "old, new"
   ],
   "id": "d684d3c716e25d0d",
   "execution_count": 76,
   "outputs": []
  },
  {
   "metadata": {
    "ExecuteTime": {
     "end_time": "2025-02-07T09:40:20.432098Z",
     "start_time": "2025-02-07T09:40:20.400215Z"
    }
   },
   "cell_type": "code",
   "source": [
    "# 复制\n",
    "old = torch.tensor([[1, 2, 3], [4, 5, 6]])\n",
    "new = old.detach()\n",
    "new[0] = 233\n",
    "old, new"
   ],
   "id": "2ddd7879f7192c0a",
   "execution_count": 77,
   "outputs": []
  },
  {
   "metadata": {
    "ExecuteTime": {
     "end_time": "2025-02-07T09:53:11.915612Z",
     "start_time": "2025-02-07T09:53:11.904493Z"
    }
   },
   "cell_type": "code",
   "source": [
    "# 维度交换\n",
    "previous = torch.randn(2, 3, 4, 5)  # .randn 标准正态\n",
    "new1 = previous.permute((1, 0, 3, 2))  # 填入一个元组，元组里的每个数字对应原来张量的维度序号，新的维度为(第1维度,第0维度,第3维度,第2维度)\n",
    "\n",
    "new2 = previous.transpose(0, 1)  # 第0维度和第1维度交换\n",
    "new2 = new2.transpose(2, 3)  # 第2维度和第3维度交换\n",
    "\n",
    "print(new1.shape)\n",
    "print(new2.shape)"
   ],
   "id": "c4548c0aab5d0af2",
   "execution_count": 81,
   "outputs": []
  },
  {
   "metadata": {
    "ExecuteTime": {
     "end_time": "2025-02-07T09:58:22.575511Z",
     "start_time": "2025-02-07T09:58:22.558490Z"
    }
   },
   "cell_type": "code",
   "source": [
    "# 维度变换\n",
    "previous = torch.randn(2, 3, 4, 5)\n",
    "\n",
    "# 注意总维度要正确：例如 2x3x4x5 = 120 = 6x20\n",
    "new1 = previous.reshape(-1, 10)  # -1 表示自动计算维度，reshape 和 view 均可使用\n",
    "new2 = previous.view(6, 20)\n",
    "\n",
    "print(new1.shape)\n",
    "print(new2.shape)"
   ],
   "id": "384d8b5acc510966",
   "execution_count": 85,
   "outputs": []
  },
  {
   "metadata": {
    "ExecuteTime": {
     "end_time": "2025-02-07T10:02:43.886461Z",
     "start_time": "2025-02-07T10:02:43.875863Z"
    }
   },
   "cell_type": "code",
   "source": [
    "# 连续化\n",
    "previous = torch.randn(2, 3, 4, 5)\n",
    "\n",
    "# 内存不连续\n",
    "new = previous.permute((1, 0, 3, 2))  # torch.Size([3, 2, 5, 4])\n",
    "\n",
    "# 连续化然后变换维度\n",
    "current = new.contiguous().view(6, 20)\n",
    "# current = new.reshape(6, 20)  # 或者直接 reshape\n",
    "\n",
    "print(current.shape)"
   ],
   "id": "713332bab4effc9a",
   "execution_count": 91,
   "outputs": []
  },
  {
   "metadata": {
    "ExecuteTime": {
     "end_time": "2025-02-07T10:11:49.542844Z",
     "start_time": "2025-02-07T10:11:49.466466Z"
    }
   },
   "cell_type": "code",
   "source": [
    "# 压缩\n",
    "x = torch.randn(1, 3, 1, 2)  # torch.Size([1, 3, 1, 2])\n",
    "\n",
    "# 移除所有大小为1的维度\n",
    "y = torch.squeeze(x)\n",
    "print(y.shape)  # torch.Size([3, 2])\n",
    "\n",
    "# 只移除第2个维度（索引从0开始）\n",
    "z = torch.squeeze(x, dim=2)\n",
    "print(z.shape)  # torch.Size([1, 3, 2])"
   ],
   "id": "fbd092146439c914",
   "execution_count": 92,
   "outputs": []
  },
  {
   "metadata": {},
   "cell_type": "code",
   "execution_count": null,
   "source": [
    "x = torch.randn(3, 2)    # torch.Size([3, 2])\n",
    "\n",
    "# 在第0维插入一个大小为1的维度\n",
    "y = torch.unsqueeze(x, dim=0)\n",
    "print(y.shape)           # torch.Size([1, 3, 2])\n",
    "\n",
    "# 在第1维插入一个大小为1的维度\n",
    "z = torch.unsqueeze(x, dim=1)\n",
    "print(z.shape)           # torch.Size([3, 1, 2])"
   ],
   "id": "e0261bb6b74c80b9",
   "outputs": []
  },
  {
   "metadata": {
    "ExecuteTime": {
     "end_time": "2025-02-07T10:19:16.068916Z",
     "start_time": "2025-02-07T10:19:16.057383Z"
    }
   },
   "cell_type": "code",
   "source": [
    "x = torch.randn(1, 4)  # dim=1 维度均为 3 故可以在dim=0上拼接\n",
    "y = torch.randn(2, 4)\n",
    "\n",
    "# 在第0维上拼接\n",
    "z = torch.cat((x, y), dim=0)\n",
    "print(z.shape)  # 输出: torch.Size([3, 4])  # 1 + 2 = 3"
   ],
   "id": "a6feb49462213d9",
   "execution_count": 104,
   "outputs": []
  },
  {
   "metadata": {
    "ExecuteTime": {
     "end_time": "2025-02-07T10:19:19.115548Z",
     "start_time": "2025-02-07T10:19:19.101674Z"
    }
   },
   "cell_type": "code",
   "source": "x",
   "id": "542d1e620a9dfa37",
   "execution_count": 105,
   "outputs": []
  },
  {
   "metadata": {
    "ExecuteTime": {
     "end_time": "2025-02-07T10:19:20.407927Z",
     "start_time": "2025-02-07T10:19:20.397292Z"
    }
   },
   "cell_type": "code",
   "source": "y",
   "id": "fa0d133ce3d78361",
   "execution_count": 106,
   "outputs": []
  },
  {
   "metadata": {
    "ExecuteTime": {
     "end_time": "2025-02-07T10:19:21.400741Z",
     "start_time": "2025-02-07T10:19:21.395387Z"
    }
   },
   "cell_type": "code",
   "source": "z",
   "id": "f325b539ec266e6e",
   "execution_count": 107,
   "outputs": []
  },
  {
   "metadata": {
    "ExecuteTime": {
     "end_time": "2025-02-07T10:28:38.470787Z",
     "start_time": "2025-02-07T10:28:38.463541Z"
    }
   },
   "cell_type": "code",
   "source": [
    "# cuda\n",
    "x = torch.randn(3, 4)"
   ],
   "id": "4f2439abcac38524",
   "execution_count": 109,
   "outputs": []
  },
  {
   "metadata": {
    "ExecuteTime": {
     "end_time": "2025-02-07T10:28:57.628528Z",
     "start_time": "2025-02-07T10:28:57.620686Z"
    }
   },
   "cell_type": "code",
   "source": [
    "# x.cuda()\n",
    "device = torch.device(\"cuda:0\" if torch.cuda.is_available() else \"cpu\")"
   ],
   "id": "21a0e99a464cfd40",
   "execution_count": 111,
   "outputs": []
  },
  {
   "metadata": {
    "ExecuteTime": {
     "end_time": "2025-02-07T10:29:00.138352Z",
     "start_time": "2025-02-07T10:29:00.118044Z"
    }
   },
   "cell_type": "code",
   "source": "device",
   "id": "86ff2763ce1040dd",
   "execution_count": 112,
   "outputs": []
  }
 ],
 "metadata": {
  "kernelspec": {
   "display_name": "mldl",
   "language": "python",
   "name": "mldl"
  },
  "language_info": {
   "codemirror_mode": {
    "name": "ipython",
    "version": 2
   },
   "file_extension": ".py",
   "mimetype": "text/x-python",
   "name": "python",
   "nbconvert_exporter": "python",
   "pygments_lexer": "ipython2",
   "version": "2.7.6"
  }
 },
 "nbformat": 4,
 "nbformat_minor": 5
}
