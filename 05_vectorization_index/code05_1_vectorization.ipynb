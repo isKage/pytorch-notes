{
 "cells": [
  {
   "cell_type": "code",
   "id": "initial_id",
   "metadata": {
    "collapsed": true,
    "ExecuteTime": {
     "end_time": "2025-02-14T07:16:01.015468Z",
     "start_time": "2025-02-14T07:15:58.647217Z"
    }
   },
   "source": "import torch",
   "execution_count": 1,
   "outputs": []
  },
  {
   "metadata": {
    "ExecuteTime": {
     "end_time": "2025-02-14T07:18:24.622198Z",
     "start_time": "2025-02-14T07:18:24.603243Z"
    }
   },
   "cell_type": "code",
   "source": [
    "# for 循环完成加法操作\n",
    "def sum_with_for(x, y):\n",
    "    result = []\n",
    "    for i, j in zip(x, y):\n",
    "        result.append(i + j)\n",
    "    return torch.tensor(result)"
   ],
   "id": "c74c65fd0731685b",
   "execution_count": 2,
   "outputs": []
  },
  {
   "metadata": {
    "ExecuteTime": {
     "end_time": "2025-02-14T07:18:54.035790Z",
     "start_time": "2025-02-14T07:18:53.994008Z"
    }
   },
   "cell_type": "code",
   "source": [
    "x = torch.randn(100)\n",
    "y = torch.randn(100)"
   ],
   "id": "d5ef30a32b066baf",
   "execution_count": 3,
   "outputs": []
  },
  {
   "metadata": {
    "ExecuteTime": {
     "end_time": "2025-02-14T07:19:32.089117Z",
     "start_time": "2025-02-14T07:19:31.624610Z"
    }
   },
   "cell_type": "code",
   "source": [
    "%timeit -n 100 sum_with_for(x, y)  # for 循环\n",
    "%timeit -n 100 (x + y) # 向量化计算"
   ],
   "id": "9d30870fba25ae1",
   "execution_count": 4,
   "outputs": []
  },
  {
   "metadata": {
    "ExecuteTime": {
     "end_time": "2025-02-14T07:55:35.738489Z",
     "start_time": "2025-02-14T07:55:35.682765Z"
    }
   },
   "cell_type": "code",
   "source": [
    "a = torch.ones(3, 2)\n",
    "b = torch.zeros(2, 3, 1)\n",
    "\n",
    "(a + b).shape"
   ],
   "id": "5978e8c4cf55e01e",
   "execution_count": 16,
   "outputs": []
  },
  {
   "metadata": {
    "ExecuteTime": {
     "end_time": "2025-02-14T07:59:58.612690Z",
     "start_time": "2025-02-14T07:59:58.577506Z"
    }
   },
   "cell_type": "code",
   "source": [
    "a = torch.tensor([[1, 2], [3, 4], [5, 6]])\n",
    "b = torch.tensor([[[-1], [-2], [-3]], [[-4], [-5], [-6]]])\n",
    "a.shape, b.shape"
   ],
   "id": "55176d08442805b1",
   "execution_count": 21,
   "outputs": []
  },
  {
   "metadata": {
    "ExecuteTime": {
     "end_time": "2025-02-14T08:01:36.377643Z",
     "start_time": "2025-02-14T08:01:36.365313Z"
    }
   },
   "cell_type": "code",
   "source": [
    "print(a + b)\n",
    "print(a)\n",
    "print(b)"
   ],
   "id": "41a5de531b309d1",
   "execution_count": 24,
   "outputs": []
  },
  {
   "metadata": {
    "ExecuteTime": {
     "end_time": "2025-02-14T07:45:54.855594Z",
     "start_time": "2025-02-14T07:45:54.845028Z"
    }
   },
   "cell_type": "code",
   "source": [
    "# 比较 expand 和 repeat 的内存占用情况\n",
    "a = torch.ones(1, 3)\n",
    "print(str(a.storage().size()))\n",
    "\n",
    "# expand 不额外占用内存，只返回一个新的视图\n",
    "b = a.expand(3, 3)\n",
    "print(str(b.storage().size()))\n",
    "\n",
    "# repeat 复制了原始张量\n",
    "c = a.repeat(3, 3)\n",
    "print(str(c.storage().size()))"
   ],
   "id": "1d5a3a93c9568ab5",
   "execution_count": 15,
   "outputs": []
  },
  {
   "metadata": {
    "ExecuteTime": {
     "end_time": "2025-02-14T08:10:45.970481Z",
     "start_time": "2025-02-14T08:10:45.885173Z"
    }
   },
   "cell_type": "code",
   "source": "c  # 直接复制，增大了内存浪费",
   "id": "7a534820e112b248",
   "execution_count": 25,
   "outputs": []
  },
  {
   "metadata": {
    "ExecuteTime": {
     "end_time": "2025-02-14T08:22:52.115016Z",
     "start_time": "2025-02-14T08:22:52.089496Z"
    }
   },
   "cell_type": "code",
   "source": [
    "# 手动广播\n",
    "a = torch.ones(3, 2)\n",
    "b = torch.zeros(2, 3, 1)\n",
    "\n",
    "# 1. unsqueeze + expand\n",
    "# a.unsqueeze(0).expand(2, 3, 2) + b.expand(2, 3, 2)\n",
    "\n",
    "# 2. view + expand\n",
    "# a.view(1, 3, 2).expand(2, 3, 2) + b.expand(2, 3, 2)\n",
    "\n",
    "# 3. None + expand 【推荐】\n",
    "a[None, :, :].expand(2, 3, 2) + b.expand(2, 3, 2)"
   ],
   "id": "71c719c198e99b5",
   "execution_count": 29,
   "outputs": []
  },
  {
   "metadata": {
    "ExecuteTime": {
     "end_time": "2025-02-14T08:32:51.406416Z",
     "start_time": "2025-02-14T08:32:51.393352Z"
    }
   },
   "cell_type": "code",
   "source": [
    "a = torch.Tensor([i for i in range(24)]).view(2, 3, 4)\n",
    "a"
   ],
   "id": "a92f4049654926ea",
   "execution_count": 32,
   "outputs": []
  },
  {
   "metadata": {
    "ExecuteTime": {
     "end_time": "2025-02-14T08:33:15.333532Z",
     "start_time": "2025-02-14T08:33:15.318009Z"
    }
   },
   "cell_type": "code",
   "source": [
    "# 提取位置 [0, 1, 2] 的元素\n",
    "# 等价于 a[(0, 1, 2)]\n",
    "a[0, 1, 2]"
   ],
   "id": "378a16ce90b003bd",
   "execution_count": 33,
   "outputs": []
  },
  {
   "metadata": {
    "ExecuteTime": {
     "end_time": "2025-02-14T09:08:23.222698Z",
     "start_time": "2025-02-14T09:08:23.128107Z"
    }
   },
   "cell_type": "code",
   "source": [
    "# 第三个维度全取\n",
    "# 等价于 a[(1, 1)]，a[(1, 1, )]，a[1, 1]\n",
    "a[1, 1, :]"
   ],
   "id": "2996ad5a75ba4269",
   "execution_count": 34,
   "outputs": []
  },
  {
   "metadata": {
    "ExecuteTime": {
     "end_time": "2025-02-14T09:12:18.984358Z",
     "start_time": "2025-02-14T09:12:18.868995Z"
    }
   },
   "cell_type": "code",
   "source": [
    "# : and ...\n",
    "a = torch.rand(64, 3, 224, 224)\n",
    "print(a[:, :, 0:224:4, :].shape)  # 第一、二、四维度全取，第三个维度取 0 到 223 间隔 4 个一取\n",
    "# 省略 start 和 end 代表整个维度\n",
    "print(a[:, :, ::4, :].shape)  # 第一、二、四维度全取，第三个维度间隔 4 个一取，从开始取到结尾"
   ],
   "id": "3abf36fbe8631e5b",
   "execution_count": 35,
   "outputs": []
  },
  {
   "metadata": {
    "ExecuteTime": {
     "end_time": "2025-02-14T09:14:05.746706Z",
     "start_time": "2025-02-14T09:14:05.716553Z"
    }
   },
   "cell_type": "code",
   "source": [
    "# 使用 ... 代替一个或多个维度，建议一个索引中只使用一次\n",
    "a[..., ::4, :].shape  # 第一、二维度都取，用 ... 替代了 :, :,"
   ],
   "id": "872ff87d87adade5",
   "execution_count": 36,
   "outputs": []
  },
  {
   "metadata": {
    "ExecuteTime": {
     "end_time": "2025-02-14T09:15:02.787927Z",
     "start_time": "2025-02-14T09:15:02.754293Z"
    }
   },
   "cell_type": "code",
   "source": "a[..., ::4, ...].shape  # 如果将最后一个维度也改为 ... 那么在匹配维度时将混乱出错",
   "id": "b9f73beeb6af8891",
   "execution_count": 38,
   "outputs": []
  },
  {
   "metadata": {
    "ExecuteTime": {
     "end_time": "2025-02-14T09:23:57.442804Z",
     "start_time": "2025-02-14T09:23:57.429700Z"
    }
   },
   "cell_type": "code",
   "source": [
    "# None 扩展维度\n",
    "x = torch.randn(3, 224, 224)\n",
    "x.shape"
   ],
   "id": "f67e1b13060ecb42",
   "execution_count": 42,
   "outputs": []
  },
  {
   "metadata": {
    "ExecuteTime": {
     "end_time": "2025-02-14T09:24:20.762341Z",
     "start_time": "2025-02-14T09:24:20.750774Z"
    }
   },
   "cell_type": "code",
   "source": [
    "print(x.unsqueeze(0).shape)  # 使用 unsqueeze 在第 0 位置补充维度\n",
    "print(x[None, ...].shape)  # 直接指定 0 号位置补充维度 (... 代表后面所有维度)"
   ],
   "id": "f3d8ba7a61e8c2da",
   "execution_count": 43,
   "outputs": []
  },
  {
   "metadata": {
    "ExecuteTime": {
     "end_time": "2025-02-14T09:29:38.237588Z",
     "start_time": "2025-02-14T09:29:38.226329Z"
    }
   },
   "cell_type": "code",
   "source": [
    "x = torch.randn(3, 3, 3)\n",
    "x.shape"
   ],
   "id": "d8b2e3e0e87060ff",
   "execution_count": 50,
   "outputs": []
  },
  {
   "metadata": {
    "ExecuteTime": {
     "end_time": "2025-02-14T09:31:53.202399Z",
     "start_time": "2025-02-14T09:31:53.187584Z"
    }
   },
   "cell_type": "code",
   "source": [
    "# 变为 [1, 3, 1, 3, 1, 3]\n",
    "x = x.unsqueeze(0)  # [1, 3, 3, 3]\n",
    "x = x.unsqueeze(2)  # [1, 3, 1, 3, 3]\n",
    "x = x.unsqueeze(4)  # [1, 3, 1, 3, 1, 3]\n",
    "x.shape"
   ],
   "id": "85f5b61aeb12d71c",
   "execution_count": 51,
   "outputs": []
  },
  {
   "metadata": {
    "ExecuteTime": {
     "end_time": "2025-02-14T09:32:22.034422Z",
     "start_time": "2025-02-14T09:32:22.013556Z"
    }
   },
   "cell_type": "code",
   "source": [
    "x = torch.randn(3, 3, 3)\n",
    "\n",
    "x = x[None, :, None, :, None, :]\n",
    "x.shape"
   ],
   "id": "c36f285bc4b5afbb",
   "execution_count": 52,
   "outputs": []
  },
  {
   "metadata": {
    "ExecuteTime": {
     "end_time": "2025-02-14T09:35:54.577160Z",
     "start_time": "2025-02-14T09:35:54.559123Z"
    }
   },
   "cell_type": "code",
   "source": "# 综合使用 None 和广播机制",
   "id": "d81ac68428d04208",
   "execution_count": 53,
   "outputs": []
  },
  {
   "metadata": {
    "ExecuteTime": {
     "end_time": "2025-02-14T09:45:06.914806Z",
     "start_time": "2025-02-14T09:45:06.867265Z"
    }
   },
   "cell_type": "code",
   "source": [
    "# 假设batch_size为16，features为256\n",
    "a = torch.arange(16 * 256).view(16, 256)\n",
    "a.shape"
   ],
   "id": "baa30637255f2298",
   "execution_count": 66,
   "outputs": []
  },
  {
   "metadata": {
    "ExecuteTime": {
     "end_time": "2025-02-14T09:48:58.098991Z",
     "start_time": "2025-02-14T09:48:58.061815Z"
    }
   },
   "cell_type": "code",
   "source": [
    "b = a.unsqueeze(1)  # b.shape = [16, 1, 256]\n",
    "c = b.transpose(2, 1)  # c.shape = [16, 256, 1]\n",
    "print((b @ c).shape)\n",
    "print((c @ b).shape)  "
   ],
   "id": "fd128f5c73c0a780",
   "execution_count": 71,
   "outputs": []
  },
  {
   "metadata": {
    "ExecuteTime": {
     "end_time": "2025-02-14T09:49:02.300319Z",
     "start_time": "2025-02-14T09:49:02.284256Z"
    }
   },
   "cell_type": "code",
   "source": [
    "b = a[:, None, :]\n",
    "c = a[:, :, None]\n",
    "print(b.shape)\n",
    "print(c.shape)"
   ],
   "id": "202752f94818c6fa",
   "execution_count": 72,
   "outputs": []
  },
  {
   "metadata": {
    "ExecuteTime": {
     "end_time": "2025-02-14T09:49:02.881106Z",
     "start_time": "2025-02-14T09:49:02.865299Z"
    }
   },
   "cell_type": "code",
   "source": [
    "print((b * c).shape)\n",
    "print((c * b).shape)"
   ],
   "id": "8a35f055fa3503af",
   "execution_count": 73,
   "outputs": []
  },
  {
   "metadata": {
    "ExecuteTime": {
     "end_time": "2025-02-14T09:55:40.384508Z",
     "start_time": "2025-02-14T09:55:40.337560Z"
    }
   },
   "cell_type": "code",
   "source": [
    "# 补充：逐元素计算\n",
    "a = torch.arange(16 * 256).view(16, 256)\n",
    "a.shape"
   ],
   "id": "23ab9fd8f0ce4338",
   "execution_count": 76,
   "outputs": []
  },
  {
   "metadata": {
    "ExecuteTime": {
     "end_time": "2025-02-14T09:55:47.472761Z",
     "start_time": "2025-02-14T09:55:47.455448Z"
    }
   },
   "cell_type": "code",
   "source": "(a * a).shape",
   "id": "9d7ea31bab1ae30f",
   "execution_count": 77,
   "outputs": []
  }
 ],
 "metadata": {
  "kernelspec": {
   "display_name": "mldl",
   "language": "python",
   "name": "mldl"
  },
  "language_info": {
   "codemirror_mode": {
    "name": "ipython",
    "version": 2
   },
   "file_extension": ".py",
   "mimetype": "text/x-python",
   "name": "python",
   "nbconvert_exporter": "python",
   "pygments_lexer": "ipython2",
   "version": "2.7.6"
  }
 },
 "nbformat": 4,
 "nbformat_minor": 5
}
