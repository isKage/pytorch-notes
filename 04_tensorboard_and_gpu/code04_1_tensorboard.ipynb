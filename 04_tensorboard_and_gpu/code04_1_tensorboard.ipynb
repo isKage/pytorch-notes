{
 "cells": [
  {
   "cell_type": "code",
   "id": "initial_id",
   "metadata": {
    "collapsed": true,
    "ExecuteTime": {
     "end_time": "2025-02-13T04:34:07.721815Z",
     "start_time": "2025-02-13T04:34:07.712115Z"
    }
   },
   "source": [
    "import torch\n",
    "import numpy as np\n",
    "import torch.nn as nn\n",
    "from torch.utils.data import DataLoader\n",
    "\n",
    "import torchvision\n",
    "\n",
    "from torch.utils.tensorboard import SummaryWriter  # 导入 tensorboard"
   ],
   "execution_count": 81,
   "outputs": []
  },
  {
   "metadata": {
    "ExecuteTime": {
     "end_time": "2025-02-13T04:34:07.735456Z",
     "start_time": "2025-02-13T04:34:07.727117Z"
    }
   },
   "cell_type": "code",
   "source": [
    "# 构建 logger 对象，指定 log 文件的保存路径 log_dir='logs'\n",
    "logger = SummaryWriter(log_dir='logs')"
   ],
   "id": "423c842980c2d3c8",
   "execution_count": 82,
   "outputs": []
  },
  {
   "metadata": {
    "ExecuteTime": {
     "end_time": "2025-02-13T04:34:07.744530Z",
     "start_time": "2025-02-13T04:34:07.737825Z"
    }
   },
   "cell_type": "code",
   "source": [
    "# 此时已经可以通过执行：tensorboard --logdir=path 来访问可视化界面。\n",
    "# path 填入 logger 对象文件报错路径 例如此处的 './logs'"
   ],
   "id": "f5a81b38ea9e2409",
   "execution_count": 83,
   "outputs": []
  },
  {
   "metadata": {
    "ExecuteTime": {
     "end_time": "2025-02-13T04:34:07.777124Z",
     "start_time": "2025-02-13T04:34:07.748887Z"
    }
   },
   "cell_type": "code",
   "source": [
    "# 使用 add_scalar 记录标量\n",
    "for n_iter in range(100):\n",
    "    logger.add_scalar(tag='Loss/train', scalar_value=np.random.random(), global_step=n_iter)\n",
    "    logger.add_scalar(tag='Loss/test', scalar_value=np.random.random(), global_step=n_iter)"
   ],
   "id": "1dca58990bb038e9",
   "execution_count": 84,
   "outputs": []
  },
  {
   "metadata": {
    "ExecuteTime": {
     "end_time": "2025-02-13T04:34:07.781717Z",
     "start_time": "2025-02-13T04:34:07.778956Z"
    }
   },
   "cell_type": "code",
   "source": [
    "# %load_ext tensorboard\n",
    "# %tensorboard --logdir='logs'"
   ],
   "id": "d4caeeadff00b140",
   "execution_count": 85,
   "outputs": []
  },
  {
   "metadata": {
    "ExecuteTime": {
     "end_time": "2025-02-13T04:34:07.786569Z",
     "start_time": "2025-02-13T04:34:07.783630Z"
    }
   },
   "cell_type": "code",
   "source": "# !kill 75314  # 关闭 tensorboard",
   "id": "ccf23ed8128ae42f",
   "execution_count": 86,
   "outputs": []
  },
  {
   "metadata": {
    "ExecuteTime": {
     "end_time": "2025-02-13T04:34:07.803233Z",
     "start_time": "2025-02-13T04:34:07.788287Z"
    }
   },
   "cell_type": "code",
   "source": [
    "from torchvision import datasets, transforms\n",
    "\n",
    "transform = transforms.Compose([\n",
    "    transforms.ToTensor(),\n",
    "    transforms.Normalize(mean=(0.5,), std=(0.5,))  # MNIST 是灰度图，单通道\n",
    "])\n",
    "\n",
    "# './data/' 指定下载的路径，download=True 表示下载，train=False 表示下载测试集，transform 指定变换\n",
    "dataset = datasets.MNIST('./data/', download=True, train=False, transform=transform)\n",
    "dataloader = DataLoader(dataset, shuffle=True, batch_size=16)"
   ],
   "id": "7ae0cda0bd07137",
   "execution_count": 87,
   "outputs": []
  },
  {
   "metadata": {
    "ExecuteTime": {
     "end_time": "2025-02-13T04:34:07.822523Z",
     "start_time": "2025-02-13T04:34:07.808123Z"
    }
   },
   "cell_type": "code",
   "source": [
    "images, labels = next(iter(dataloader))\n",
    "grid = torchvision.utils.make_grid(images)"
   ],
   "id": "5b1dc8b4c194a112",
   "execution_count": 88,
   "outputs": []
  },
  {
   "metadata": {
    "ExecuteTime": {
     "end_time": "2025-02-13T04:34:07.830907Z",
     "start_time": "2025-02-13T04:34:07.825154Z"
    }
   },
   "cell_type": "code",
   "source": "images.shape",
   "id": "ede334a3ad5d9546",
   "execution_count": 89,
   "outputs": []
  },
  {
   "metadata": {
    "ExecuteTime": {
     "end_time": "2025-02-13T04:34:07.842999Z",
     "start_time": "2025-02-13T04:34:07.832864Z"
    }
   },
   "cell_type": "code",
   "source": [
    "# 使用 add_image 显示图像\n",
    "logger.add_image('images', grid, 0)"
   ],
   "id": "471ad5eb5204e70a",
   "execution_count": 90,
   "outputs": []
  },
  {
   "metadata": {
    "ExecuteTime": {
     "end_time": "2025-02-13T04:34:07.886117Z",
     "start_time": "2025-02-13T04:34:07.844542Z"
    }
   },
   "cell_type": "code",
   "source": [
    "class myModel(nn.Module):\n",
    "    def __init__(self, input_size=28, hidden_size=500, num_classes=10):\n",
    "        super().__init__()\n",
    "        self.fc1 = nn.Linear(input_size, hidden_size)\n",
    "        self.relu = nn.ReLU()\n",
    "        self.fc2 = nn.Linear(hidden_size, num_classes)\n",
    "\n",
    "    def forward(self, x):\n",
    "        out = self.fc1(x)\n",
    "        out = self.relu(out)\n",
    "        out = self.fc2(out)\n",
    "        return out\n",
    "\n",
    "\n",
    "model = myModel()\n",
    "logger.add_graph(model, images)  # 代入具体的数值计算 torch.Size([16, 1, 28, 28])"
   ],
   "id": "38b5177a6553bf58",
   "execution_count": 91,
   "outputs": []
  },
  {
   "metadata": {
    "ExecuteTime": {
     "end_time": "2025-02-13T04:34:07.902729Z",
     "start_time": "2025-02-13T04:34:07.887891Z"
    }
   },
   "cell_type": "code",
   "source": [
    "logger.add_histogram('normal', np.random.normal(0, 5, 1000), global_step=1)\n",
    "logger.add_histogram('normal', np.random.normal(1, 2, 1000), global_step=10)"
   ],
   "id": "c4d3263b38ee066f",
   "execution_count": 92,
   "outputs": []
  },
  {
   "metadata": {
    "ExecuteTime": {
     "end_time": "2025-02-13T04:35:02.033141Z",
     "start_time": "2025-02-13T04:35:01.890910Z"
    }
   },
   "cell_type": "code",
   "source": [
    "# 使用 add_embedding 进行 embedding 可视化\n",
    "dataset = datasets.MNIST('./data/', download=True, train=False)  # PIL Image 对象可以可视化\n",
    "images = dataset.data[:100].float()  # 提取前 100 张图像并转为浮点数类型\n",
    "label = dataset.targets[:100]  # 提取前 100 张图像的标签\n",
    "features = images.view(100, 28 * 28)  # 将图像展平为 100 x 784 的矩阵\n",
    "logger.add_embedding(features, metadata=label, label_img=images.unsqueeze(1))  # 将嵌入数据记录到 TensorBoard"
   ],
   "id": "9a8a1e94f7715ff5",
   "execution_count": 94,
   "outputs": []
  }
 ],
 "metadata": {
  "kernelspec": {
   "display_name": "mldl",
   "language": "python",
   "name": "mldl"
  },
  "language_info": {
   "codemirror_mode": {
    "name": "ipython",
    "version": 2
   },
   "file_extension": ".py",
   "mimetype": "text/x-python",
   "name": "python",
   "nbconvert_exporter": "python",
   "pygments_lexer": "ipython2",
   "version": "2.7.6"
  }
 },
 "nbformat": 4,
 "nbformat_minor": 5
}
