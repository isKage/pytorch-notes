{
 "cells": [
  {
   "cell_type": "code",
   "id": "initial_id",
   "metadata": {
    "collapsed": true,
    "ExecuteTime": {
     "end_time": "2025-02-13T08:03:30.413948Z",
     "start_time": "2025-02-13T08:03:27.790479Z"
    }
   },
   "source": "import torch",
   "outputs": [],
   "execution_count": 1
  },
  {
   "metadata": {
    "ExecuteTime": {
     "end_time": "2025-02-13T08:03:34.104197Z",
     "start_time": "2025-02-13T08:03:34.075301Z"
    }
   },
   "cell_type": "code",
   "source": "t = torch.tensor([1, 2, 3])",
   "id": "6c2a8d48a45071a",
   "outputs": [],
   "execution_count": 2
  },
  {
   "metadata": {
    "ExecuteTime": {
     "end_time": "2025-02-13T08:03:35.399562Z",
     "start_time": "2025-02-13T08:03:35.389621Z"
    }
   },
   "cell_type": "code",
   "source": "t",
   "id": "97f0d2bef5538224",
   "outputs": [
    {
     "data": {
      "text/plain": [
       "tensor([1, 2, 3])"
      ]
     },
     "execution_count": 3,
     "metadata": {},
     "output_type": "execute_result"
    }
   ],
   "execution_count": 3
  },
  {
   "metadata": {
    "ExecuteTime": {
     "end_time": "2025-02-13T08:09:35.714834Z",
     "start_time": "2025-02-13T08:09:35.694444Z"
    }
   },
   "cell_type": "code",
   "source": [
    "if torch.cuda.is_available():  # 检查 CUDA 是否可用\n",
    "    t_cuda = t.cuda()  # 将张量 t 移动到 CUDA 设备\n",
    "    print(t.is_cuda)\n",
    "    print(t_cuda.is_cuda)\n",
    "else:\n",
    "    print(\"no CUDA\")"
   ],
   "id": "82a6eb5dbc5b2778",
   "outputs": [
    {
     "name": "stdout",
     "output_type": "stream",
     "text": [
      "no CUDA\n"
     ]
    }
   ],
   "execution_count": 9
  },
  {
   "metadata": {
    "ExecuteTime": {
     "end_time": "2025-02-13T08:13:50.414345Z",
     "start_time": "2025-02-13T08:13:50.395018Z"
    }
   },
   "cell_type": "code",
   "source": [
    "from torch import nn\n",
    "\n",
    "module = nn.Linear(3, 4)\n",
    "\n",
    "if torch.cuda.is_available():\n",
    "    module.cuda(device=0)\n",
    "    print(module.weight.is_cuda)  # True\n",
    "else:\n",
    "    print(\"no CUDA\")"
   ],
   "id": "71c5ef703e9fc782",
   "outputs": [
    {
     "name": "stdout",
     "output_type": "stream",
     "text": [
      "no CUDA\n"
     ]
    }
   ],
   "execution_count": 11
  },
  {
   "metadata": {
    "ExecuteTime": {
     "end_time": "2025-02-13T08:28:19.006216Z",
     "start_time": "2025-02-13T08:28:18.972239Z"
    }
   },
   "cell_type": "code",
   "source": [
    "# 使用.to方法，将 Tensor 转移至第 0 块GPU上\n",
    "t = torch.tensor([1, 2, 3])\n",
    "\n",
    "if torch.cuda.is_available():\n",
    "    t_cuda = t.to('cuda:0')\n",
    "    print(t_cuda.is_cuda)\n",
    "else:\n",
    "    print(\"no CUDA\")"
   ],
   "id": "bb93e4ae929238fb",
   "outputs": [
    {
     "name": "stdout",
     "output_type": "stream",
     "text": [
      "no CUDA\n"
     ]
    }
   ],
   "execution_count": 12
  },
  {
   "metadata": {
    "ExecuteTime": {
     "end_time": "2025-02-13T09:29:29.076611Z",
     "start_time": "2025-02-13T09:29:29.063863Z"
    }
   },
   "cell_type": "code",
   "source": [
    "if torch.cuda.is_available():\n",
    "    # 以交叉熵损失函数为例\n",
    "    criterion = torch.nn.CrossEntropyLoss(weight=torch.Tensor([1, 3]))\n",
    "\n",
    "    # 张量 Tensor 迁移到 GPU\n",
    "    inputs = torch.randn(4, 2).cuda()\n",
    "    target = t.Tensor([1, 0, 0, 1]).long().cuda()\n",
    "\n",
    "    # loss = criterion(input, target)  # 报错：计算损失函数的参数为迁移到 GPU\n",
    "\n",
    "    # 正确：迁移损失函数\n",
    "    criterion.cuda()\n",
    "    loss = criterion(inputs, target)\n",
    "    print(criterion._buffers)"
   ],
   "id": "33573d4d3fc2d5a5",
   "outputs": [],
   "execution_count": 15
  },
  {
   "metadata": {
    "ExecuteTime": {
     "end_time": "2025-02-13T09:43:41.929150Z",
     "start_time": "2025-02-13T09:43:41.813643Z"
    }
   },
   "cell_type": "code",
   "source": [
    "# 指定默认使用GPU \"cuda:0\"\n",
    "with torch.cuda.device(0):\n",
    "    # 在 GPU 上构建Tensor\n",
    "    a = torch.cuda.FloatTensor(2, 3)\n",
    "\n",
    "    # 将 Tensor 转移至 GPU\n",
    "    b = torch.FloatTensor(2, 3).cuda()\n",
    "\n",
    "    print(a.get_divice)\n",
    "    print(b.get_divice)\n",
    "\n",
    "    c = a + b\n",
    "    print(c.get_divice)"
   ],
   "id": "d09700bf90e5de29",
   "outputs": [
    {
     "ename": "RuntimeError",
     "evalue": "PyTorch was compiled without CUDA support",
     "output_type": "error",
     "traceback": [
      "\u001B[0;31m---------------------------------------------------------------------------\u001B[0m",
      "\u001B[0;31mRuntimeError\u001B[0m                              Traceback (most recent call last)",
      "Cell \u001B[0;32mIn[16], line 2\u001B[0m\n\u001B[1;32m      1\u001B[0m \u001B[38;5;66;03m# 指定默认使用GPU \"cuda:0\"\u001B[39;00m\n\u001B[0;32m----> 2\u001B[0m \u001B[38;5;28;01mwith\u001B[39;00m torch\u001B[38;5;241m.\u001B[39mcuda\u001B[38;5;241m.\u001B[39mdevice(\u001B[38;5;241m0\u001B[39m):\n\u001B[1;32m      3\u001B[0m     \u001B[38;5;66;03m# 在 GPU 上构建Tensor\u001B[39;00m\n\u001B[1;32m      4\u001B[0m     a \u001B[38;5;241m=\u001B[39m torch\u001B[38;5;241m.\u001B[39mcuda\u001B[38;5;241m.\u001B[39mFloatTensor(\u001B[38;5;241m2\u001B[39m, \u001B[38;5;241m3\u001B[39m)\n\u001B[1;32m      6\u001B[0m     \u001B[38;5;66;03m# 将 Tensor 转移至 GPU\u001B[39;00m\n",
      "File \u001B[0;32m~/Desktop/code/venv/mldl/lib/python3.9/site-packages/torch/cuda/__init__.py:374\u001B[0m, in \u001B[0;36mdevice.__enter__\u001B[0;34m(self)\u001B[0m\n\u001B[1;32m    373\u001B[0m \u001B[38;5;28;01mdef\u001B[39;00m \u001B[38;5;21m__enter__\u001B[39m(\u001B[38;5;28mself\u001B[39m):\n\u001B[0;32m--> 374\u001B[0m     \u001B[38;5;28mself\u001B[39m\u001B[38;5;241m.\u001B[39mprev_idx \u001B[38;5;241m=\u001B[39m \u001B[43mtorch\u001B[49m\u001B[38;5;241;43m.\u001B[39;49m\u001B[43mcuda\u001B[49m\u001B[38;5;241;43m.\u001B[39;49m\u001B[43m_exchange_device\u001B[49m\u001B[43m(\u001B[49m\u001B[38;5;28;43mself\u001B[39;49m\u001B[38;5;241;43m.\u001B[39;49m\u001B[43midx\u001B[49m\u001B[43m)\u001B[49m\n",
      "File \u001B[0;32m~/Desktop/code/venv/mldl/lib/python3.9/site-packages/torch/cuda/__init__.py:100\u001B[0m, in \u001B[0;36m_exchange_device\u001B[0;34m(device)\u001B[0m\n\u001B[1;32m     98\u001B[0m \u001B[38;5;28;01mif\u001B[39;00m device \u001B[38;5;241m<\u001B[39m \u001B[38;5;241m0\u001B[39m:\n\u001B[1;32m     99\u001B[0m     \u001B[38;5;28;01mreturn\u001B[39;00m \u001B[38;5;241m-\u001B[39m\u001B[38;5;241m1\u001B[39m\n\u001B[0;32m--> 100\u001B[0m \u001B[38;5;28;01mraise\u001B[39;00m \u001B[38;5;167;01mRuntimeError\u001B[39;00m(\u001B[38;5;124m\"\u001B[39m\u001B[38;5;124mPyTorch was compiled without CUDA support\u001B[39m\u001B[38;5;124m\"\u001B[39m)\n",
      "\u001B[0;31mRuntimeError\u001B[0m: PyTorch was compiled without CUDA support"
     ]
    }
   ],
   "execution_count": 16
  },
  {
   "metadata": {
    "ExecuteTime": {
     "end_time": "2025-02-13T09:46:03.005286Z",
     "start_time": "2025-02-13T09:46:02.901797Z"
    }
   },
   "cell_type": "code",
   "source": [
    "torch.set_default_tensor_type('torch.cuda.FloatTensor')  # 指定默认 Tensor 的类型为GPU上的FloatTensor\n",
    "a = torch.ones(2, 3)\n",
    "print(a.is_cuda)\n",
    "\n",
    "torch.set_default_tensor_type('torch.FloatTensor')  # 恢复默认"
   ],
   "id": "7e1121d6ac6f145a",
   "outputs": [
    {
     "ename": "TypeError",
     "evalue": "type torch.cuda.FloatTensor not available. Torch not compiled with CUDA enabled.",
     "output_type": "error",
     "traceback": [
      "\u001B[0;31m---------------------------------------------------------------------------\u001B[0m",
      "\u001B[0;31mTypeError\u001B[0m                                 Traceback (most recent call last)",
      "Cell \u001B[0;32mIn[18], line 1\u001B[0m\n\u001B[0;32m----> 1\u001B[0m \u001B[43mtorch\u001B[49m\u001B[38;5;241;43m.\u001B[39;49m\u001B[43mset_default_tensor_type\u001B[49m\u001B[43m(\u001B[49m\u001B[38;5;124;43m'\u001B[39;49m\u001B[38;5;124;43mtorch.cuda.FloatTensor\u001B[39;49m\u001B[38;5;124;43m'\u001B[39;49m\u001B[43m)\u001B[49m \u001B[38;5;66;03m# 指定默认 Tensor 的类型为GPU上的FloatTensor\u001B[39;00m\n\u001B[1;32m      2\u001B[0m a \u001B[38;5;241m=\u001B[39m torch\u001B[38;5;241m.\u001B[39mones(\u001B[38;5;241m2\u001B[39m, \u001B[38;5;241m3\u001B[39m)\n\u001B[1;32m      3\u001B[0m \u001B[38;5;28mprint\u001B[39m(a\u001B[38;5;241m.\u001B[39mis_cuda)\n",
      "File \u001B[0;32m~/Desktop/code/venv/mldl/lib/python3.9/site-packages/torch/__init__.py:696\u001B[0m, in \u001B[0;36mset_default_tensor_type\u001B[0;34m(t)\u001B[0m\n\u001B[1;32m    694\u001B[0m \u001B[38;5;28;01mif\u001B[39;00m \u001B[38;5;28misinstance\u001B[39m(t, \u001B[38;5;28mstr\u001B[39m):\n\u001B[1;32m    695\u001B[0m     t \u001B[38;5;241m=\u001B[39m _import_dotted_name(t)\n\u001B[0;32m--> 696\u001B[0m \u001B[43m_C\u001B[49m\u001B[38;5;241;43m.\u001B[39;49m\u001B[43m_set_default_tensor_type\u001B[49m\u001B[43m(\u001B[49m\u001B[43mt\u001B[49m\u001B[43m)\u001B[49m\n",
      "\u001B[0;31mTypeError\u001B[0m: type torch.cuda.FloatTensor not available. Torch not compiled with CUDA enabled."
     ]
    }
   ],
   "execution_count": 18
  },
  {
   "metadata": {
    "ExecuteTime": {
     "end_time": "2025-02-13T09:57:14.272727Z",
     "start_time": "2025-02-13T09:57:14.251148Z"
    }
   },
   "cell_type": "code",
   "source": [
    "# import os\n",
    "# os.environ['CUDA_VISIBLE_DEVICES'] = '0'"
   ],
   "id": "748532f513125cc0",
   "outputs": [],
   "execution_count": 19
  },
  {
   "metadata": {},
   "cell_type": "code",
   "outputs": [],
   "execution_count": null,
   "source": "# %env CUDA_VISIBLE_DEVICES=0",
   "id": "5c9a78f47b0d265a"
  },
  {
   "metadata": {
    "ExecuteTime": {
     "end_time": "2025-02-13T10:02:22.527619Z",
     "start_time": "2025-02-13T10:02:22.515249Z"
    }
   },
   "cell_type": "code",
   "source": [
    "# 【推荐】如果用户具有 GPU 设备，那么使用GPU，否则使用CPU\n",
    "device = torch.device(\"cuda\" if torch.cuda.is_available() else \"cpu\")\n",
    "print(device)"
   ],
   "id": "6fc8fe5cb72999ad",
   "outputs": [
    {
     "name": "stdout",
     "output_type": "stream",
     "text": [
      "cpu\n"
     ]
    }
   ],
   "execution_count": 22
  },
  {
   "metadata": {
    "ExecuteTime": {
     "end_time": "2025-02-13T10:02:37.582354Z",
     "start_time": "2025-02-13T10:02:37.569051Z"
    }
   },
   "cell_type": "code",
   "source": "device",
   "id": "b4bc3dba831214fd",
   "outputs": [
    {
     "data": {
      "text/plain": [
       "device(type='cpu')"
      ]
     },
     "execution_count": 23,
     "metadata": {},
     "output_type": "execute_result"
    }
   ],
   "execution_count": 23
  },
  {
   "metadata": {
    "ExecuteTime": {
     "end_time": "2025-02-13T10:04:04.602181Z",
     "start_time": "2025-02-13T10:04:04.573Z"
    }
   },
   "cell_type": "code",
   "source": [
    "x = torch.randn(2, 3)\n",
    "x_to = x.to(device)\n",
    "print(x_to.device)"
   ],
   "id": "8e25ceb00c29f914",
   "outputs": [
    {
     "name": "stdout",
     "output_type": "stream",
     "text": [
      "cpu\n"
     ]
    }
   ],
   "execution_count": 26
  },
  {
   "metadata": {
    "ExecuteTime": {
     "end_time": "2025-02-13T10:05:18.107739Z",
     "start_time": "2025-02-13T10:05:18.059735Z"
    }
   },
   "cell_type": "code",
   "source": [
    "device = torch.device(\"cuda\" if torch.cuda.is_available() else \"cpu\")\n",
    "x_cpu = torch.empty(2, device='cpu')\n",
    "print(x_cpu, x_cpu.is_cuda)\n",
    "x_gpu = torch.empty(2, device=device)\n",
    "print(x_gpu, x_gpu.is_cuda)"
   ],
   "id": "86c379fa4ae2dc3d",
   "outputs": [
    {
     "name": "stdout",
     "output_type": "stream",
     "text": [
      "tensor([0., 0.]) False\n",
      "tensor([0., 0.]) False\n"
     ]
    }
   ],
   "execution_count": 27
  },
  {
   "metadata": {
    "ExecuteTime": {
     "end_time": "2025-02-13T10:07:34.030725Z",
     "start_time": "2025-02-13T10:07:33.963013Z"
    }
   },
   "cell_type": "code",
   "source": [
    "# new_*() : 保留原 Tensor 的设备属性\n",
    "y_cpu = x_cpu.new_full((3, 4), 9)  # new_full : 用 9 填充形状 [3, 4] 的张量\n",
    "print(y_cpu, y_cpu.is_cuda)\n",
    "y_gpu = x_gpu.new_zeros(3, 4)  # new_zeros : 填充 0\n",
    "print(y_gpu, y_gpu.is_cuda)"
   ],
   "id": "8fa46e3a42ea4eca",
   "outputs": [
    {
     "name": "stdout",
     "output_type": "stream",
     "text": [
      "tensor([[3.1415, 3.1415, 3.1415, 3.1415],\n",
      "        [3.1415, 3.1415, 3.1415, 3.1415],\n",
      "        [3.1415, 3.1415, 3.1415, 3.1415]]) False\n",
      "tensor([[0., 0., 0., 0.],\n",
      "        [0., 0., 0., 0.],\n",
      "        [0., 0., 0., 0.]]) False\n"
     ]
    }
   ],
   "execution_count": 28
  },
  {
   "metadata": {
    "ExecuteTime": {
     "end_time": "2025-02-13T10:11:15.608532Z",
     "start_time": "2025-02-13T10:11:15.550505Z"
    }
   },
   "cell_type": "code",
   "source": [
    "# 使用ones_like或zeros_like可以创建与原Tensor大小类别均相同的新Tensor\n",
    "z_cpu = torch.ones_like(x_cpu)  # 大小相同，设备相同\n",
    "print(z_cpu, z_cpu.is_cuda)\n",
    "\n",
    "z_gpu = torch.zeros_like(x_gpu)  # 大小相同，设备相同\n",
    "print(z_gpu, z_gpu.is_cuda)"
   ],
   "id": "e271c4ce85237f94",
   "outputs": [
    {
     "name": "stdout",
     "output_type": "stream",
     "text": [
      "tensor([1., 1.]) False\n",
      "tensor([0., 0.]) False\n"
     ]
    }
   ],
   "execution_count": 29
  },
  {
   "metadata": {},
   "cell_type": "code",
   "outputs": [],
   "execution_count": null,
   "source": "",
   "id": "bcf533ebf313560b"
  }
 ],
 "metadata": {
  "kernelspec": {
   "display_name": "mldl",
   "language": "python",
   "name": "mldl"
  },
  "language_info": {
   "codemirror_mode": {
    "name": "ipython",
    "version": 2
   },
   "file_extension": ".py",
   "mimetype": "text/x-python",
   "name": "python",
   "nbconvert_exporter": "python",
   "pygments_lexer": "ipython2",
   "version": "2.7.6"
  }
 },
 "nbformat": 4,
 "nbformat_minor": 5
}
