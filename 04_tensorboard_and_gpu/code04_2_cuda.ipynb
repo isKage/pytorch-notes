{
 "cells": [
  {
   "cell_type": "code",
   "execution_count": 1,
   "id": "initial_id",
   "metadata": {
    "ExecuteTime": {
     "end_time": "2025-02-13T08:03:30.413948Z",
     "start_time": "2025-02-13T08:03:27.790479Z"
    },
    "collapsed": true
   },
   "outputs": [],
   "source": [
    "import torch"
   ]
  },
  {
   "cell_type": "code",
   "execution_count": 2,
   "id": "6c2a8d48a45071a",
   "metadata": {
    "ExecuteTime": {
     "end_time": "2025-02-13T08:03:34.104197Z",
     "start_time": "2025-02-13T08:03:34.075301Z"
    }
   },
   "outputs": [],
   "source": [
    "t = torch.tensor([1, 2, 3])"
   ]
  },
  {
   "cell_type": "code",
   "execution_count": 3,
   "id": "97f0d2bef5538224",
   "metadata": {
    "ExecuteTime": {
     "end_time": "2025-02-13T08:03:35.399562Z",
     "start_time": "2025-02-13T08:03:35.389621Z"
    }
   },
   "outputs": [
    {
     "data": {
      "text/plain": [
       "tensor([1, 2, 3])"
      ]
     },
     "execution_count": 3,
     "metadata": {},
     "output_type": "execute_result"
    }
   ],
   "source": [
    "t"
   ]
  },
  {
   "cell_type": "code",
   "execution_count": 4,
   "id": "82a6eb5dbc5b2778",
   "metadata": {
    "ExecuteTime": {
     "end_time": "2025-02-13T08:09:35.714834Z",
     "start_time": "2025-02-13T08:09:35.694444Z"
    }
   },
   "outputs": [
    {
     "name": "stdout",
     "output_type": "stream",
     "text": [
      "False\n",
      "True\n"
     ]
    }
   ],
   "source": [
    "if torch.cuda.is_available():  # 检查 CUDA 是否可用\n",
    "    t_cuda = t.cuda()  # 将张量 t 移动到 CUDA 设备\n",
    "    print(t.is_cuda)\n",
    "    print(t_cuda.is_cuda)\n",
    "else:\n",
    "    print(\"no CUDA\")"
   ]
  },
  {
   "cell_type": "code",
   "execution_count": 5,
   "id": "71c5ef703e9fc782",
   "metadata": {
    "ExecuteTime": {
     "end_time": "2025-02-13T08:13:50.414345Z",
     "start_time": "2025-02-13T08:13:50.395018Z"
    }
   },
   "outputs": [
    {
     "name": "stdout",
     "output_type": "stream",
     "text": [
      "True\n"
     ]
    }
   ],
   "source": [
    "from torch import nn\n",
    "\n",
    "module = nn.Linear(3, 4)\n",
    "\n",
    "if torch.cuda.is_available():\n",
    "    module.cuda(device=0)\n",
    "    print(module.weight.is_cuda)  # True\n",
    "else:\n",
    "    print(\"no CUDA\")"
   ]
  },
  {
   "cell_type": "code",
   "execution_count": 6,
   "id": "bb93e4ae929238fb",
   "metadata": {
    "ExecuteTime": {
     "end_time": "2025-02-13T08:28:19.006216Z",
     "start_time": "2025-02-13T08:28:18.972239Z"
    }
   },
   "outputs": [
    {
     "name": "stdout",
     "output_type": "stream",
     "text": [
      "True\n"
     ]
    }
   ],
   "source": [
    "# 使用.to方法，将 Tensor 转移至第 0 块GPU上\n",
    "t = torch.tensor([1, 2, 3])\n",
    "\n",
    "if torch.cuda.is_available():\n",
    "    t_cuda = t.to('cuda:0')\n",
    "    print(t_cuda.is_cuda)\n",
    "else:\n",
    "    print(\"no CUDA\")"
   ]
  },
  {
   "cell_type": "code",
   "execution_count": 8,
   "id": "33573d4d3fc2d5a5",
   "metadata": {
    "ExecuteTime": {
     "end_time": "2025-02-13T09:29:29.076611Z",
     "start_time": "2025-02-13T09:29:29.063863Z"
    }
   },
   "outputs": [
    {
     "name": "stdout",
     "output_type": "stream",
     "text": [
      "{'weight': tensor([1., 3.], device='cuda:0')}\n"
     ]
    }
   ],
   "source": [
    "if torch.cuda.is_available():\n",
    "    # 以交叉熵损失函数为例\n",
    "    criterion = torch.nn.CrossEntropyLoss(weight=torch.Tensor([1, 3]))\n",
    "\n",
    "    # 张量 Tensor 迁移到 GPU\n",
    "    inputs = torch.randn(4, 2).cuda()\n",
    "    target = torch.Tensor([1, 0, 0, 1]).long().cuda()\n",
    "\n",
    "    # loss = criterion(input, target)  # 报错：计算损失函数的参数为迁移到 GPU\n",
    "\n",
    "    # 正确：迁移损失函数\n",
    "    criterion.cuda()\n",
    "    loss = criterion(inputs, target)\n",
    "    print(criterion._buffers)"
   ]
  },
  {
   "cell_type": "code",
   "execution_count": 10,
   "id": "d09700bf90e5de29",
   "metadata": {
    "ExecuteTime": {
     "end_time": "2025-02-13T09:43:41.929150Z",
     "start_time": "2025-02-13T09:43:41.813643Z"
    }
   },
   "outputs": [
    {
     "name": "stdout",
     "output_type": "stream",
     "text": [
      "<built-in method get_device of Tensor object at 0x0000019C70C59CC0>\n",
      "<built-in method get_device of Tensor object at 0x0000019C04443930>\n",
      "<built-in method get_device of Tensor object at 0x0000019C04441360>\n"
     ]
    }
   ],
   "source": [
    "# 指定默认使用GPU \"cuda:0\"\n",
    "with torch.cuda.device(0):\n",
    "    # 在 GPU 上构建Tensor\n",
    "    a = torch.cuda.FloatTensor(2, 3)\n",
    "\n",
    "    # 将 Tensor 转移至 GPU\n",
    "    b = torch.FloatTensor(2, 3).cuda()\n",
    "\n",
    "    print(a.get_device)\n",
    "    print(b.get_device)\n",
    "\n",
    "    c = a + b\n",
    "    print(c.get_device)"
   ]
  },
  {
   "cell_type": "code",
   "execution_count": 11,
   "id": "7e1121d6ac6f145a",
   "metadata": {
    "ExecuteTime": {
     "end_time": "2025-02-13T09:46:03.005286Z",
     "start_time": "2025-02-13T09:46:02.901797Z"
    }
   },
   "outputs": [
    {
     "name": "stdout",
     "output_type": "stream",
     "text": [
      "True\n"
     ]
    },
    {
     "name": "stderr",
     "output_type": "stream",
     "text": [
      "c:\\Users\\15056\\.conda\\envs\\pytorch\\Lib\\site-packages\\torch\\__init__.py:1236: UserWarning: torch.set_default_tensor_type() is deprecated as of PyTorch 2.1, please use torch.set_default_dtype() and torch.set_default_device() as alternatives. (Triggered internally at C:\\actions-runner\\_work\\pytorch\\pytorch\\pytorch\\torch\\csrc\\tensor\\python_tensor.cpp:436.)\n",
      "  _C._set_default_tensor_type(t)\n"
     ]
    }
   ],
   "source": [
    "torch.set_default_tensor_type('torch.cuda.FloatTensor')  # 指定默认 Tensor 的类型为GPU上的FloatTensor\n",
    "a = torch.ones(2, 3)\n",
    "print(a.is_cuda)\n",
    "\n",
    "torch.set_default_tensor_type('torch.FloatTensor')  # 恢复默认"
   ]
  },
  {
   "cell_type": "code",
   "execution_count": 12,
   "id": "748532f513125cc0",
   "metadata": {
    "ExecuteTime": {
     "end_time": "2025-02-13T09:57:14.272727Z",
     "start_time": "2025-02-13T09:57:14.251148Z"
    }
   },
   "outputs": [],
   "source": [
    "# import os\n",
    "# os.environ['CUDA_VISIBLE_DEVICES'] = '0'"
   ]
  },
  {
   "cell_type": "code",
   "execution_count": 13,
   "id": "5c9a78f47b0d265a",
   "metadata": {},
   "outputs": [],
   "source": [
    "# %env CUDA_VISIBLE_DEVICES=0"
   ]
  },
  {
   "cell_type": "code",
   "execution_count": 14,
   "id": "6fc8fe5cb72999ad",
   "metadata": {
    "ExecuteTime": {
     "end_time": "2025-02-13T10:02:22.527619Z",
     "start_time": "2025-02-13T10:02:22.515249Z"
    }
   },
   "outputs": [
    {
     "name": "stdout",
     "output_type": "stream",
     "text": [
      "cuda\n"
     ]
    }
   ],
   "source": [
    "# 【推荐】如果用户具有 GPU 设备，那么使用GPU，否则使用CPU\n",
    "device = torch.device(\"cuda\" if torch.cuda.is_available() else \"cpu\")\n",
    "print(device)"
   ]
  },
  {
   "cell_type": "code",
   "execution_count": 15,
   "id": "b4bc3dba831214fd",
   "metadata": {
    "ExecuteTime": {
     "end_time": "2025-02-13T10:02:37.582354Z",
     "start_time": "2025-02-13T10:02:37.569051Z"
    }
   },
   "outputs": [
    {
     "data": {
      "text/plain": [
       "device(type='cuda')"
      ]
     },
     "execution_count": 15,
     "metadata": {},
     "output_type": "execute_result"
    }
   ],
   "source": [
    "device"
   ]
  },
  {
   "cell_type": "code",
   "execution_count": 16,
   "id": "8e25ceb00c29f914",
   "metadata": {
    "ExecuteTime": {
     "end_time": "2025-02-13T10:04:04.602181Z",
     "start_time": "2025-02-13T10:04:04.573Z"
    }
   },
   "outputs": [
    {
     "name": "stdout",
     "output_type": "stream",
     "text": [
      "cuda:0\n"
     ]
    }
   ],
   "source": [
    "x = torch.randn(2, 3)\n",
    "x_to = x.to(device)\n",
    "print(x_to.device)"
   ]
  },
  {
   "cell_type": "code",
   "execution_count": 17,
   "id": "86c379fa4ae2dc3d",
   "metadata": {
    "ExecuteTime": {
     "end_time": "2025-02-13T10:05:18.107739Z",
     "start_time": "2025-02-13T10:05:18.059735Z"
    }
   },
   "outputs": [
    {
     "name": "stdout",
     "output_type": "stream",
     "text": [
      "tensor([0., 0.]) False\n",
      "tensor([0., 0.], device='cuda:0') True\n"
     ]
    }
   ],
   "source": [
    "device = torch.device(\"cuda\" if torch.cuda.is_available() else \"cpu\")\n",
    "x_cpu = torch.empty(2, device='cpu')\n",
    "print(x_cpu, x_cpu.is_cuda)\n",
    "x_gpu = torch.empty(2, device=device)\n",
    "print(x_gpu, x_gpu.is_cuda)"
   ]
  },
  {
   "cell_type": "code",
   "execution_count": 18,
   "id": "8fa46e3a42ea4eca",
   "metadata": {
    "ExecuteTime": {
     "end_time": "2025-02-13T10:07:34.030725Z",
     "start_time": "2025-02-13T10:07:33.963013Z"
    }
   },
   "outputs": [
    {
     "name": "stdout",
     "output_type": "stream",
     "text": [
      "tensor([[9., 9., 9., 9.],\n",
      "        [9., 9., 9., 9.],\n",
      "        [9., 9., 9., 9.]]) False\n",
      "tensor([[0., 0., 0., 0.],\n",
      "        [0., 0., 0., 0.],\n",
      "        [0., 0., 0., 0.]], device='cuda:0') True\n"
     ]
    }
   ],
   "source": [
    "# new_*() : 保留原 Tensor 的设备属性\n",
    "y_cpu = x_cpu.new_full((3, 4), 9)  # new_full : 用 9 填充形状 [3, 4] 的张量\n",
    "print(y_cpu, y_cpu.is_cuda)\n",
    "y_gpu = x_gpu.new_zeros(3, 4)  # new_zeros : 填充 0\n",
    "print(y_gpu, y_gpu.is_cuda)"
   ]
  },
  {
   "cell_type": "code",
   "execution_count": 19,
   "id": "e271c4ce85237f94",
   "metadata": {
    "ExecuteTime": {
     "end_time": "2025-02-13T10:11:15.608532Z",
     "start_time": "2025-02-13T10:11:15.550505Z"
    }
   },
   "outputs": [
    {
     "name": "stdout",
     "output_type": "stream",
     "text": [
      "tensor([1., 1.]) False\n",
      "tensor([0., 0.], device='cuda:0') True\n"
     ]
    }
   ],
   "source": [
    "# 使用ones_like或zeros_like可以创建与原Tensor大小类别均相同的新Tensor\n",
    "z_cpu = torch.ones_like(x_cpu)  # 大小相同，设备相同\n",
    "print(z_cpu, z_cpu.is_cuda)\n",
    "\n",
    "z_gpu = torch.zeros_like(x_gpu)  # 大小相同，设备相同\n",
    "print(z_gpu, z_gpu.is_cuda)"
   ]
  },
  {
   "cell_type": "code",
   "execution_count": null,
   "id": "bcf533ebf313560b",
   "metadata": {},
   "outputs": [],
   "source": []
  }
 ],
 "metadata": {
  "kernelspec": {
   "display_name": "Python 3",
   "language": "python",
   "name": "python3"
  },
  "language_info": {
   "codemirror_mode": {
    "name": "ipython",
    "version": 3
   },
   "file_extension": ".py",
   "mimetype": "text/x-python",
   "name": "python",
   "nbconvert_exporter": "python",
   "pygments_lexer": "ipython3",
   "version": "3.13.2"
  }
 },
 "nbformat": 4,
 "nbformat_minor": 5
}
