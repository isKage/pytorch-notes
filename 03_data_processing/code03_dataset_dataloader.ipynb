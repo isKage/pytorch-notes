{
 "cells": [
  {
   "cell_type": "code",
   "id": "initial_id",
   "metadata": {
    "collapsed": true,
    "ExecuteTime": {
     "end_time": "2025-02-11T08:51:58.355213Z",
     "start_time": "2025-02-11T08:51:55.793190Z"
    }
   },
   "source": [
    "import torch\n",
    "from torch.utils.data import Dataset"
   ],
   "execution_count": 1,
   "outputs": []
  },
  {
   "metadata": {
    "ExecuteTime": {
     "end_time": "2025-02-11T08:52:07.281344Z",
     "start_time": "2025-02-11T08:52:07.160922Z"
    }
   },
   "cell_type": "code",
   "source": [
    "import os\n",
    "from PIL import Image\n",
    "import numpy as np"
   ],
   "id": "dd542d20a1ca2b1",
   "execution_count": 2,
   "outputs": []
  },
  {
   "metadata": {
    "ExecuteTime": {
     "end_time": "2025-02-11T08:54:48.175141Z",
     "start_time": "2025-02-11T08:54:48.153020Z"
    }
   },
   "cell_type": "code",
   "source": [
    "class DogCat(Dataset):\n",
    "    def __init__(self, root):\n",
    "        imgs = os.listdir(root)  # 所有图片的绝对路径表\n",
    "        # 不实际加载图片，只指定路径，当调用 __getitem__ 时才读取图片，以节省内存\n",
    "        self.imgs = [os.path.join(root, img) for img in imgs]\n",
    "\n",
    "    def __getitem__(self, index):\n",
    "        img_path = self.imgs[index]\n",
    "        # 标签设置：dog -> 1， cat -> 0\n",
    "        label = 1 if 'dog' in img_path.split('/')[-1] else 0\n",
    "        # 真正读取图片\n",
    "        pil_img = Image.open(img_path)\n",
    "        array = np.asarray(pil_img)\n",
    "        data = torch.tensor(array)  # 转为张量\n",
    "        return data, label\n",
    "\n",
    "    def __len__(self):\n",
    "        return len(self.imgs)  # 返回样本数"
   ],
   "id": "5acf64dd5185e02b",
   "execution_count": 3,
   "outputs": []
  },
  {
   "metadata": {
    "ExecuteTime": {
     "end_time": "2025-02-11T09:00:07.370918Z",
     "start_time": "2025-02-11T09:00:07.357750Z"
    }
   },
   "cell_type": "code",
   "source": [
    "# 读取数据集\n",
    "dataset = DogCat('./data/cat_dog/')  # 图片存储在 ./data/cat_dog/ 文件夹内"
   ],
   "id": "fbb946bae7df7fb7",
   "execution_count": 4,
   "outputs": []
  },
  {
   "metadata": {
    "ExecuteTime": {
     "end_time": "2025-02-11T09:03:56.058139Z",
     "start_time": "2025-02-11T09:03:56.040331Z"
    }
   },
   "cell_type": "code",
   "source": "dataset",
   "id": "3718fa3bbdf0d166",
   "execution_count": 12,
   "outputs": []
  },
  {
   "metadata": {
    "ExecuteTime": {
     "end_time": "2025-02-11T09:01:13.018490Z",
     "start_time": "2025-02-11T09:01:12.984898Z"
    }
   },
   "cell_type": "code",
   "source": [
    "# 获取第一个数据，包含标签和图片\n",
    "img, label = dataset[0]  # 相当于调用dataset.__getitem__(0)"
   ],
   "id": "db9df2d6cfa5dd03",
   "execution_count": 7,
   "outputs": []
  },
  {
   "metadata": {
    "ExecuteTime": {
     "end_time": "2025-02-11T09:01:27.954645Z",
     "start_time": "2025-02-11T09:01:27.947005Z"
    }
   },
   "cell_type": "code",
   "source": [
    "print(img.shape)  # torch.Size([374, 500, 3]) 说明图片已转为张量\n",
    "print(label)  # 0 说明是 cat"
   ],
   "id": "7c5bdb907ba70e7",
   "execution_count": 10,
   "outputs": []
  },
  {
   "metadata": {
    "ExecuteTime": {
     "end_time": "2025-02-11T09:06:57.986118Z",
     "start_time": "2025-02-11T09:06:57.939685Z"
    }
   },
   "cell_type": "code",
   "source": [
    "for img, label in dataset:\n",
    "    print(\"tensor's shape: {}, label: {}\".format(img.shape, label))"
   ],
   "id": "38693d8573efc28b",
   "execution_count": 14,
   "outputs": []
  },
  {
   "metadata": {
    "ExecuteTime": {
     "end_time": "2025-02-11T09:24:50.700531Z",
     "start_time": "2025-02-11T09:24:48.783585Z"
    }
   },
   "cell_type": "code",
   "source": [
    "# transforms\n",
    "from torchvision import transforms"
   ],
   "id": "7792c089eaf12c34",
   "execution_count": 15,
   "outputs": []
  },
  {
   "metadata": {
    "ExecuteTime": {
     "end_time": "2025-02-11T09:25:22.960922Z",
     "start_time": "2025-02-11T09:25:22.940809Z"
    }
   },
   "cell_type": "code",
   "source": [
    "transform = transforms.Compose([\n",
    "    transforms.Resize(224),  # 缩放图片 (PIL Image), 保持长宽比不变, 使最短边缩放到 224 像素\n",
    "    transforms.CenterCrop(224),  # 从图片中间切出 224x224 的图片\n",
    "    transforms.ToTensor(),  # 将图片 (PIL Image) 转成 Tensor , 自动归一化至 [0, 1]\n",
    "    transforms.Normalize(mean=[.5, .5, .5], std=[.5, .5, .5])  # 标准化至 [-1, 1] , 规定均值和标准差 , 因为图片为 3 维\n",
    "])"
   ],
   "id": "92511111de3132d1",
   "execution_count": 16,
   "outputs": []
  },
  {
   "metadata": {
    "ExecuteTime": {
     "end_time": "2025-02-11T12:23:01.122964Z",
     "start_time": "2025-02-11T12:23:01.110753Z"
    }
   },
   "cell_type": "code",
   "source": [
    "class DogCat(Dataset):\n",
    "    def __init__(self, root, transform=None):\n",
    "        imgs = os.listdir(root)  # 所有图片的绝对路径表\n",
    "        # 不实际加载图片，只指定路径，当调用 __getitem__ 时才读取图片，以节省内存\n",
    "        self.imgs = [os.path.join(root, img) for img in imgs]\n",
    "        self.transform = transform\n",
    "\n",
    "    def __getitem__(self, index):\n",
    "        img_path = self.imgs[index]\n",
    "        # 标签设置：dog -> 1， cat -> 0\n",
    "        label = 1 if 'dog' in img_path.split('/')[-1] else 0\n",
    "        # 真正读取图片\n",
    "        data = Image.open(img_path)\n",
    "        if self.transform:\n",
    "            data = self.transform(data)\n",
    "        return data, label\n",
    "\n",
    "    def __len__(self):\n",
    "        return len(self.imgs)  # 返回样本数"
   ],
   "id": "5f53233b1f45617f",
   "execution_count": 21,
   "outputs": []
  },
  {
   "metadata": {
    "ExecuteTime": {
     "end_time": "2025-02-11T12:23:01.674302Z",
     "start_time": "2025-02-11T12:23:01.670577Z"
    }
   },
   "cell_type": "code",
   "source": [
    "# 读取数据集\n",
    "dataset = DogCat('./data/cat_dog/', transform=transform)  # 使用 transform 进行变换"
   ],
   "id": "f9b9770659e95882",
   "execution_count": 22,
   "outputs": []
  },
  {
   "metadata": {
    "ExecuteTime": {
     "end_time": "2025-02-11T12:23:02.210027Z",
     "start_time": "2025-02-11T12:23:02.131343Z"
    }
   },
   "cell_type": "code",
   "source": [
    "for img, label in dataset:\n",
    "    print(img.shape, label)"
   ],
   "id": "b7b57f2797327bc0",
   "execution_count": 23,
   "outputs": []
  },
  {
   "metadata": {
    "ExecuteTime": {
     "end_time": "2025-02-11T12:23:27.948088Z",
     "start_time": "2025-02-11T12:23:27.939609Z"
    }
   },
   "cell_type": "code",
   "source": [
    "no_transform = DogCat('./data/cat_dog/')\n",
    "img, label = no_transform[0]"
   ],
   "id": "1a6c66867db6ac1f",
   "execution_count": 28,
   "outputs": []
  },
  {
   "metadata": {
    "ExecuteTime": {
     "end_time": "2025-02-11T12:23:28.414436Z",
     "start_time": "2025-02-11T12:23:28.355300Z"
    }
   },
   "cell_type": "code",
   "source": "img",
   "id": "5e1797c7e5ed6622",
   "execution_count": 29,
   "outputs": []
  },
  {
   "metadata": {
    "ExecuteTime": {
     "end_time": "2025-02-11T12:47:52.101245Z",
     "start_time": "2025-02-11T12:47:52.074550Z"
    }
   },
   "cell_type": "code",
   "source": "# ImageFolder",
   "id": "c070dda72c6ec0f1",
   "execution_count": 30,
   "outputs": []
  },
  {
   "metadata": {
    "ExecuteTime": {
     "end_time": "2025-02-11T12:48:54.388535Z",
     "start_time": "2025-02-11T12:48:54.346396Z"
    }
   },
   "cell_type": "code",
   "source": [
    "from torchvision.datasets import ImageFolder\n",
    "\n",
    "dataset = ImageFolder('./data/cat_dog_imagefolder')"
   ],
   "id": "467e88312c1afc87",
   "execution_count": 31,
   "outputs": []
  },
  {
   "metadata": {
    "ExecuteTime": {
     "end_time": "2025-02-11T12:49:15.219398Z",
     "start_time": "2025-02-11T12:49:15.204617Z"
    }
   },
   "cell_type": "code",
   "source": "dataset.class_to_idx",
   "id": "a0ddf15fedba5d6a",
   "execution_count": 33,
   "outputs": []
  },
  {
   "metadata": {
    "ExecuteTime": {
     "end_time": "2025-02-11T12:54:13.022381Z",
     "start_time": "2025-02-11T12:54:13.003046Z"
    }
   },
   "cell_type": "code",
   "source": "dataset.imgs",
   "id": "eebddd9fdd7753e6",
   "execution_count": 34,
   "outputs": []
  },
  {
   "metadata": {
    "ExecuteTime": {
     "end_time": "2025-02-11T13:02:44.855678Z",
     "start_time": "2025-02-11T13:02:44.810309Z"
    }
   },
   "cell_type": "code",
   "source": "dataset.__getitem__(0)[0]",
   "id": "cf0c93a0ba7ca575",
   "execution_count": 50,
   "outputs": []
  },
  {
   "metadata": {
    "ExecuteTime": {
     "end_time": "2025-02-11T13:03:50.044409Z",
     "start_time": "2025-02-11T13:03:50.031133Z"
    }
   },
   "cell_type": "code",
   "source": [
    "def get_class_by_idx(idx):\n",
    "    for key_class, val_idx in dataset.class_to_idx.items():\n",
    "        if val_idx == idx:\n",
    "            return key_class\n",
    "    return 'Not found'\n",
    "\n",
    "\n",
    "print(\"The label is: {} meaning {}\".format(\n",
    "    dataset.__getitem__(0)[1],\n",
    "    get_class_by_idx(dataset[0][1])\n",
    "))"
   ],
   "id": "b7c2e774a05b9cf",
   "execution_count": 53,
   "outputs": []
  },
  {
   "metadata": {
    "ExecuteTime": {
     "end_time": "2025-02-11T13:09:21.465188Z",
     "start_time": "2025-02-11T13:09:21.444573Z"
    }
   },
   "cell_type": "code",
   "source": [
    "# 加入变换\n",
    "dataset = ImageFolder('./data/cat_dog_imagefolder', transform=transform)"
   ],
   "id": "6282400cf2744b64",
   "execution_count": 54,
   "outputs": []
  },
  {
   "metadata": {
    "ExecuteTime": {
     "end_time": "2025-02-11T13:09:34.108325Z",
     "start_time": "2025-02-11T13:09:33.980665Z"
    }
   },
   "cell_type": "code",
   "source": "dataset.__getitem__(0)[0].shape",
   "id": "aee20e451c05e835",
   "execution_count": 55,
   "outputs": []
  },
  {
   "metadata": {
    "ExecuteTime": {
     "end_time": "2025-02-11T13:13:55.424058Z",
     "start_time": "2025-02-11T13:13:55.361388Z"
    }
   },
   "cell_type": "code",
   "source": [
    "to_img = transforms.ToPILImage()\n",
    "to_img(dataset[0][0] * 0.5 + 0.5)"
   ],
   "id": "267d6a0cf12657e",
   "execution_count": 57,
   "outputs": []
  },
  {
   "metadata": {
    "ExecuteTime": {
     "end_time": "2025-02-12T02:49:59.484502Z",
     "start_time": "2025-02-12T02:49:59.419674Z"
    }
   },
   "cell_type": "code",
   "source": "dataset",
   "id": "92eb1e54f7502946",
   "execution_count": 58,
   "outputs": []
  },
  {
   "metadata": {
    "ExecuteTime": {
     "end_time": "2025-02-12T03:00:47.776055Z",
     "start_time": "2025-02-12T03:00:47.749692Z"
    }
   },
   "cell_type": "code",
   "source": [
    "# dataloader\n",
    "from torch.utils.data import DataLoader\n",
    "\n",
    "dataset = DogCat('./data/cat_dog/', transform=transform)\n",
    "dataloader = DataLoader(dataset, batch_size=3, shuffle=True, num_workers=0, drop_last=False)"
   ],
   "id": "6efe6d3cae8eac7b",
   "execution_count": 68,
   "outputs": []
  },
  {
   "metadata": {
    "ExecuteTime": {
     "end_time": "2025-02-12T03:00:48.309657Z",
     "start_time": "2025-02-12T03:00:48.206807Z"
    }
   },
   "cell_type": "code",
   "source": [
    "for img_batch, label_batch in dataloader:\n",
    "    print(img_batch.shape, label_batch.shape)"
   ],
   "id": "962947f53a5f0916",
   "execution_count": 69,
   "outputs": []
  },
  {
   "metadata": {
    "ExecuteTime": {
     "end_time": "2025-02-12T03:02:51.450303Z",
     "start_time": "2025-02-12T03:02:51.298459Z"
    }
   },
   "cell_type": "code",
   "source": [
    "dataiter = iter(dataloader)\n",
    "imgs, labels = next(dataiter)\n",
    "print(imgs.shape)  # torch.Size([3, 3, 224, 224])"
   ],
   "id": "dfb852e15a874a82",
   "execution_count": 73,
   "outputs": []
  },
  {
   "metadata": {
    "ExecuteTime": {
     "end_time": "2025-02-12T03:01:14.222237Z",
     "start_time": "2025-02-12T03:01:14.202138Z"
    }
   },
   "cell_type": "code",
   "source": [
    "# 迭代器补充\n",
    "a = [1, 2, 3]\n",
    "b = iter(a)\n",
    "print(next(b))\n",
    "print(next(b))"
   ],
   "id": "22b3d5ec96259ead",
   "execution_count": 72,
   "outputs": []
  },
  {
   "metadata": {
    "ExecuteTime": {
     "end_time": "2025-02-12T03:08:19.778767Z",
     "start_time": "2025-02-12T03:08:19.764405Z"
    }
   },
   "cell_type": "code",
   "source": [
    "# 读取失败\n",
    "dataset = DogCat('./data/cat_dog_fail/', transform=transform)"
   ],
   "id": "ccbfc404cf53b537",
   "execution_count": 74,
   "outputs": []
  },
  {
   "metadata": {
    "ExecuteTime": {
     "end_time": "2025-02-12T03:10:03.184917Z",
     "start_time": "2025-02-12T03:10:03.177819Z"
    }
   },
   "cell_type": "code",
   "source": [
    "# 报错 : UnidentifiedImageError: cannot identify image file\n",
    "# for img, label in dataset:\n",
    "#     print(img.shape, label)"
   ],
   "id": "5b74417e99c4fdf5",
   "execution_count": 78,
   "outputs": []
  },
  {
   "metadata": {
    "ExecuteTime": {
     "end_time": "2025-02-12T03:16:03.058576Z",
     "start_time": "2025-02-12T03:16:03.044778Z"
    }
   },
   "cell_type": "code",
   "source": [
    "class NewDogCat(DogCat):  # 继承之前自定义的 Dataset 类 DogCat\n",
    "    # 修改 __getitem__() 方法\n",
    "    def __getitem__(self, index):\n",
    "        try:\n",
    "            # 调用父类的真正读取图片的方法 __getitem__() 等价于 DogCat.__getitem__(self, index)\n",
    "            return super().__getitem__(index)\n",
    "        except:\n",
    "            # 数据=None, 标签=None\n",
    "            return None, None"
   ],
   "id": "4d6967e2498411d4",
   "execution_count": 79,
   "outputs": []
  },
  {
   "metadata": {
    "ExecuteTime": {
     "end_time": "2025-02-12T03:18:00.232487Z",
     "start_time": "2025-02-12T03:18:00.223840Z"
    }
   },
   "cell_type": "code",
   "source": [
    "from torch.utils.data.dataloader import default_collate  # 导入 Dataloader 默认的拼接方式\n",
    "\n",
    "\n",
    "def delete_fail_sample(batch):\n",
    "    # batch 是一个 list，每个元素是 dataset 的返回值，形如 (data, label)\n",
    "    batch = [_ for _ in batch if _[0] is not None]  # 过滤为 None 的数据\n",
    "    if len(batch) == 0:\n",
    "        return torch.Tensor()  # 如果整个数据集都是空的\n",
    "    return default_collate(batch)  # 用默认方式拼接过滤后的batch数据"
   ],
   "id": "942fc5ebc5bf17bd",
   "execution_count": 80,
   "outputs": []
  },
  {
   "metadata": {
    "ExecuteTime": {
     "end_time": "2025-02-12T03:21:42.430692Z",
     "start_time": "2025-02-12T03:21:42.414885Z"
    }
   },
   "cell_type": "code",
   "source": "dataset = NewDogCat('data/cat_dog_fail/', transform=transform)",
   "id": "c2cd46a54c461e01",
   "execution_count": 89,
   "outputs": []
  },
  {
   "metadata": {
    "ExecuteTime": {
     "end_time": "2025-02-12T03:22:11.803435Z",
     "start_time": "2025-02-12T03:22:11.782488Z"
    }
   },
   "cell_type": "code",
   "source": "dataset[5]",
   "id": "fe68a6a7e4e34e7d",
   "execution_count": 98,
   "outputs": []
  },
  {
   "metadata": {
    "ExecuteTime": {
     "end_time": "2025-02-12T03:27:55.403781Z",
     "start_time": "2025-02-12T03:27:55.352383Z"
    }
   },
   "cell_type": "code",
   "source": [
    "dataloader = DataLoader(dataset, 2, collate_fn=delete_fail_sample, num_workers=0, shuffle=True, drop_last=False)\n",
    "for img_batch, label_batch in dataloader:\n",
    "    print(img_batch.shape, label_batch.shape)"
   ],
   "id": "19538645d0592a15",
   "execution_count": 102,
   "outputs": []
  },
  {
   "metadata": {
    "ExecuteTime": {
     "end_time": "2025-02-12T03:44:04.172837Z",
     "start_time": "2025-02-12T03:44:04.167379Z"
    }
   },
   "cell_type": "code",
   "source": [
    "import random\n",
    "\n",
    "\n",
    "# 随机读取数据\n",
    "class NewDogCat(DogCat):\n",
    "    def __getitem__(self, index):\n",
    "        try:\n",
    "            return super().__getitem__(index)\n",
    "        except:\n",
    "            new_index = random.randint(0, len(self) - 1)  # 随机返回一张正常数据\n",
    "            return self[new_index]"
   ],
   "id": "4516c1fbca05c97d",
   "execution_count": 109,
   "outputs": []
  },
  {
   "metadata": {
    "ExecuteTime": {
     "end_time": "2025-02-12T03:34:44.323467Z",
     "start_time": "2025-02-12T03:34:44.202426Z"
    }
   },
   "cell_type": "code",
   "source": [
    "dataset = NewDogCat('data/cat_dog_fail/', transform=transform)\n",
    "dataloader = DataLoader(dataset, 2, collate_fn=None, num_workers=0, shuffle=True, drop_last=False)\n",
    "for img_batch, label_batch in dataloader:\n",
    "    print(img_batch.shape, label_batch.shape)"
   ],
   "id": "b3def0d679d875cb",
   "execution_count": 106,
   "outputs": []
  },
  {
   "metadata": {
    "ExecuteTime": {
     "end_time": "2025-02-12T04:09:26.611626Z",
     "start_time": "2025-02-12T04:09:26.544507Z"
    }
   },
   "cell_type": "code",
   "source": [
    "# 权重采样\n",
    "dataset = DogCat('data/cat_dog/', transform=transform)  # 总共 8 张图\n",
    "\n",
    "# 设置权重：假设 cat 的图片被取出的概率是 dog 的概率的 2 倍\n",
    "weights = [2 if label == 0 else 1 for data, label in dataset]  # 两类图片被取出的概率与 weights 的绝对大小无关，只和比值有关\n",
    "weights  # [2, 1, 1, 1, 1, 2, 2, 2] -> cat (label=0) 设权重为 2 ; dog (label=1) 设权重为 1"
   ],
   "id": "4742be7d59c8653c",
   "execution_count": 134,
   "outputs": []
  },
  {
   "metadata": {
    "ExecuteTime": {
     "end_time": "2025-02-12T04:09:27.324439Z",
     "start_time": "2025-02-12T04:09:27.318485Z"
    }
   },
   "cell_type": "code",
   "source": [
    "from torch.utils.data.sampler import WeightedRandomSampler\n",
    "\n",
    "sampler = WeightedRandomSampler(weights=weights, num_samples=9, replacement=True)\n",
    "dataloader = DataLoader(dataset, batch_size=3, sampler=sampler)"
   ],
   "id": "287b65e81213977a",
   "execution_count": 135,
   "outputs": []
  },
  {
   "metadata": {
    "ExecuteTime": {
     "end_time": "2025-02-12T04:09:28.066183Z",
     "start_time": "2025-02-12T04:09:27.982744Z"
    }
   },
   "cell_type": "code",
   "source": [
    "for datas, labels in dataloader:\n",
    "    print(labels)"
   ],
   "id": "cb2cfb3ac4e4cd70",
   "execution_count": 136,
   "outputs": []
  }
 ],
 "metadata": {
  "kernelspec": {
   "display_name": "mldl",
   "language": "python",
   "name": "mldl"
  },
  "language_info": {
   "codemirror_mode": {
    "name": "ipython",
    "version": 2
   },
   "file_extension": ".py",
   "mimetype": "text/x-python",
   "name": "python",
   "nbconvert_exporter": "python",
   "pygments_lexer": "ipython2",
   "version": "2.7.6"
  }
 },
 "nbformat": 4,
 "nbformat_minor": 5
}
