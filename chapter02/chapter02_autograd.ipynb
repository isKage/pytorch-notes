{
 "cells": [
  {
   "cell_type": "code",
   "id": "initial_id",
   "metadata": {
    "collapsed": true,
    "ExecuteTime": {
     "end_time": "2025-02-08T07:12:38.522977Z",
     "start_time": "2025-02-08T07:12:19.949569Z"
    }
   },
   "source": "import torch",
   "outputs": [],
   "execution_count": 1
  },
  {
   "metadata": {
    "ExecuteTime": {
     "end_time": "2025-02-08T07:23:12.550509Z",
     "start_time": "2025-02-08T07:23:12.507978Z"
    }
   },
   "cell_type": "code",
   "source": [
    "# x = torch.randn(2, 3, requires_grad=True)\n",
    "x = torch.rand(2, 3).requires_grad_()\n",
    "print(x.requires_grad)"
   ],
   "id": "be48cf997e99575c",
   "outputs": [
    {
     "name": "stdout",
     "output_type": "stream",
     "text": [
      "True\n"
     ]
    }
   ],
   "execution_count": 5
  },
  {
   "metadata": {
    "ExecuteTime": {
     "end_time": "2025-02-08T07:49:06.013369Z",
     "start_time": "2025-02-08T07:49:05.985184Z"
    }
   },
   "cell_type": "code",
   "source": [
    "a = torch.randn(2, 3, requires_grad=True)\n",
    "b = torch.zeros(2, 3)\n",
    "c = (a + b).sum()\n",
    "a.requires_grad, b.requires_grad, c.requires_grad"
   ],
   "id": "608e12cb87e98c78",
   "outputs": [
    {
     "data": {
      "text/plain": [
       "(True, False, True)"
      ]
     },
     "execution_count": 21,
     "metadata": {},
     "output_type": "execute_result"
    }
   ],
   "execution_count": 21
  },
  {
   "metadata": {
    "ExecuteTime": {
     "end_time": "2025-02-08T07:50:18.559703Z",
     "start_time": "2025-02-08T07:50:18.542718Z"
    }
   },
   "cell_type": "code",
   "source": "a.is_leaf, b.is_leaf, c.is_leaf",
   "id": "7aff315174dffd36",
   "outputs": [
    {
     "data": {
      "text/plain": [
       "(True, True, False)"
      ]
     },
     "execution_count": 22,
     "metadata": {},
     "output_type": "execute_result"
    }
   ],
   "execution_count": 22
  },
  {
   "metadata": {
    "ExecuteTime": {
     "end_time": "2025-02-08T08:12:37.023714Z",
     "start_time": "2025-02-08T08:12:37.001321Z"
    }
   },
   "cell_type": "code",
   "source": [
    "# autograd 求导\n",
    "# y = x^2 * e^x\n",
    "def f(x):\n",
    "    y = x * x * torch.exp(x)\n",
    "    return y\n",
    "\n",
    "\n",
    "def df(x):\n",
    "    df = 2 * x * torch.exp(x) + x * x * torch.exp(x)\n",
    "    return df"
   ],
   "id": "f95add408d108880",
   "outputs": [],
   "execution_count": 47
  },
  {
   "metadata": {
    "ExecuteTime": {
     "end_time": "2025-02-08T08:12:37.506211Z",
     "start_time": "2025-02-08T08:12:37.481543Z"
    }
   },
   "cell_type": "code",
   "source": [
    "x = torch.randn(2, 3, requires_grad=True)\n",
    "y = f(x)\n",
    "y"
   ],
   "id": "53d0dbf7aef256fc",
   "outputs": [
    {
     "data": {
      "text/plain": [
       "tensor([[0.1387, 0.4465, 0.4825],\n",
       "        [0.1576, 4.1902, 0.5185]], grad_fn=<MulBackward0>)"
      ]
     },
     "execution_count": 48,
     "metadata": {},
     "output_type": "execute_result"
    }
   ],
   "execution_count": 48
  },
  {
   "metadata": {
    "ExecuteTime": {
     "end_time": "2025-02-08T08:11:41.678583Z",
     "start_time": "2025-02-08T08:11:41.651920Z"
    }
   },
   "cell_type": "code",
   "source": [
    "y.backward(gradient=torch.ones(y.size()))  # 指定\n",
    "# torch.autograd.backward(y, grad_tensors=torch.ones(y.size()))  # 或者"
   ],
   "id": "5f858dc1e877108d",
   "outputs": [],
   "execution_count": 44
  },
  {
   "metadata": {
    "ExecuteTime": {
     "end_time": "2025-02-08T08:12:41.527662Z",
     "start_time": "2025-02-08T08:12:41.518846Z"
    }
   },
   "cell_type": "code",
   "source": "x.grad",
   "id": "318ba31038bd36ed",
   "outputs": [
    {
     "data": {
      "text/plain": [
       "tensor([[-0.4497,  2.1766, -0.2087],\n",
       "        [-0.4567, 11.4700, -0.1244]])"
      ]
     },
     "execution_count": 50,
     "metadata": {},
     "output_type": "execute_result"
    }
   ],
   "execution_count": 50
  },
  {
   "metadata": {
    "ExecuteTime": {
     "end_time": "2025-02-08T08:12:42.159996Z",
     "start_time": "2025-02-08T08:12:42.148781Z"
    }
   },
   "cell_type": "code",
   "source": "df(x)",
   "id": "b830c5a4764fac2",
   "outputs": [
    {
     "data": {
      "text/plain": [
       "tensor([[-0.4497,  2.1766, -0.2087],\n",
       "        [-0.4567, 11.4700, -0.1244]], grad_fn=<AddBackward0>)"
      ]
     },
     "execution_count": 51,
     "metadata": {},
     "output_type": "execute_result"
    }
   ],
   "execution_count": 51
  },
  {
   "metadata": {
    "ExecuteTime": {
     "end_time": "2025-02-08T08:54:09.781092Z",
     "start_time": "2025-02-08T08:54:09.764001Z"
    }
   },
   "cell_type": "code",
   "source": [
    "# 计算图\n",
    "x = torch.ones(1)\n",
    "b = torch.rand(1, requires_grad=True)\n",
    "w = torch.rand(1, requires_grad=True)\n",
    "y = w * x  # 等价于 y = w.mul(x)\n",
    "z = y + b  # 等价于 z = y.add(b)\n",
    "\n",
    "x.requires_grad, b.requires_grad, w.requires_grad, y.requires_grad, z.requires_grad"
   ],
   "id": "fc01130d8b34ba7d",
   "outputs": [
    {
     "data": {
      "text/plain": [
       "(False, True, True, True, True)"
      ]
     },
     "execution_count": 90,
     "metadata": {},
     "output_type": "execute_result"
    }
   ],
   "execution_count": 90
  },
  {
   "metadata": {
    "ExecuteTime": {
     "end_time": "2025-02-08T08:33:37.223666Z",
     "start_time": "2025-02-08T08:33:37.168954Z"
    }
   },
   "cell_type": "code",
   "source": "z.grad_fn",
   "id": "593281a76f46c59",
   "outputs": [
    {
     "data": {
      "text/plain": [
       "<AddBackward0 at 0x7f96b951ba90>"
      ]
     },
     "execution_count": 54,
     "metadata": {},
     "output_type": "execute_result"
    }
   ],
   "execution_count": 54
  },
  {
   "metadata": {
    "ExecuteTime": {
     "end_time": "2025-02-08T08:33:42.914163Z",
     "start_time": "2025-02-08T08:33:42.898985Z"
    }
   },
   "cell_type": "code",
   "source": "y.grad_fn",
   "id": "6b31d2ccd0cf54ee",
   "outputs": [
    {
     "data": {
      "text/plain": [
       "<MulBackward0 at 0x7f96b951b400>"
      ]
     },
     "execution_count": 55,
     "metadata": {},
     "output_type": "execute_result"
    }
   ],
   "execution_count": 55
  },
  {
   "metadata": {
    "ExecuteTime": {
     "end_time": "2025-02-08T08:35:06.445847Z",
     "start_time": "2025-02-08T08:35:06.412237Z"
    }
   },
   "cell_type": "code",
   "source": "w.grad_fn, x.grad_fn, b.grad_fn",
   "id": "bb72633309f53c6b",
   "outputs": [
    {
     "data": {
      "text/plain": [
       "(None, None, None)"
      ]
     },
     "execution_count": 56,
     "metadata": {},
     "output_type": "execute_result"
    }
   ],
   "execution_count": 56
  },
  {
   "metadata": {
    "ExecuteTime": {
     "end_time": "2025-02-08T08:36:13.024980Z",
     "start_time": "2025-02-08T08:36:13.016068Z"
    }
   },
   "cell_type": "code",
   "source": "z.grad_fn.next_functions",
   "id": "fa2e006d3f4f02db",
   "outputs": [
    {
     "data": {
      "text/plain": [
       "((<MulBackward0 at 0x7f96b951b400>, 0),\n",
       " (<AccumulateGrad at 0x7f96b95c6af0>, 0))"
      ]
     },
     "execution_count": 59,
     "metadata": {},
     "output_type": "execute_result"
    }
   ],
   "execution_count": 59
  },
  {
   "metadata": {
    "ExecuteTime": {
     "end_time": "2025-02-08T08:36:10.841833Z",
     "start_time": "2025-02-08T08:36:10.820047Z"
    }
   },
   "cell_type": "code",
   "source": "y.grad_fn.next_functions",
   "id": "20b58db01fa2713d",
   "outputs": [
    {
     "data": {
      "text/plain": [
       "((<AccumulateGrad at 0x7f9678466160>, 0), (None, 0))"
      ]
     },
     "execution_count": 58,
     "metadata": {},
     "output_type": "execute_result"
    }
   ],
   "execution_count": 58
  },
  {
   "metadata": {
    "ExecuteTime": {
     "end_time": "2025-02-08T08:54:12.298296Z",
     "start_time": "2025-02-08T08:54:12.290121Z"
    }
   },
   "cell_type": "code",
   "source": "z.backward(retain_graph=True)",
   "id": "e9ffcd02dbb91655",
   "outputs": [],
   "execution_count": 91
  },
  {
   "metadata": {
    "ExecuteTime": {
     "end_time": "2025-02-08T08:54:15.831817Z",
     "start_time": "2025-02-08T08:54:15.823743Z"
    }
   },
   "cell_type": "code",
   "source": "w.grad",
   "id": "b3ea735a1ae6e800",
   "outputs": [
    {
     "data": {
      "text/plain": [
       "tensor([1.])"
      ]
     },
     "execution_count": 92,
     "metadata": {},
     "output_type": "execute_result"
    }
   ],
   "execution_count": 92
  },
  {
   "metadata": {
    "ExecuteTime": {
     "end_time": "2025-02-08T08:54:22.513402Z",
     "start_time": "2025-02-08T08:54:22.499492Z"
    }
   },
   "cell_type": "code",
   "source": [
    "z.backward()\n",
    "w.grad"
   ],
   "id": "3744e131099a4d8f",
   "outputs": [
    {
     "data": {
      "text/plain": [
       "tensor([2.])"
      ]
     },
     "execution_count": 93,
     "metadata": {},
     "output_type": "execute_result"
    }
   ],
   "execution_count": 93
  },
  {
   "metadata": {
    "ExecuteTime": {
     "end_time": "2025-02-08T09:03:26.213763Z",
     "start_time": "2025-02-08T09:03:26.197431Z"
    }
   },
   "cell_type": "code",
   "source": [
    "# 关闭反向传播\n",
    "x = torch.ones(1)\n",
    "w = torch.rand(1, requires_grad=True)\n",
    "y = x * w\n",
    "\n",
    "x.requires_grad, w.requires_grad, y.requires_grad  # y.requires_grad = True\n",
    "# (False, True, True)"
   ],
   "id": "e9aee4838f706618",
   "outputs": [
    {
     "data": {
      "text/plain": [
       "(False, True, True)"
      ]
     },
     "execution_count": 96,
     "metadata": {},
     "output_type": "execute_result"
    }
   ],
   "execution_count": 96
  },
  {
   "metadata": {
    "ExecuteTime": {
     "end_time": "2025-02-08T09:03:54.669634Z",
     "start_time": "2025-02-08T09:03:54.648771Z"
    }
   },
   "cell_type": "code",
   "source": [
    "with torch.no_grad():\n",
    "    x = torch.ones(1)\n",
    "    w = torch.rand(1, requires_grad=True)\n",
    "    y = x * w\n",
    "\n",
    "x.requires_grad, w.requires_grad, y.requires_grad  # y.requires_grad = False\n",
    "# (False, True, False)"
   ],
   "id": "fcf21704b0e7107",
   "outputs": [
    {
     "data": {
      "text/plain": [
       "(False, True, False)"
      ]
     },
     "execution_count": 97,
     "metadata": {},
     "output_type": "execute_result"
    }
   ],
   "execution_count": 97
  },
  {
   "metadata": {
    "ExecuteTime": {
     "end_time": "2025-02-08T09:05:05.173943Z",
     "start_time": "2025-02-08T09:05:05.151335Z"
    }
   },
   "cell_type": "code",
   "source": [
    "torch.set_grad_enabled(False)  # 更改默认设置\n",
    "x = torch.ones(1)\n",
    "w = torch.rand(1, requires_grad=True)\n",
    "y = x * w\n",
    "\n",
    "x.requires_grad, w.requires_grad, y.requires_grad  # y.requires_grad = False\n",
    "# (False, True, False)\n",
    "# torch.set_grad_enabled(True) # 更改回默认设置"
   ],
   "id": "cfd5116f71937ab",
   "outputs": [
    {
     "data": {
      "text/plain": [
       "(False, True, False)"
      ]
     },
     "execution_count": 98,
     "metadata": {},
     "output_type": "execute_result"
    }
   ],
   "execution_count": 98
  },
  {
   "metadata": {
    "ExecuteTime": {
     "end_time": "2025-02-08T09:05:26.316262Z",
     "start_time": "2025-02-08T09:05:26.302088Z"
    }
   },
   "cell_type": "code",
   "source": "torch.set_grad_enabled(True)  # 更改回默认设置",
   "id": "179fbe018d486bb0",
   "outputs": [
    {
     "data": {
      "text/plain": [
       "<torch.autograd.grad_mode.set_grad_enabled at 0x7f96cb598850>"
      ]
     },
     "execution_count": 99,
     "metadata": {},
     "output_type": "execute_result"
    }
   ],
   "execution_count": 99
  },
  {
   "metadata": {
    "ExecuteTime": {
     "end_time": "2025-02-08T09:09:49.750846Z",
     "start_time": "2025-02-08T09:09:49.735970Z"
    }
   },
   "cell_type": "code",
   "source": [
    "x = torch.ones(1, requires_grad=True)\n",
    "x_clone = x.data\n",
    "x.requires_grad, x_clone.requires_grad"
   ],
   "id": "b2fea8550ad55f42",
   "outputs": [
    {
     "data": {
      "text/plain": [
       "(True, False)"
      ]
     },
     "execution_count": 102,
     "metadata": {},
     "output_type": "execute_result"
    }
   ],
   "execution_count": 102
  },
  {
   "metadata": {
    "ExecuteTime": {
     "end_time": "2025-02-08T09:16:43.608885Z",
     "start_time": "2025-02-08T09:16:43.604498Z"
    }
   },
   "cell_type": "code",
   "source": [
    "# autograd.grad & hook\n",
    "x = torch.ones(1, requires_grad=True)\n",
    "w = torch.ones(1, requires_grad=True)\n",
    "y = w * x  # 非叶子结点\n",
    "z = y.sum()  # 非叶子结点"
   ],
   "id": "d19fc40ae6287356",
   "outputs": [],
   "execution_count": 112
  },
  {
   "metadata": {
    "ExecuteTime": {
     "end_time": "2025-02-08T09:16:44.040066Z",
     "start_time": "2025-02-08T09:16:44.033286Z"
    }
   },
   "cell_type": "code",
   "source": [
    "# z.backward()\n",
    "z.backward(retain_graph=True)\n",
    "x.grad, w.grad, y.grad"
   ],
   "id": "e8dbb85ad82becc0",
   "outputs": [
    {
     "name": "stderr",
     "output_type": "stream",
     "text": [
      "/var/folders/5m/v_fy7ghs4bv7phk7nhb2grpm0000gn/T/ipykernel_90204/628663678.py:3: UserWarning: The .grad attribute of a Tensor that is not a leaf Tensor is being accessed. Its .grad attribute won't be populated during autograd.backward(). If you indeed want the .grad field to be populated for a non-leaf Tensor, use .retain_grad() on the non-leaf Tensor. If you access the non-leaf Tensor by mistake, make sure you access the leaf Tensor instead. See github.com/pytorch/pytorch/pull/30531 for more informations. (Triggered internally at /Users/runner/work/pytorch/pytorch/pytorch/build/aten/src/ATen/core/TensorBody.h:494.)\n",
      "  x.grad, w.grad, y.grad\n"
     ]
    },
    {
     "data": {
      "text/plain": [
       "(tensor([1.]), tensor([1.]), None)"
      ]
     },
     "execution_count": 113,
     "metadata": {},
     "output_type": "execute_result"
    }
   ],
   "execution_count": 113
  },
  {
   "metadata": {
    "ExecuteTime": {
     "end_time": "2025-02-08T09:20:06.535822Z",
     "start_time": "2025-02-08T09:20:06.507643Z"
    }
   },
   "cell_type": "code",
   "source": [
    "# 使用 torch.autograd.grad() 直接取梯度\n",
    "x = torch.ones(1, requires_grad=True)\n",
    "w = torch.ones(1, requires_grad=True)\n",
    "y = x * w\n",
    "z = y.sum()\n",
    "\n",
    "torch.autograd.grad(z, y)  # z.backward() 并直接取 y.grad()"
   ],
   "id": "ec47639b0af7c7ea",
   "outputs": [
    {
     "data": {
      "text/plain": [
       "(tensor([1.]),)"
      ]
     },
     "execution_count": 115,
     "metadata": {},
     "output_type": "execute_result"
    }
   ],
   "execution_count": 115
  },
  {
   "metadata": {
    "ExecuteTime": {
     "end_time": "2025-02-08T09:22:50.811482Z",
     "start_time": "2025-02-08T09:22:50.795240Z"
    }
   },
   "cell_type": "code",
   "source": [
    "# hook是一个函数，输入是梯度，不应该有返回值\n",
    "def variable_hook(grad):\n",
    "    print('y.grad：', grad)\n",
    "\n",
    "\n",
    "x = torch.ones(1, requires_grad=True)\n",
    "w = torch.ones(1, requires_grad=True)\n",
    "\n",
    "y = x * w\n",
    "# 注册hook\n",
    "hook_handle = y.register_hook(variable_hook)\n",
    "\n",
    "z = y.sum()\n",
    "z.backward()\n",
    "\n",
    "# 除非每次都要使用 hook，否则用完之后记得移除 hook\n",
    "hook_handle.remove()"
   ],
   "id": "dfeaddbba5032854",
   "outputs": [
    {
     "name": "stdout",
     "output_type": "stream",
     "text": [
      "y.grad： tensor([1.])\n"
     ]
    }
   ],
   "execution_count": 118
  },
  {
   "metadata": {},
   "cell_type": "markdown",
   "source": "线性回归",
   "id": "e23e1d8836d27b6d"
  },
  {
   "metadata": {
    "ExecuteTime": {
     "end_time": "2025-02-08T10:19:46.525276Z",
     "start_time": "2025-02-08T10:19:46.424178Z"
    }
   },
   "cell_type": "code",
   "source": [
    "import torch\n",
    "import numpy as np\n",
    "from matplotlib import pyplot as plt\n",
    "%matplotlib inline\n",
    "\n",
    "def get_fake_data(batch_size=16):\n",
    "    # 产生随机数据：y = 2 * x + 3，加上噪声\n",
    "    x = torch.rand(batch_size, 1) * 5  # 扩大一些，以免噪声太明显\n",
    "    y = x * 2 + 3 + torch.randn(batch_size, 1)\n",
    "    return x, y\n",
    "\n",
    "# 设置随机数种子，保证结果可复现\n",
    "torch.manual_seed(1000)\n",
    "\n",
    "x, y = get_fake_data()\n",
    "\n",
    "# plt.scatter(x.squeeze().numpy(), y.squeeze().numpy())\n",
    "# plt.show()\n",
    "\n",
    "# 初始化\n",
    "w = torch.rand(1, 1, requires_grad=True)  # w.shape = torch.Size([1, 1]) 因为 [8, 1] * [1, 1] -> [batch_size, 1] 和 y 维度相同\n",
    "b = torch.zeros(1, 1, requires_grad=True)\n",
    "\n",
    "losses = np.zeros(200)  # 存储损失值\n",
    "lr = 0.005  # 学习率\n",
    "EPOCHS = 200  # 迭代次数\n",
    "\n",
    "for epoch in range(EPOCHS):\n",
    "    x, y = get_fake_data(batch_size=32)\n",
    "\n",
    "    # 前向传播 计算损失\n",
    "    y_pred = x.mm(w) + b.expand_as(y)  # expand_as(y) 是广播机制，即将 b 复制成和 y 相同性质的张量 [1, 1] -> [batch_size, 1]\n",
    "    loss = 0.5 * (y_pred - y) ** 2  # MSE 均方误差，这是对张量 y 逐元素计算\n",
    "    loss = loss.sum()  # 累和成一个数\n",
    "    losses[epoch] = loss.item()\n",
    "\n",
    "    # 反向传播\n",
    "    loss.backward()\n",
    "\n",
    "    ''' 取 .data 是因为每一轮是根据随机生成的 batch_size 个点训练，但我们希望存储的是全局参数 w, b '''\n",
    "    ''' 故每次依据样本点更新全局参数，而不是改批次的参数 '''\n",
    "    # 更新参数\n",
    "    w.data.sub_(lr * w.grad.data)  # 或者 w.data = w.data - lr * w.grad.data\n",
    "    b.data.sub_(lr * b.grad.data)\n",
    "\n",
    "    # 梯度清零\n",
    "    w.grad.data.zero_()  # 不清零，梯度会不断累加\n",
    "    b.grad.data.zero_()\n",
    "\n",
    "    if epoch % 10 == 0:  # 每隔 10 次扔出当前训练情况\n",
    "        print(\"Epoch: {} / {}, Parameters: w is {}, b is {}, Loss: {}\".format(epoch, EPOCHS, w.item(), b.item(), losses[epoch]))\n",
    "\n",
    "print(\"Epoch: {} / {}, Parameters: w is {}, b is {}, Loss: {}\".format(EPOCHS, EPOCHS, w.item(), b.item(), losses[-1]))"
   ],
   "id": "618bc8e577dced06",
   "outputs": [
    {
     "name": "stdout",
     "output_type": "stream",
     "text": [
      "Epoch: 0 / 200, Parameters: w is 4.3238725662231445, b is 1.0881009101867676, Loss: 829.963623046875\n",
      "Epoch: 10 / 200, Parameters: w is 2.4952096939086914, b is 1.4346898794174194, Loss: 22.86300277709961\n",
      "Epoch: 20 / 200, Parameters: w is 2.461652994155884, b is 1.9093928337097168, Loss: 26.772279739379883\n",
      "Epoch: 30 / 200, Parameters: w is 2.249239206314087, b is 2.26396107673645, Loss: 23.66741371154785\n",
      "Epoch: 40 / 200, Parameters: w is 2.204270839691162, b is 2.51182222366333, Loss: 30.24079704284668\n",
      "Epoch: 50 / 200, Parameters: w is 2.119697093963623, b is 2.6827430725097656, Loss: 23.72589111328125\n",
      "Epoch: 60 / 200, Parameters: w is 2.012115478515625, b is 2.75495982170105, Loss: 18.381744384765625\n",
      "Epoch: 70 / 200, Parameters: w is 2.1640625, b is 2.945894718170166, Loss: 16.76274871826172\n",
      "Epoch: 80 / 200, Parameters: w is 2.1478610038757324, b is 2.889162302017212, Loss: 14.00447940826416\n",
      "Epoch: 90 / 200, Parameters: w is 1.9468457698822021, b is 2.880192995071411, Loss: 9.304946899414062\n",
      "Epoch: 100 / 200, Parameters: w is 2.0835964679718018, b is 2.9122984409332275, Loss: 15.472696304321289\n",
      "Epoch: 110 / 200, Parameters: w is 2.1020069122314453, b is 2.8925273418426514, Loss: 10.735383987426758\n",
      "Epoch: 120 / 200, Parameters: w is 1.9653863906860352, b is 2.8870584964752197, Loss: 20.908357620239258\n",
      "Epoch: 130 / 200, Parameters: w is 2.044848680496216, b is 2.9590423107147217, Loss: 18.27814483642578\n",
      "Epoch: 140 / 200, Parameters: w is 1.9842984676361084, b is 2.8751630783081055, Loss: 11.669443130493164\n",
      "Epoch: 150 / 200, Parameters: w is 2.113189697265625, b is 3.0159976482391357, Loss: 18.068416595458984\n",
      "Epoch: 160 / 200, Parameters: w is 1.9963197708129883, b is 2.929171562194824, Loss: 12.909667015075684\n",
      "Epoch: 170 / 200, Parameters: w is 2.1057674884796143, b is 2.973322868347168, Loss: 21.055574417114258\n",
      "Epoch: 180 / 200, Parameters: w is 2.070831537246704, b is 3.0448570251464844, Loss: 10.260941505432129\n",
      "Epoch: 190 / 200, Parameters: w is 1.8480156660079956, b is 2.9255170822143555, Loss: 32.224422454833984\n",
      "Epoch: 200 / 200, Parameters: w is 2.050056219100952, b is 2.978024959564209, Loss: 25.451929092407227\n"
     ]
    }
   ],
   "execution_count": 259
  },
  {
   "metadata": {
    "ExecuteTime": {
     "end_time": "2025-02-08T10:19:55.607718Z",
     "start_time": "2025-02-08T10:19:55.426220Z"
    }
   },
   "cell_type": "code",
   "source": "plt.plot(losses)",
   "id": "fce76b9a56a3b81b",
   "outputs": [
    {
     "data": {
      "text/plain": [
       "[<matplotlib.lines.Line2D at 0x7f9678ee25e0>]"
      ]
     },
     "execution_count": 260,
     "metadata": {},
     "output_type": "execute_result"
    },
    {
     "data": {
      "text/plain": [
       "<Figure size 640x480 with 1 Axes>"
      ],
      "image/png": "[encoded data removed]"
     },
     "metadata": {},
     "output_type": "display_data"
    }
   ],
   "execution_count": 260
  },
  {
   "metadata": {},
   "cell_type": "markdown",
   "source": "GPU 加速",
   "id": "9dc8de58e5360ab2"
  },
  {
   "metadata": {
    "ExecuteTime": {
     "end_time": "2025-02-08T10:23:06.033752Z",
     "start_time": "2025-02-08T10:23:05.857008Z"
    }
   },
   "cell_type": "code",
   "source": [
    "import torch\n",
    "import numpy as np\n",
    "from matplotlib import pyplot as plt\n",
    "\n",
    "# 检查是否有可用的 GPU\n",
    "device = torch.device(\"cuda\" if torch.cuda.is_available() else \"cpu\")\n",
    "print(f\"Using device: {device}\")\n",
    "\n",
    "def get_fake_data(batch_size=16):\n",
    "    # 产生随机数据：y = 2 * x + 3，加上噪声\n",
    "    x = torch.rand(batch_size, 1, device=device) * 5  # 将数据移动到 GPU\n",
    "    y = x * 2 + 3 + torch.randn(batch_size, 1, device=device)  # 将数据移动到 GPU\n",
    "    return x, y\n",
    "\n",
    "# 设置随机数种子，保证结果可复现\n",
    "torch.manual_seed(1000)\n",
    "if torch.cuda.is_available():\n",
    "    torch.cuda.manual_seed(1000)  # 为 CUDA 设置随机种子\n",
    "\n",
    "# 初始化参数，并将参数移动到 GPU\n",
    "w = torch.rand(1, 1, requires_grad=True, device=device)  # 将 w 移动到 GPU\n",
    "b = torch.zeros(1, 1, requires_grad=True, device=device)  # 将 b 移动到 GPU\n",
    "\n",
    "losses = np.zeros(200)  # 存储损失值\n",
    "lr = 0.005  # 学习率\n",
    "EPOCHS = 200  # 迭代次数\n",
    "\n",
    "for epoch in range(EPOCHS):\n",
    "    x, y = get_fake_data(batch_size=32)\n",
    "\n",
    "    # 前向传播 计算损失\n",
    "    y_pred = x.mm(w) + b.expand_as(y)  # expand_as(y) 是广播机制，即将 b 复制成和 y 相同性质的张量 [1, 1] -> [batch_size, 1]\n",
    "    loss = 0.5 * (y_pred - y) ** 2  # MSE 均方误差，这是对张量 y 逐元素计算\n",
    "    loss = loss.sum()  # 累和成一个数\n",
    "    losses[epoch] = loss.item()\n",
    "\n",
    "    # 反向传播\n",
    "    loss.backward()\n",
    "\n",
    "    # 更新参数\n",
    "    w.data.sub_(lr * w.grad.data)  # 或者 w.data = w.data - lr * w.grad.data\n",
    "    b.data.sub_(lr * b.grad.data)\n",
    "\n",
    "    # 梯度清零\n",
    "    w.grad.data.zero_()  # 不清零，梯度会不断累加\n",
    "    b.grad.data.zero_()\n",
    "\n",
    "    if epoch % 10 == 0:  # 每隔 10 次打印当前训练情况\n",
    "        print(\"Epoch: {} / {}, Parameters: w is {}, b is {}, Loss: {}\".format(epoch, EPOCHS, w.item(), b.item(), losses[epoch]))\n",
    "\n",
    "print(\"Epoch: {} / {}, Parameters: w is {}, b is {}, Loss: {}\".format(EPOCHS, EPOCHS, w.item(), b.item(), losses[-1]))"
   ],
   "id": "6a4ee46eb68fe243",
   "outputs": [
    {
     "name": "stdout",
     "output_type": "stream",
     "text": [
      "Using device: cpu\n",
      "Epoch: 0 / 200, Parameters: w is 2.7337794303894043, b is 1.0231688022613525, Loss: 736.5323486328125\n",
      "Epoch: 10 / 200, Parameters: w is 2.3819713592529297, b is 1.6682813167572021, Loss: 30.348400115966797\n",
      "Epoch: 20 / 200, Parameters: w is 2.2459428310394287, b is 2.113689422607422, Loss: 17.65412139892578\n",
      "Epoch: 30 / 200, Parameters: w is 2.1680939197540283, b is 2.458800792694092, Loss: 17.94357681274414\n",
      "Epoch: 40 / 200, Parameters: w is 1.8848652839660645, b is 2.606093406677246, Loss: 22.044933319091797\n",
      "Epoch: 50 / 200, Parameters: w is 2.129716157913208, b is 2.834650993347168, Loss: 16.110321044921875\n",
      "Epoch: 60 / 200, Parameters: w is 2.105722427368164, b is 2.9137725830078125, Loss: 15.801353454589844\n",
      "Epoch: 70 / 200, Parameters: w is 1.8919388055801392, b is 2.9325156211853027, Loss: 18.60936737060547\n",
      "Epoch: 80 / 200, Parameters: w is 2.1795639991760254, b is 3.002751588821411, Loss: 22.5450382232666\n",
      "Epoch: 90 / 200, Parameters: w is 1.9954026937484741, b is 2.963341236114502, Loss: 25.068634033203125\n",
      "Epoch: 100 / 200, Parameters: w is 2.046473979949951, b is 2.994661331176758, Loss: 13.075820922851562\n",
      "Epoch: 110 / 200, Parameters: w is 2.0156829357147217, b is 3.01656174659729, Loss: 19.011032104492188\n",
      "Epoch: 120 / 200, Parameters: w is 2.015576124191284, b is 3.032634735107422, Loss: 19.352670669555664\n",
      "Epoch: 130 / 200, Parameters: w is 2.0440762042999268, b is 3.046422243118286, Loss: 13.650152206420898\n",
      "Epoch: 140 / 200, Parameters: w is 2.0344834327697754, b is 3.0524375438690186, Loss: 14.413225173950195\n",
      "Epoch: 150 / 200, Parameters: w is 1.8744324445724487, b is 2.9452261924743652, Loss: 13.648757934570312\n",
      "Epoch: 160 / 200, Parameters: w is 2.060462713241577, b is 2.9719014167785645, Loss: 20.689754486083984\n",
      "Epoch: 170 / 200, Parameters: w is 1.866898775100708, b is 2.9425899982452393, Loss: 26.513134002685547\n",
      "Epoch: 180 / 200, Parameters: w is 2.1220834255218506, b is 2.9882922172546387, Loss: 27.161195755004883\n",
      "Epoch: 190 / 200, Parameters: w is 2.02956485748291, b is 2.9790289402008057, Loss: 14.892881393432617\n",
      "Epoch: 200 / 200, Parameters: w is 1.9437114000320435, b is 3.043231964111328, Loss: 17.167875289916992\n"
     ]
    }
   ],
   "execution_count": 261
  },
  {
   "metadata": {
    "ExecuteTime": {
     "end_time": "2025-02-08T10:23:17.107793Z",
     "start_time": "2025-02-08T10:23:16.910731Z"
    }
   },
   "cell_type": "code",
   "source": "plt.plot(losses)",
   "id": "d8f713600d3747b6",
   "outputs": [
    {
     "data": {
      "text/plain": [
       "[<matplotlib.lines.Line2D at 0x7f969a678610>]"
      ]
     },
     "execution_count": 262,
     "metadata": {},
     "output_type": "execute_result"
    },
    {
     "data": {
      "text/plain": [
       "<Figure size 640x480 with 1 Axes>"
      ],
      "image/png": "[encoded data removed]"
     },
     "metadata": {},
     "output_type": "display_data"
    }
   ],
   "execution_count": 262
  },
  {
   "metadata": {},
   "cell_type": "code",
   "outputs": [],
   "execution_count": null,
   "source": "",
   "id": "3a49c4290fd5e48f"
  }
 ],
 "metadata": {
  "kernelspec": {
   "display_name": "mldl",
   "language": "python",
   "name": "mldl"
  },
  "language_info": {
   "codemirror_mode": {
    "name": "ipython",
    "version": 2
   },
   "file_extension": ".py",
   "mimetype": "text/x-python",
   "name": "python",
   "nbconvert_exporter": "python",
   "pygments_lexer": "ipython2",
   "version": "2.7.6"
  }
 },
 "nbformat": 4,
 "nbformat_minor": 5
}
