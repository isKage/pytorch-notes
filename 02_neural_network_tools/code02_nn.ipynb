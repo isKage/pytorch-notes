{
 "cells": [
  {
   "cell_type": "code",
   "id": "initial_id",
   "metadata": {
    "collapsed": true,
    "ExecuteTime": {
     "end_time": "2025-02-10T07:37:09.637343Z",
     "start_time": "2025-02-10T07:37:09.629135Z"
    }
   },
   "source": [
    "import torch\n",
    "from torch import nn"
   ],
   "execution_count": 103,
   "outputs": []
  },
  {
   "metadata": {
    "ExecuteTime": {
     "end_time": "2025-02-10T07:37:09.747156Z",
     "start_time": "2025-02-10T07:37:09.739762Z"
    }
   },
   "cell_type": "code",
   "source": "torch.manual_seed(0)  # 设置随机种子",
   "id": "d4773a9ddbba7bec",
   "execution_count": 104,
   "outputs": []
  },
  {
   "metadata": {},
   "cell_type": "markdown",
   "source": "## 1.1 利用 nn.Module 实现全连接层",
   "id": "d6e73cf810d9abc7"
  },
  {
   "metadata": {
    "ExecuteTime": {
     "end_time": "2025-02-10T07:37:09.756342Z",
     "start_time": "2025-02-10T07:37:09.748903Z"
    }
   },
   "cell_type": "code",
   "source": [
    "\"\"\" 定义线性层 Linear 用来计算 y = W x + b \"\"\"\n",
    "\n",
    "\n",
    "class Linear(nn.Module):  # 继承 nn.Module\n",
    "    def __init__(self, in_features, out_features):\n",
    "        # in_features 输入的形状，out_features 输出的形状\n",
    "        super().__init__()  # 等价于 nn.Module.__init__(self)\n",
    "        # nn.Parameter 指定需要网络学习的参数\n",
    "        self.W = nn.Parameter(torch.randn(in_features, out_features))\n",
    "        self.b = nn.Parameter(torch.randn(out_features))\n",
    "\n",
    "    # 前向传播\n",
    "    def forward(self, x):\n",
    "        # 计算 y = xW + b : 利用了广播机制，b 会复制成 y 一般大小，即 (out_features,)\n",
    "        y = x @ self.W + self.b  # @ 代表矩阵乘法\n",
    "        return y"
   ],
   "id": "6c12f8a691577651",
   "execution_count": 105,
   "outputs": []
  },
  {
   "metadata": {
    "ExecuteTime": {
     "end_time": "2025-02-10T07:37:09.780330Z",
     "start_time": "2025-02-10T07:37:09.758199Z"
    }
   },
   "cell_type": "code",
   "source": [
    "# 调用上述定义的线性层/全连接层，检查维度\n",
    "linear_layer = Linear(in_features=4, out_features=3)\n",
    "inputs = torch.randn(2, 4)\n",
    "outputs = linear_layer(inputs)\n",
    "print(outputs.shape)"
   ],
   "id": "735c816c7adf1865",
   "execution_count": 106,
   "outputs": []
  },
  {
   "metadata": {
    "ExecuteTime": {
     "end_time": "2025-02-10T07:37:09.791969Z",
     "start_time": "2025-02-10T07:37:09.782058Z"
    }
   },
   "cell_type": "code",
   "source": [
    "for name, parameter in linear_layer.named_parameters():\n",
    "    print(\"1. It is parameter: {}\".format(name))\n",
    "    print(\"2.\", parameter)\n",
    "    print(\"3. The shape is: {}\\n\".format(parameter.shape))"
   ],
   "id": "42db5cd365f81e58",
   "execution_count": 107,
   "outputs": []
  },
  {
   "metadata": {},
   "cell_type": "markdown",
   "source": "## 1.2 利用 nn.Module 实现多层感知机",
   "id": "428fdca18c1a06eb"
  },
  {
   "metadata": {
    "ExecuteTime": {
     "end_time": "2025-02-10T07:37:09.806843Z",
     "start_time": "2025-02-10T07:37:09.800159Z"
    }
   },
   "cell_type": "code",
   "source": [
    "class MultiPerceptron(nn.Module):\n",
    "    def __init__(self, in_features, hidden_features, out_features):\n",
    "        # 新增参数：隐藏层神经元个数（形状）\n",
    "        super().__init__()\n",
    "        # 直接使用之前定义的线性层/全连接层 Linear\n",
    "        self.layer1 = Linear(in_features, hidden_features)\n",
    "        self.layer2 = Linear(hidden_features, out_features)\n",
    "\n",
    "    def forward(self, x):\n",
    "        x = self.layer1(x)\n",
    "        x = torch.sigmoid(x)  # 使用激活函数，增加非线性因素（此处是逐个元素计算）\n",
    "        y = self.layer2(x)\n",
    "        return y"
   ],
   "id": "77f7a074e372bb7",
   "execution_count": 108,
   "outputs": []
  },
  {
   "metadata": {
    "ExecuteTime": {
     "end_time": "2025-02-10T07:37:09.822657Z",
     "start_time": "2025-02-10T07:37:09.812970Z"
    }
   },
   "cell_type": "code",
   "source": [
    "# 检查维度\n",
    "mlp = MultiPerceptron(3, 4, 1)\n",
    "inputs = torch.randn(2, 3)\n",
    "outputs = mlp(inputs)\n",
    "print(outputs.shape)"
   ],
   "id": "e0fa54c4fd4bd7e9",
   "execution_count": 109,
   "outputs": []
  },
  {
   "metadata": {
    "ExecuteTime": {
     "end_time": "2025-02-10T07:37:09.849628Z",
     "start_time": "2025-02-10T07:37:09.846222Z"
    }
   },
   "cell_type": "code",
   "source": [
    "# 检查参数\n",
    "for name, param in mlp.named_parameters():\n",
    "    print(name, param.size())"
   ],
   "id": "6dc4acec131f3ce3",
   "execution_count": 110,
   "outputs": []
  },
  {
   "metadata": {
    "ExecuteTime": {
     "end_time": "2025-02-10T07:37:09.866172Z",
     "start_time": "2025-02-10T07:37:09.859050Z"
    }
   },
   "cell_type": "code",
   "source": [
    "# batch_size = 1\n",
    "x = torch.randn(3)\n",
    "x.unsqueeze_(0)\n",
    "y = mlp(x)\n",
    "print(y.shape)"
   ],
   "id": "83416f54bce07491",
   "execution_count": 111,
   "outputs": []
  },
  {
   "metadata": {},
   "cell_type": "markdown",
   "source": "## 2.1 常见网络层：图像相关层",
   "id": "a22f8e0ba79f4425"
  },
  {
   "metadata": {
    "ExecuteTime": {
     "end_time": "2025-02-10T07:37:09.882703Z",
     "start_time": "2025-02-10T07:37:09.876569Z"
    }
   },
   "cell_type": "code",
   "source": [
    "# 卷积层\n",
    "from PIL import Image\n",
    "from torchvision.transforms import ToTensor, ToPILImage"
   ],
   "id": "7be5d72cebf0b635",
   "execution_count": 112,
   "outputs": []
  },
  {
   "metadata": {
    "ExecuteTime": {
     "end_time": "2025-02-10T07:37:09.908936Z",
     "start_time": "2025-02-10T07:37:09.905084Z"
    }
   },
   "cell_type": "code",
   "source": [
    "to_tensor = ToTensor()  # img -> Tensor\n",
    "to_pil = ToPILImage()  # Tensor -> PIL"
   ],
   "id": "6b4ddf955d7f8a7c",
   "execution_count": 113,
   "outputs": []
  },
  {
   "metadata": {
    "ExecuteTime": {
     "end_time": "2025-02-10T07:37:09.950468Z",
     "start_time": "2025-02-10T07:37:09.919551Z"
    }
   },
   "cell_type": "code",
   "source": [
    "example = Image.open('imgs/lena.png')\n",
    "example  # 可视化输出"
   ],
   "id": "392bb709d4d2ea37",
   "execution_count": 114,
   "outputs": []
  },
  {
   "metadata": {
    "ExecuteTime": {
     "end_time": "2025-02-10T07:37:09.969967Z",
     "start_time": "2025-02-10T07:37:09.953288Z"
    }
   },
   "cell_type": "code",
   "source": [
    "example = to_tensor(example).unsqueeze(0)  # 补充 batch_size\n",
    "print(\"Input Size:\", example.size())  # 查看 input 维度"
   ],
   "id": "162339c47bec86e4",
   "execution_count": 115,
   "outputs": []
  },
  {
   "metadata": {
    "ExecuteTime": {
     "end_time": "2025-02-10T07:37:10.017479Z",
     "start_time": "2025-02-10T07:37:09.972431Z"
    }
   },
   "cell_type": "code",
   "source": [
    "conv = nn.Conv2d(in_channels=1, out_channels=1, kernel_size=3, stride=1, padding=0, bias=False)\n",
    "\n",
    "out = conv(example)\n",
    "print(\"Output Size:\", out.size())"
   ],
   "id": "84c225341b7ab18",
   "execution_count": 116,
   "outputs": []
  },
  {
   "metadata": {
    "ExecuteTime": {
     "end_time": "2025-02-10T07:37:10.035200Z",
     "start_time": "2025-02-10T07:37:10.019579Z"
    }
   },
   "cell_type": "code",
   "source": "to_pil(out.data.squeeze(0))  # 去除 batch_size 转换为图片输出",
   "id": "665ab292009f682",
   "execution_count": 117,
   "outputs": []
  },
  {
   "metadata": {
    "ExecuteTime": {
     "end_time": "2025-02-10T07:37:10.054537Z",
     "start_time": "2025-02-10T07:37:10.049005Z"
    }
   },
   "cell_type": "code",
   "source": [
    "# 拓展：指定卷积核\n",
    "kernel = torch.tensor([\n",
    "    [1., 0., -1.],\n",
    "    [1., 0., -1.],\n",
    "    [1., 0., -1.]\n",
    "], dtype=torch.float32)"
   ],
   "id": "c23ad8fe4ad51c32",
   "execution_count": 118,
   "outputs": []
  },
  {
   "metadata": {
    "ExecuteTime": {
     "end_time": "2025-02-10T07:37:10.082175Z",
     "start_time": "2025-02-10T07:37:10.077898Z"
    }
   },
   "cell_type": "code",
   "source": "kernel.shape",
   "id": "c3533f98b6bf02ea",
   "execution_count": 119,
   "outputs": []
  },
  {
   "metadata": {
    "ExecuteTime": {
     "end_time": "2025-02-10T07:37:10.128747Z",
     "start_time": "2025-02-10T07:37:10.123176Z"
    }
   },
   "cell_type": "code",
   "source": [
    "conv = nn.Conv2d(in_channels=1, out_channels=1, kernel_size=(3, 3), stride=1, padding=0, bias=False)\n",
    "conv.weight.data = kernel.view(1, 1, 3, 3)  # (batch_size, in_channels, height, width)"
   ],
   "id": "5bf19d6ba940e71f",
   "execution_count": 120,
   "outputs": []
  },
  {
   "metadata": {
    "ExecuteTime": {
     "end_time": "2025-02-10T07:37:10.150102Z",
     "start_time": "2025-02-10T07:37:10.145087Z"
    }
   },
   "cell_type": "code",
   "source": [
    "out = conv(example)\n",
    "print(\"Output Size:\", out.size())"
   ],
   "id": "4b886bc1d2e72823",
   "execution_count": 121,
   "outputs": []
  },
  {
   "metadata": {
    "ExecuteTime": {
     "end_time": "2025-02-10T07:37:10.177629Z",
     "start_time": "2025-02-10T07:37:10.166010Z"
    }
   },
   "cell_type": "code",
   "source": "to_pil(out.data.squeeze(0))  # 去除 batch_size 转换为图片输出",
   "id": "19c320ce7aaad0a9",
   "execution_count": 122,
   "outputs": []
  },
  {
   "metadata": {
    "ExecuteTime": {
     "end_time": "2025-02-10T07:37:10.199051Z",
     "start_time": "2025-02-10T07:37:10.196222Z"
    }
   },
   "cell_type": "code",
   "source": "# 最大池化",
   "id": "59e153000960f917",
   "execution_count": 123,
   "outputs": []
  },
  {
   "metadata": {
    "ExecuteTime": {
     "end_time": "2025-02-10T07:37:10.218074Z",
     "start_time": "2025-02-10T07:37:10.206721Z"
    }
   },
   "cell_type": "code",
   "source": [
    "from torch.nn import MaxPool2d\n",
    "\n",
    "inputs = torch.tensor([\n",
    "    [1, 2, 0, 2, 1, ],\n",
    "    [0, 1, 3, 1, 1, ],\n",
    "    [1, 2, 1, 0, 0, ],\n",
    "    [5, 2, 3, 1, 1, ],\n",
    "    [2, 1, 0, 1, 1, ],\n",
    "], dtype=torch.float)\n",
    "\n",
    "# 1 batch_size，1 通道，5x5 大小，-1 表示自动计算\n",
    "inputs = torch.reshape(inputs, (-1, 1, 5, 5))\n",
    "\n",
    "# 神经网络\n",
    "max_pool = MaxPool2d(kernel_size=3, ceil_mode=True)\n",
    "\n",
    "output = max_pool(inputs)\n",
    "print(output)"
   ],
   "id": "c465d46819d90fc6",
   "execution_count": 124,
   "outputs": []
  },
  {
   "metadata": {
    "ExecuteTime": {
     "end_time": "2025-02-10T07:37:10.224403Z",
     "start_time": "2025-02-10T07:37:10.219986Z"
    }
   },
   "cell_type": "code",
   "source": "list(max_pool.parameters())",
   "id": "9bb4bef083bd3e2d",
   "execution_count": 125,
   "outputs": []
  },
  {
   "metadata": {
    "ExecuteTime": {
     "end_time": "2025-02-10T07:37:10.252995Z",
     "start_time": "2025-02-10T07:37:10.245937Z"
    }
   },
   "cell_type": "code",
   "source": [
    "out = max_pool(example)\n",
    "to_pil(out.data.squeeze(0))  # 输出池化后的lena"
   ],
   "id": "f8d4e6d2b2f9d34d",
   "execution_count": 126,
   "outputs": []
  },
  {
   "metadata": {
    "ExecuteTime": {
     "end_time": "2025-02-10T07:37:10.267480Z",
     "start_time": "2025-02-10T07:37:10.262286Z"
    }
   },
   "cell_type": "code",
   "source": "out.shape",
   "id": "7a2c579c8b305337",
   "execution_count": 127,
   "outputs": []
  },
  {
   "metadata": {
    "ExecuteTime": {
     "end_time": "2025-02-10T07:37:10.297558Z",
     "start_time": "2025-02-10T07:37:10.285735Z"
    }
   },
   "cell_type": "code",
   "source": [
    "# 线性层\n",
    "inputs = torch.randn(2, 3)\n",
    "linear_out = nn.Linear(3, 4)\n",
    "out = linear_out(inputs)\n",
    "out.shape"
   ],
   "id": "4c9282d93338df46",
   "execution_count": 128,
   "outputs": []
  },
  {
   "metadata": {
    "ExecuteTime": {
     "end_time": "2025-02-10T07:37:10.346189Z",
     "start_time": "2025-02-10T07:37:10.328174Z"
    }
   },
   "cell_type": "code",
   "source": [
    "# Sequential的三种写法\n",
    "# 法一\n",
    "net1 = nn.Sequential()\n",
    "net1.add_module('conv', nn.Conv2d(3, 3, 3))\n",
    "net1.add_module('batchnorm', nn.BatchNorm2d(3))\n",
    "net1.add_module('relu', nn.ReLU())\n",
    "\n",
    "# 法二\n",
    "net2 = nn.Sequential(\n",
    "    nn.Conv2d(3, 3, 3),\n",
    "    nn.BatchNorm2d(3),\n",
    "    nn.ReLU()\n",
    ")\n",
    "\n",
    "# 法三\n",
    "from collections import OrderedDict\n",
    "\n",
    "net3 = nn.Sequential(OrderedDict([\n",
    "    ('conv', nn.Conv2d(3, 3, 3)),\n",
    "    ('batchnorm', nn.BatchNorm2d(3)),\n",
    "    ('relu', nn.ReLU())\n",
    "]))\n",
    "\n",
    "print('net1:', net1)\n",
    "print('net2:', net2)\n",
    "print('net3:', net3)"
   ],
   "id": "657d34199e228c6",
   "execution_count": 129,
   "outputs": []
  },
  {
   "metadata": {
    "ExecuteTime": {
     "end_time": "2025-02-10T07:37:10.370680Z",
     "start_time": "2025-02-10T07:37:10.363954Z"
    }
   },
   "cell_type": "code",
   "source": "net1.conv, net2[1], net3.relu",
   "id": "4a89c1c62cde666f",
   "execution_count": 130,
   "outputs": []
  },
  {
   "metadata": {
    "ExecuteTime": {
     "end_time": "2025-02-10T07:37:10.400297Z",
     "start_time": "2025-02-10T07:37:10.385628Z"
    }
   },
   "cell_type": "code",
   "source": [
    "# ModuleList\n",
    "model_list = nn.ModuleList([nn.Linear(3, 4), nn.ReLU(), nn.Linear(4, 2)])\n",
    "inputs = torch.randn(1, 3)\n",
    "for model in model_list:\n",
    "    inputs = model(inputs)  # 一步一步执行，相当于前向传播 forward\n",
    "inputs.shape"
   ],
   "id": "f3b949fb8496ae7",
   "execution_count": 131,
   "outputs": []
  },
  {
   "metadata": {
    "ExecuteTime": {
     "end_time": "2025-02-10T07:37:10.554304Z",
     "start_time": "2025-02-10T07:37:10.434275Z"
    }
   },
   "cell_type": "code",
   "source": [
    "inputs = torch.randn(1, 3)\n",
    "output = model_list(inputs)  # 报错，没有定义 forward 函数"
   ],
   "id": "11f24079509de932",
   "execution_count": 132,
   "outputs": []
  },
  {
   "metadata": {
    "ExecuteTime": {
     "end_time": "2025-02-10T07:37:15.652329Z",
     "start_time": "2025-02-10T07:37:15.644410Z"
    }
   },
   "cell_type": "code",
   "source": "# 损失函数",
   "id": "dc3ddf5f8d3b7809",
   "execution_count": 133,
   "outputs": []
  },
  {
   "metadata": {
    "ExecuteTime": {
     "end_time": "2025-02-10T07:37:16.136130Z",
     "start_time": "2025-02-10T07:37:16.130133Z"
    }
   },
   "cell_type": "code",
   "source": [
    "# batch_size=4，即这一组共 4 个样本，类别为 2\n",
    "score = torch.randn(4, 2)\n",
    "# 假设 4 个样本的真实类为：1, 0, 1, 1 \n",
    "label = torch.Tensor([1, 0, 1, 1]).long()  # 分类 label 必须为 LongTensor\n",
    "\n",
    "# 交叉熵损失 CrossEntropyLoss （常用与计算分类问题的损失）\n",
    "criterion = nn.CrossEntropyLoss()\n",
    "loss = criterion(score, label)\n",
    "\n",
    "print(loss)"
   ],
   "id": "d1eba0e2d376dc56",
   "execution_count": 134,
   "outputs": []
  },
  {
   "metadata": {
    "ExecuteTime": {
     "end_time": "2025-02-10T07:42:50.404987Z",
     "start_time": "2025-02-10T07:42:50.390820Z"
    }
   },
   "cell_type": "code",
   "source": [
    "# 生成预测值和真实值\n",
    "y_pred = torch.randn(4, 1)\n",
    "y_real = torch.randn(4).squeeze(-1)  # 将 y_real 的形状调整为 (4, 1)\n",
    "\n",
    "# 初始化 MSE 损失函数\n",
    "mse = nn.MSELoss()\n",
    "\n",
    "# 计算损失\n",
    "loss = mse(y_pred, y_real)\n",
    "\n",
    "print(loss)"
   ],
   "id": "9b5894c889bffb48",
   "execution_count": 138,
   "outputs": []
  },
  {
   "metadata": {
    "ExecuteTime": {
     "end_time": "2025-02-10T07:50:19.725254Z",
     "start_time": "2025-02-10T07:50:19.718294Z"
    }
   },
   "cell_type": "code",
   "source": [
    "# nn.functional\n",
    "inputs = torch.randn(2, 3)\n",
    "\n",
    "model = nn.Linear(3, 4)\n",
    "output1 = model(inputs)"
   ],
   "id": "71214b69effb1da1",
   "execution_count": 146,
   "outputs": []
  },
  {
   "metadata": {
    "ExecuteTime": {
     "end_time": "2025-02-10T07:50:19.896830Z",
     "start_time": "2025-02-10T07:50:19.893552Z"
    }
   },
   "cell_type": "code",
   "source": "# model.weight, model.bias",
   "id": "b81a4932b8527f9e",
   "execution_count": 147,
   "outputs": []
  },
  {
   "metadata": {
    "ExecuteTime": {
     "end_time": "2025-02-10T07:50:20.082982Z",
     "start_time": "2025-02-10T07:50:20.079498Z"
    }
   },
   "cell_type": "code",
   "source": "output2 = nn.functional.linear(inputs, model.weight, model.bias)",
   "id": "63daafdb28b6558a",
   "execution_count": 148,
   "outputs": []
  },
  {
   "metadata": {
    "ExecuteTime": {
     "end_time": "2025-02-10T07:50:20.288752Z",
     "start_time": "2025-02-10T07:50:20.283721Z"
    }
   },
   "cell_type": "code",
   "source": [
    "print(output1)\n",
    "print(output2)"
   ],
   "id": "ebe779bef643e82f",
   "execution_count": 149,
   "outputs": []
  },
  {
   "metadata": {
    "ExecuteTime": {
     "end_time": "2025-02-10T08:08:03.480048Z",
     "start_time": "2025-02-10T08:08:03.473335Z"
    }
   },
   "cell_type": "code",
   "source": [
    "# 混合使用\n",
    "from torch.nn import functional as F\n",
    "\n",
    "\n",
    "class myNet(nn.Module):\n",
    "    def __init__(self):\n",
    "        super().__init__()\n",
    "        self.conv1 = nn.Conv2d(3, 6, 5)\n",
    "        self.conv2 = nn.Conv2d(6, 16, 5)\n",
    "        self.fc1 = nn.Linear(16 * 5 * 5, 120)\n",
    "        self.fc2 = nn.Linear(120, 84)\n",
    "        self.fc3 = nn.Linear(84, 10)\n",
    "\n",
    "    def forward(self, x):\n",
    "        x = F.max_pool2d(F.relu(self.conv1(x)), 2)\n",
    "        x = F.max_pool2d(F.relu(self.conv2(x)), 2)\n",
    "        x = x.view(-1, 16 * 5 * 5)  # 计算池化后的大小\n",
    "        x = F.relu(self.fc1(x))\n",
    "        x = F.relu(self.fc2(x))\n",
    "        x = self.fc3(x)\n",
    "        return x"
   ],
   "id": "4cad41790a290056",
   "execution_count": 155,
   "outputs": []
  },
  {
   "metadata": {
    "ExecuteTime": {
     "end_time": "2025-02-10T08:22:24.618540Z",
     "start_time": "2025-02-10T08:22:24.487050Z"
    }
   },
   "cell_type": "code",
   "source": [
    "x = torch.randn(64, 3, 32, 32)  # batch_size=64, channels=3, height=32, width=32\n",
    "model = myNet()\n",
    "out = model(x)\n",
    "print(out.shape)"
   ],
   "id": "56eeeea795faebb5",
   "execution_count": 170,
   "outputs": []
  },
  {
   "metadata": {
    "ExecuteTime": {
     "end_time": "2025-02-10T08:22:34.952642Z",
     "start_time": "2025-02-10T08:22:34.941419Z"
    }
   },
   "cell_type": "code",
   "source": "# optim",
   "id": "6acb0dbf552cebc6",
   "execution_count": 171,
   "outputs": []
  },
  {
   "metadata": {
    "ExecuteTime": {
     "end_time": "2025-02-10T08:22:43.187281Z",
     "start_time": "2025-02-10T08:22:43.176746Z"
    }
   },
   "cell_type": "code",
   "source": [
    "class MultiPerceptron(nn.Module):\n",
    "    def __init__(self, in_features, hidden_features, out_features):\n",
    "        # 新增参数：隐藏层神经元个数（形状）\n",
    "        super().__init__()\n",
    "        # 直接使用之前定义的线性层/全连接层 Linear\n",
    "        self.layer1 = Linear(in_features, hidden_features)\n",
    "        self.layer2 = Linear(hidden_features, out_features)\n",
    "\n",
    "    def forward(self, x):\n",
    "        x = self.layer1(x)\n",
    "        x = torch.sigmoid(x)  # 使用激活函数，增加非线性因素（此处是逐个元素计算）\n",
    "        y = self.layer2(x)\n",
    "        return y"
   ],
   "id": "d20ca708fe3d2755",
   "execution_count": 172,
   "outputs": []
  },
  {
   "metadata": {
    "ExecuteTime": {
     "end_time": "2025-02-10T08:23:44.632821Z",
     "start_time": "2025-02-10T08:23:44.623945Z"
    }
   },
   "cell_type": "code",
   "source": [
    "# in_features=3, hidden_features=4, out_features=1\n",
    "mlp = MultiPerceptron(3, 4, 1)"
   ],
   "id": "74d7f46f23dcbdd6",
   "execution_count": 173,
   "outputs": []
  },
  {
   "metadata": {
    "ExecuteTime": {
     "end_time": "2025-02-10T08:27:05.253780Z",
     "start_time": "2025-02-10T08:27:04.799926Z"
    }
   },
   "cell_type": "code",
   "source": [
    "# 设置优化器和学习率\n",
    "from torch import optim\n",
    "\n",
    "learning_rate = 0.9\n",
    "\n",
    "# 为网络设置学习率，使用随机梯度下降优化器 SGD\n",
    "optimizer = optim.SGD(params=mlp.parameters(), lr=learning_rate)\n",
    "\n",
    "# 下面就是网络的训练过程，这里我们只模仿更新一次\n",
    "optimizer.zero_grad()  # 梯度清零，因为梯度累计效应\n",
    "\n",
    "inputs = torch.randn(32, 3)  # batch_size=32, in_features=3\n",
    "output = mlp(inputs)\n",
    "output.backward(output)  # fake backward\n",
    "\n",
    "optimizer.step()  # 执行优化"
   ],
   "id": "3a8bf29612ce7671",
   "execution_count": 174,
   "outputs": []
  },
  {
   "metadata": {
    "ExecuteTime": {
     "end_time": "2025-02-10T08:27:19.248916Z",
     "start_time": "2025-02-10T08:27:19.233218Z"
    }
   },
   "cell_type": "code",
   "source": "output.shape",
   "id": "4d006868ef916514",
   "execution_count": 176,
   "outputs": []
  },
  {
   "metadata": {
    "ExecuteTime": {
     "end_time": "2025-02-10T08:29:21.142116Z",
     "start_time": "2025-02-10T08:29:21.119080Z"
    }
   },
   "cell_type": "code",
   "source": [
    "# 为不同的参数分别设置不同的学习率\n",
    "weight_params = [param for name, param in mlp.named_parameters() if name.endswith('.W')]\n",
    "bias_params = [param for name, param in mlp.named_parameters() if name.endswith('.b')]\n",
    "\n",
    "optimizer = optim.SGD([\n",
    "    {'params': bias_params},\n",
    "    {'params': weight_params, 'lr': 1e-2}\n",
    "], lr=1e-5)"
   ],
   "id": "cad10eb941c00ddf",
   "execution_count": 179,
   "outputs": []
  }
 ],
 "metadata": {
  "kernelspec": {
   "display_name": "mldl",
   "language": "python",
   "name": "mldl"
  },
  "language_info": {
   "codemirror_mode": {
    "name": "ipython",
    "version": 2
   },
   "file_extension": ".py",
   "mimetype": "text/x-python",
   "name": "python",
   "nbconvert_exporter": "python",
   "pygments_lexer": "ipython2",
   "version": "2.7.6"
  }
 },
 "nbformat": 4,
 "nbformat_minor": 5
}
